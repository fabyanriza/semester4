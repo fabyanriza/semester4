{
 "cells": [
  {
   "cell_type": "code",
   "execution_count": 20,
   "metadata": {},
   "outputs": [],
   "source": [
    "import requests\n",
    "from bs4 import BeautifulSoup as soup\n",
    "import pandas as pd\n",
    "import re\n",
    "import numpy as np\n",
    "\n",
    "def clean_spaces_and_newlines(text):\n",
    "    cleaned_text = re.sub(r'\\s+', ' ', text)\n",
    "    cleaned_text = cleaned_text.strip()\n",
    "\n",
    "    return cleaned_text\n",
    "\n",
    "def get_text(ele):\n",
    "    l = list()\n",
    "    for j in ele:\n",
    "        l.append(clean_spaces_and_newlines(j.text))\n",
    "    return l\n",
    "\n",
    "def get_info(ele):\n",
    "    return [get_text(ele.findAll(\"b\")), get_text(ele.findAll(\"span\")), get_text(ele.findAll(\"a\")), get_text(ele.findAll(\"small\"))]"
   ]
  },
  {
   "cell_type": "code",
   "execution_count": 21,
   "metadata": {},
   "outputs": [],
   "source": [
    "req_link_unformatted = \"https://mobile-legends.fandom.com/wiki/{0}\""
   ]
  },
  {
   "cell_type": "code",
   "execution_count": 22,
   "metadata": {},
   "outputs": [],
   "source": [
    "with open(\"E:/Kuliah/Kuliah/Kuliah/PRODI/Semester 3/EVD/scrap_mlbb/p1/hero.pkl\",\"rb\") as t:\n",
    "    import pickle\n",
    "    hero_list = pickle.load(t)"
   ]
  },
  {
   "cell_type": "code",
   "execution_count": 23,
   "metadata": {},
   "outputs": [
    {
     "data": {
      "text/plain": [
       "123"
      ]
     },
     "execution_count": 23,
     "metadata": {},
     "output_type": "execute_result"
    }
   ],
   "source": [
    "len(hero_list)"
   ]
  },
  {
   "cell_type": "code",
   "execution_count": 24,
   "metadata": {},
   "outputs": [],
   "source": [
    "results = {\"Hero\":[], \"Skill\":[]}\n",
    "\n",
    "for hero in hero_list:\n",
    "    # Get Parsed\n",
    "    req_link = req_link_unformatted.format(hero)\n",
    "    resp = requests.get(req_link)\n",
    "    parsed = soup(resp.text, \"html.parser\")\n",
    "\n",
    "    # Get Info\n",
    "    temp_data = []\n",
    "    for i in parsed.findAll(\"table\", {\"class\":\"wikitable\"})[2::2]:\n",
    "        info = get_info(i)\n",
    "        temp_data.append(info)\n",
    "\n",
    "    # Append To Whole\n",
    "    results[\"Hero\"].append(hero)\n",
    "    results[\"Skill\"].append(temp_data)"
   ]
  },
  {
   "cell_type": "code",
   "execution_count": 25,
   "metadata": {},
   "outputs": [
    {
     "data": {
      "text/plain": [
       "123"
      ]
     },
     "execution_count": 25,
     "metadata": {},
     "output_type": "execute_result"
    }
   ],
   "source": [
    "len(hero_list)"
   ]
  },
  {
   "cell_type": "code",
   "execution_count": 26,
   "metadata": {},
   "outputs": [],
   "source": [
    "import pickle\n",
    "\n",
    "with open(\"result_scrap.pkl\", \"wb\") as t:\n",
    "    pickle.dump(results, t)"
   ]
  },
  {
   "cell_type": "code",
   "execution_count": 27,
   "metadata": {},
   "outputs": [],
   "source": [
    "pd.DataFrame(results).to_csv(\"data_hero.csv\", index=False)"
   ]
  },
  {
   "cell_type": "code",
   "execution_count": 28,
   "metadata": {},
   "outputs": [],
   "source": [
    "data = pd.DataFrame(results)"
   ]
  },
  {
   "cell_type": "code",
   "execution_count": 29,
   "metadata": {},
   "outputs": [
    {
     "data": {
      "text/plain": [
       "[['Spear Flip', 'Skill terms'],\n",
       " ['CC',\n",
       "  'Damage',\n",
       "  '(+80% Total Physical Attack)',\n",
       "  'Physical Damage',\n",
       "  'Physical Skill Damage'],\n",
       " ['',\n",
       "  'Cooldown',\n",
       "  'Mana Cost',\n",
       "  '(+80% Total Physical Attack)',\n",
       "  'Physical Damage',\n",
       "  'Airborne'],\n",
       " ['12.0 / 11.5 / 11.0 / 10.5 / 10.0 / 9.5', '80 / 85 / 90 / 95 / 100 / 105']]"
      ]
     },
     "execution_count": 29,
     "metadata": {},
     "output_type": "execute_result"
    }
   ],
   "source": [
    "data[\"Skill\"].sample(1).values[0][1]"
   ]
  }
 ],
 "metadata": {
  "kernelspec": {
   "display_name": "Python 3",
   "language": "python",
   "name": "python3"
  },
  "language_info": {
   "codemirror_mode": {
    "name": "ipython",
    "version": 3
   },
   "file_extension": ".py",
   "mimetype": "text/x-python",
   "name": "python",
   "nbconvert_exporter": "python",
   "pygments_lexer": "ipython3",
   "version": "3.10.0"
  }
 },
 "nbformat": 4,
 "nbformat_minor": 2
}

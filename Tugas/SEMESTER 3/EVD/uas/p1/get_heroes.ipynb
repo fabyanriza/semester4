{
 "cells": [
  {
   "cell_type": "code",
   "execution_count": 1,
   "metadata": {},
   "outputs": [],
   "source": [
    "import requests\n",
    "from bs4 import BeautifulSoup as soup\n",
    "import pandas as pd\n",
    "import re\n",
    "import numpy as np\n",
    "\n",
    "def clean_spaces_and_newlines(text):\n",
    "    cleaned_text = re.sub(r'\\s+', ' ', text)\n",
    "    cleaned_text = cleaned_text.strip()\n",
    "\n",
    "    return cleaned_text"
   ]
  },
  {
   "cell_type": "code",
   "execution_count": 2,
   "metadata": {},
   "outputs": [],
   "source": [
    "req_link = \"https://mobile-legends.fandom.com/wiki/List_of_heroes\""
   ]
  },
  {
   "cell_type": "code",
   "execution_count": 3,
   "metadata": {},
   "outputs": [],
   "source": [
    "resp = requests.get(req_link)\n",
    "parsed = soup(resp.text, \"html.parser\")"
   ]
  },
  {
   "cell_type": "code",
   "execution_count": 4,
   "metadata": {},
   "outputs": [],
   "source": [
    "hero_list = list()\n",
    "for i in parsed.findAll(\"table\", {\"class\":\"fandom-table sortable\"}):\n",
    "    for j in i.findAll(\"td\"):\n",
    "        if len(j.text.split(\",\")) >= 2:\n",
    "            hero_name = j.text.split(\",\")[0]\n",
    "            hero_list.append(hero_name)\n",
    "        elif len(j.text.split(\",\")) == 1:\n",
    "            hero_name = j.text.split(\",\")[0]\n",
    "            hero_list.append(hero_name)"
   ]
  },
  {
   "cell_type": "code",
   "execution_count": 5,
   "metadata": {},
   "outputs": [],
   "source": [
    "hero_list = hero_list[1::9]"
   ]
  },
  {
   "cell_type": "code",
   "execution_count": 6,
   "metadata": {},
   "outputs": [
    {
     "data": {
      "text/plain": [
       "123"
      ]
     },
     "execution_count": 6,
     "metadata": {},
     "output_type": "execute_result"
    }
   ],
   "source": [
    "len(hero_list)"
   ]
  },
  {
   "cell_type": "code",
   "execution_count": 7,
   "metadata": {},
   "outputs": [],
   "source": [
    "import pickle\n",
    "\n",
    "with open(\"hero.pkl\", \"wb\") as t:\n",
    "    pickle.dump(hero_list, t)"
   ]
  }
 ],
 "metadata": {
  "kernelspec": {
   "display_name": "Python 3",
   "language": "python",
   "name": "python3"
  },
  "language_info": {
   "codemirror_mode": {
    "name": "ipython",
    "version": 3
   },
   "file_extension": ".py",
   "mimetype": "text/x-python",
   "name": "python",
   "nbconvert_exporter": "python",
   "pygments_lexer": "ipython3",
   "version": "3.10.0"
  }
 },
 "nbformat": 4,
 "nbformat_minor": 2
}

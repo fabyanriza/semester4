{
 "cells": [
  {
   "attachments": {},
   "cell_type": "markdown",
   "metadata": {},
   "source": [
    "### Nama      : Fabyan Riza Kiram\n",
    "### NIM       : 164221068\n",
    "### Kelas     : SD - A2"
   ]
  },
  {
   "cell_type": "code",
   "execution_count": 1,
   "metadata": {},
   "outputs": [],
   "source": [
    "import math as m"
   ]
  },
  {
   "attachments": {},
   "cell_type": "markdown",
   "metadata": {},
   "source": [
    "### Soal No 1\n",
    "1. Buatlah sebuah program untuk menghitung faktor dari suatu bilangan. Contoh: jika\n",
    "pengguna memberikan input “4” maka program akan menampilkan semua faktor dari\n",
    "bilangan tersebut yaitu, 1, 2, dan 4."
   ]
  },
  {
   "cell_type": "code",
   "execution_count": null,
   "metadata": {},
   "outputs": [],
   "source": [
    "#Soal no 1\n",
    "angka = int(input('Masukkan angka yang diinginkan: ')) #User diminta untuk memasukkan angka\n",
    "wadah = [] #Tempat untuk meletakkan faktor\n",
    "\n",
    "def faktor_angka(angka): #Membuat fungsi\n",
    "    print('Faktor dari', angka, 'adalah: ')\n",
    "    for i in range(1, angka + 1): #menentukan range untuk menguji coba angka\n",
    "        if angka % i == 0:#menguji coba angka(jika angka yang diinginkan dibagi oleh 'i' dan memiliki sisa 0, maka angka 'i' akan diletakkan di wadah)\n",
    "            wadah.append(i) #menambahkan angka i kedalam wadah\n",
    "    print(wadah)#Print wadah yang telah ditambahkan faktor\n",
    "           \n",
    "\n",
    "faktor_angka(angka)#memanggil fungsi\n"
   ]
  },
  {
   "attachments": {},
   "cell_type": "markdown",
   "metadata": {},
   "source": [
    "\n",
    "\n",
    "Penjelasan:\n",
    "- angka adalah variabel dimana user diminta untuk memasukkan angka yang ingin dicari faktornya\n",
    "- wadah adalah tempat untuk meletakkan faktor-faktor dari sebuah angka(menjadi list)\n",
    "- membuat fungsi 'faktor_angka' dimana parameternya adalah angka\n",
    "- for loop digunakan untuk mencari range dari parameter angka\n",
    "- Jika 'i' dibagi dengan parameter angka dan tidak memiliki sisa pembagian, maka 'i' akan dimasukkan kedalam wadah\n",
    "- print wadah agar output cell mengeluarkan hasil faktor dari angka\n",
    "\n",
    "\n"
   ]
  },
  {
   "attachments": {},
   "cell_type": "markdown",
   "metadata": {},
   "source": [
    "### Soal No 2\n",
    "Buatlah program untuk menghitung luas dan keliling sebuah lingkaran menggunakan modul math pada Python."
   ]
  },
  {
   "cell_type": "code",
   "execution_count": null,
   "metadata": {},
   "outputs": [],
   "source": [
    "#Soal No 2\n",
    "jari_jari = float(input('Masukkan jari-jari lingkaran: ')) #user memasukkan jari-jari lingkaran\n",
    "\n",
    "keliling = 2 * m.pi * jari_jari #rumus keliling lingkaran\n",
    "luas = m.pi * m.pow(jari_jari, 2) #rumus luas lingkaran\n",
    "\n",
    "print('luas lingkaran adalah', luas,'\\nKeliling lingkaran adalah', keliling) #print hasil"
   ]
  },
  {
   "attachments": {},
   "cell_type": "markdown",
   "metadata": {},
   "source": [
    "\n",
    "\n",
    "Penjelasan:\n",
    "- jari_jari adalah variabel dimana user diminta untuk memasukkan suatu jari-jari lingkaran\n",
    "- input menggunakan float agar dapat memasukkan angka desimal\n",
    "- Keliling adalah variabel yang diisi dengan rumus keliling lingkaran\n",
    "- Luas adalah variabel yang diisi dengan rumus luas lingkaran\n",
    "- output cell adalah hasil luas dan keliling lingkaran dari jari-jari yang dimasukkan user\n"
   ]
  },
  {
   "attachments": {},
   "cell_type": "markdown",
   "metadata": {},
   "source": [
    "### Soal No 3\n",
    "Buatlah program trigonometri sederhana untuk menghitung nilai cos, sin, dan tan dari suatu sudut"
   ]
  },
  {
   "cell_type": "code",
   "execution_count": 4,
   "metadata": {},
   "outputs": [
    {
     "name": "stdout",
     "output_type": "stream",
     "text": [
      "Sudut dari sin 30 adalah 0.49999999999999994\n"
     ]
    }
   ],
   "source": [
    "trigono = int(input('Pilihlah trigonometri yang ingin dicari\\n1. Sudut Sin\\n2. Sudut Cos\\n3. Sudut Tan\\nAngka:'))#User memilih trigonometri yang ingin digunakan\n",
    "sudut = int(input('Pilihlah sudut yang ingin di cari(derajat):'))#User memilih berapa sudut yang ingin dicari\n",
    "radian = m.radians(sudut)\n",
    "\n",
    "if trigono == 1:\n",
    "    print('Sudut dari sin', sudut,'adalah',m.sin(radian))#hsail sinus dari sudut yang dipilih user akan di print \n",
    "elif trigono == 2:\n",
    "    print('Sudut dari cos', sudut,'adalah',m.cos(radian))#hsail cosinus dari sudut yang dipilih user akan di print\n",
    "elif trigono == 3:\n",
    "    print('Sudut dari tan', sudut,'adalah',m.tan(radian))#hsail tangen dari sudut yang dipilih user akan di print\n",
    "else:\n",
    "    print('Angka yang anda masukkan salah.')#jika user salah memasukkan angka trigonometri"
   ]
  },
  {
   "attachments": {},
   "cell_type": "markdown",
   "metadata": {},
   "source": [
    "Penjelasan:\n",
    "- trigono adalah variabel untuk pemilihan fungsi trigonometri\n",
    "- sudut adalah variabel dimana user diminta untuk memasukkan besar sudut\n",
    "- radian adalah variabel dimana besar sudut akan diubah menjadi radian dengan fungsi modul math\n",
    "- if digunakan untuk mencari kondisi variabel(trigono):\n",
    "    - jika trigono = 1, maka fungsi sin yang akan di print\n",
    "    - jika trigono = 2, maka fungsi cos yang akan di print\n",
    "    - jika trigono = 3, maka fungsi cos yang akan di print\n",
    "    - dan jika trigono = selain 3 opsi tersebut, program akan memberitahu user bahwa input yang diberikan salah"
   ]
  },
  {
   "attachments": {},
   "cell_type": "markdown",
   "metadata": {},
   "source": [
    "### Soal No 4\n",
    "\n",
    "Buatlah program untuk menghitung nilai logaritma dari suatu bilangan. Jika input berupa\n",
    "bilangan negatif, nol atau non-numerik, maka tampilkan pesan “TypeError”."
   ]
  },
  {
   "cell_type": "code",
   "execution_count": 8,
   "metadata": {},
   "outputs": [
    {
     "name": "stdout",
     "output_type": "stream",
     "text": [
      "Angka yang anda masukkan salah, coba lagi: \n",
      "logaritma dari 2.0log2.0 adalah 1.0\n"
     ]
    }
   ],
   "source": [
    "#Soal No 4\n",
    "\n",
    "while True:\n",
    "    try:\n",
    "        y = float(input('Masukkan basis logaritma yang diinginkan :' ))\n",
    "        x = float(input('Masukkan numerus logaritma yang diinginkan : '))\n",
    "    except ValueError:\n",
    "       print('TypeError')\n",
    "       continue\n",
    "    if x <= 0 or y <= 0 or y == 1:\n",
    "        print('Angka yang anda masukkan salah, coba lagi: ')\n",
    "    else:\n",
    "        log = m.log(x,y)\n",
    "        break\n",
    "\n",
    "print('logaritma dari ' + str(y) + 'log' + str(x) + ' adalah', log)"
   ]
  },
  {
   "attachments": {},
   "cell_type": "markdown",
   "metadata": {},
   "source": [
    "Penjelasan: \n",
    "- While True digunakan untuk mengulangi program jika input yang diberikan user salah\n",
    "- y adalah variabel untuk meng-input basis logaritma\n",
    "- x adalah variabel untuk meng-input numerus logaritma\n",
    "- Jika user meng-input selain angka maka program akan meng-print 'typeerror'\n",
    "- Jika user memasukkan negatif atau basis = 1, maka program akan memerintahkan user untuk mecoba kembali\n",
    "- Program akan menghitung logaritma menggunakan fungsi log dalam modul math\n",
    "- Output program akan memberitahu hasil dari logaritma yang telah dimasukkan user"
   ]
  },
  {
   "attachments": {},
   "cell_type": "markdown",
   "metadata": {},
   "source": [
    "### Soal No 5\n",
    "Buatlah program untuk menghitung nilai faktorial dari suatu bilangan. Contoh: faktorial dari 6 adalah 6 x 5 x 4 x 3 x 2 x 1 = 720"
   ]
  },
  {
   "cell_type": "code",
   "execution_count": 6,
   "metadata": {},
   "outputs": [
    {
     "name": "stdout",
     "output_type": "stream",
     "text": [
      "faktorial dari 8! adalah  8 x 7 x 6 x 5 x 4 x 3 x 2 x 1 atau = 40320\n"
     ]
    }
   ],
   "source": [
    "#Soal no 5\n",
    "angka_faktorial = int(input('Masukkan angka yagn diinginkan')) \n",
    "\n",
    "\n",
    "def faktorial(x): \n",
    "    faktor = 1\n",
    "    for i in range(1, x + 1):\n",
    "        faktor = faktor*i \n",
    "    return faktor\n",
    "\n",
    "def output(y):\n",
    "    proses = ' '\n",
    "    for i in range(y, 0, -1):\n",
    "        proses += str(i)\n",
    "        while i > 1:\n",
    "            proses += \" x \"\n",
    "            break\n",
    "    return proses\n",
    "    \n",
    "\n",
    "\n",
    "\n",
    "print('faktorial dari ' + str(angka_faktorial) + '! adalah', output(angka_faktorial), 'atau =',  faktorial(angka_faktorial)) \n",
    "        "
   ]
  },
  {
   "attachments": {},
   "cell_type": "markdown",
   "metadata": {},
   "source": [
    "Penjelasam:\n",
    "- angka_faktorial adalah variabel dimana user diminta unutk memasukkan suatu angka\n",
    "- Fungsi faktorial(x) digunakan untuk menghitung hasil faktorial dengan parameter angka yang telah diinput user\n",
    "- for loop digunakan untuk mencari range dari angka yang diberikan user\n",
    "- rumus faktor adalah setiap angka di dalam 'i' akan dikalikan dengan 1 dan akan diulang hingga range mencapai angka yang diinput user\n",
    "- fungsi output(y) digunakan untuk membuat output program (4 x 3 x 2 x 1)\n",
    "- variabel proses adalah variabel kosong yang nantinya akan diisi tergantung dengan angka yang diinput oleh user\n",
    "- pengulangan dilakukan saat 'i' bukan sama dengan 1 dan akan dimasukkan dalam string dengan selingan 'x'\n",
    "- Program akan meng-print hasil dari faktorial dan proses yang ditempu untuk mendapatkan hasil tersebut"
   ]
  }
 ],
 "metadata": {
  "kernelspec": {
   "display_name": "Python 3",
   "language": "python",
   "name": "python3"
  },
  "language_info": {
   "codemirror_mode": {
    "name": "ipython",
    "version": 3
   },
   "file_extension": ".py",
   "mimetype": "text/x-python",
   "name": "python",
   "nbconvert_exporter": "python",
   "pygments_lexer": "ipython3",
   "version": "3.10.7"
  },
  "orig_nbformat": 4,
  "vscode": {
   "interpreter": {
    "hash": "ba09a9face49bbedf6ea6011de2d7b28c017e44b787f6ffaf32a4030ba18e2f6"
   }
  }
 },
 "nbformat": 4,
 "nbformat_minor": 2
}

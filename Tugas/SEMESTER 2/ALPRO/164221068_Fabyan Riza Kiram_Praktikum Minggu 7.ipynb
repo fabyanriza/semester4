{
 "cells": [
  {
   "attachments": {},
   "cell_type": "markdown",
   "metadata": {},
   "source": [
    "## **Tugas Praktikum Minggu Ke-7**\n",
    "\n",
    "### Nama    : Fabyan Riza Kiram\n",
    "### Kelas   : SD - A2\n",
    "### NIM     : 164221068"
   ]
  },
  {
   "attachments": {},
   "cell_type": "markdown",
   "metadata": {},
   "source": [
    "### **Soal No 1**\n",
    "Lakukan semua percobaan praktikum di atas secara mandiri (1-5)"
   ]
  },
  {
   "cell_type": "code",
   "execution_count": null,
   "metadata": {},
   "outputs": [],
   "source": [
    "# contoh 1\n",
    "i = 1\n",
    "\n",
    "while i < 6:\n",
    " \n",
    " print(i)\n",
    " if i == 3:\n",
    "    break\n",
    " i += 1"
   ]
  },
  {
   "attachments": {},
   "cell_type": "markdown",
   "metadata": {},
   "source": [
    "### **Penjelasan**\n",
    "\n",
    "- `i` adalah variabel yang dideklarasikan dengan angka 1.\n",
    "\n",
    "```js\n",
    "while i < 6:\n",
    "```\n",
    "- Saat program dijalankan, maka program akan melakukan pengecekan (dengan menggunakan `while` loop) apakah nilai variabel `i` lebih kecil daripada 6\n",
    "- Jika variabel `i` lebih kecil daripada 6, maka program akan dilanjutkan\n",
    "- Jika variabel `i` lebih besar maka program tidak akan meng-output apa-apa\n",
    "\n",
    "```js\n",
    "print(i)\n",
    " if i == 3:\n",
    "    break\n",
    " i += 1\n",
    " ```\n",
    "- program akan meng-print variabel `i`\n",
    "- Setelah itu, program akan melakukan pengecekan menggunakan `if` statement.\n",
    "- Jika variabel `i` = 3, maka `while` loop akan dibreak\n",
    "- Tetapi jika tidak, maka nilai dari variable `i` akan ditambah 1\n",
    "- Hal itu akan dilakukan terus menerus hingga salah satu syarat tidak terpenuhi atau `break` telah dieksekusi\n",
    "- di program di atas `while` loop dibreak saat nilai `i` = 3\n",
    "` Oleh karena itu mengapa program hanya mengoutput angka 1,2, dan 3\n"
   ]
  },
  {
   "cell_type": "code",
   "execution_count": null,
   "metadata": {},
   "outputs": [],
   "source": [
    "# Contoh No 2\n",
    "i = 0\n",
    "while i < 6:\n",
    " i += 1\n",
    " if i == 3:\n",
    "    continue\n",
    " print(i)"
   ]
  },
  {
   "attachments": {},
   "cell_type": "markdown",
   "metadata": {},
   "source": [
    "### **Penjelasan:**\n",
    "\n",
    "- `i` adalah variabel yang bernilai 0\n",
    "```js\n",
    "while i<6:\n",
    "```\n",
    "- Saat program dijalankan, maka program akan melakukan pengecekan (dengan menggunakan `while` loop) apakah nilai variabel `i` lebih kecil daripada 6\n",
    "- Jika variabel `i` lebih kecil daripada 6, maka program akan dilanjutkan\n",
    "- Jika variabel `i` lebih besar maka program tidak akan meng-output apa-apa\n",
    "```js\n",
    "i += 1\n",
    " if i == 3:\n",
    "    continue\n",
    " print(i)\n",
    "```\n",
    "- variabel `i` akan ditambah 1\n",
    "- jika variabel `i` **sama dengan** 3, maka program akan melanjutkan loop (loop akan mulai dari paling atas)\n",
    "- jika variabel `i` **tidak sama dengan** , maka program akan meng-print variabel `i`\n"
   ]
  },
  {
   "cell_type": "code",
   "execution_count": null,
   "metadata": {},
   "outputs": [],
   "source": [
    "# Contoh No 3\n",
    "orang = [\"aku\", \"kamu\", \"dia\"]\n",
    "for x in orang:\n",
    "    print(x)\n",
    "    if x == \"kamu\":\n",
    "        break\n"
   ]
  },
  {
   "attachments": {},
   "cell_type": "markdown",
   "metadata": {},
   "source": [
    "### **Penjelasan:**\n",
    "- `orang` adalah suatu variabel yang berisikan list\n",
    "```js\n",
    "for x in orang:\n",
    "```\n",
    "- Saat dijalankan, program akan menggunakan for loop untuk melakukan pengecekan terhadapa semua elemen yang ada di dalam list\n",
    "```js\n",
    "print(x)\n",
    "if  x == \"kamu\":\n",
    "    break\n",
    "```\n",
    "- pertama, program akan meng-print elemen yang ada di dalam list\n",
    "- Kemudian program akan melakukan pengecekan apakah elemen yang diambil adalah string 'kamu'\n",
    "- Jika iya, maka program akan menghentikan loop\n",
    "- Jika tidak, maka program akan meneruskan loop hingga elemen yang ada di dalam list habis atau command break telah dieksekusi. \n",
    "\n"
   ]
  },
  {
   "cell_type": "code",
   "execution_count": null,
   "metadata": {},
   "outputs": [],
   "source": [
    "# Contoh No 4\n",
    "\n",
    "nama = [\"ani\", \"angel\", \"lelga\", \"viki\", \"prasetyo\"]\n",
    "for x in nama:\n",
    " if x == \"viki\":\n",
    "    continue\n",
    " print(x)"
   ]
  },
  {
   "attachments": {},
   "cell_type": "markdown",
   "metadata": {},
   "source": [
    "### **Penjelasan:**\n",
    "\n",
    "- `nama` adalah variabel yang berisikan list\n",
    "```js\n",
    "for x in nama:\n",
    "```\n",
    "- Saat program dijalankan. akan digunakan for loop untuk melakukan pengecekan terhadap semua elemen yang ada di dalam list\n",
    "```js\n",
    "if x == \"viki\":\n",
    "    continue\n",
    "print(x)\n",
    "```\n",
    "- Pertama program akan mengecek apakah nilai `x` sama denga 'viki'\n",
    "- Jika iya, program akan melanjutkan loop dan meneruskan pengecekan dengan elemen list yang lain\n",
    "- JIka tidak maka program akan meng-print variabel `x` dimana bernilai salah satu elemen yang ada di dalam list\n",
    "- for loop akan berhenti jika semua elemen di dalam list `nama` telah melakukan pengecekan\n"
   ]
  },
  {
   "cell_type": "code",
   "execution_count": null,
   "metadata": {},
   "outputs": [],
   "source": [
    "# contoh no 5\n",
    "\n",
    "# range contoh 1\n",
    "for x in range (6):\n",
    " print(x)\n",
    "# range contoh 2\n",
    "for x in range (2, 6):\n",
    " print(x)"
   ]
  },
  {
   "attachments": {},
   "cell_type": "markdown",
   "metadata": {},
   "source": [
    "### **Penjelasan:**\n",
    "\n",
    "- range adalah salah satu fungsi dalam python yang digunakan untuk mengambil range suatu angka yang diberikan di dalam argumen\n",
    "```js\n",
    "for x in range(6):\n",
    "    print(x)\n",
    "```\n",
    "- Jika hanya diberikan satu argumen, maka secara default fungsi akan memulai range dari angka 0\n",
    "- Dalam fungsi range, range akhir tidak akan masuk ke dalam output, artinya jika user memberikan argumen 6 dalam fungsi, maka program hanya akan memberikan angka hingga 5.\n",
    "- for loop digunakan dengan banyak perulangan berdasarkan argumen di dalam range\n",
    "- program akan meng-print `x` dimana `x` adalah semua elemen yang ada di range 6 (0,1,2,3,4,5)\n",
    "```js\n",
    "for x in range (2, 6):\n",
    " print(x)\n",
    "```\n",
    "- User memberikan 2 argumen dimana angka 2 sebagai range awal dan 6 sebagai range akhir\n",
    "- for loop digunakan dengan banyak perulangan berdasarkan argumen di dalam range\n",
    "- program akan meng-print `x` dimana `x` adalah semua elemen yang ada di range 2 hingga sebelum 6 (2,3,4,5)\n"
   ]
  },
  {
   "attachments": {},
   "cell_type": "markdown",
   "metadata": {},
   "source": [
    "### **Soal No 2**"
   ]
  },
  {
   "cell_type": "code",
   "execution_count": 1,
   "metadata": {},
   "outputs": [
    {
     "name": "stdout",
     "output_type": "stream",
     "text": [
      "****\n",
      "****\n",
      "****\n",
      "****\n"
     ]
    }
   ],
   "source": [
    "while True:\n",
    "    try:\n",
    "        angka = int(input(\"Masukkan sebuah angka: \"))\n",
    "    except ValueError:\n",
    "        print('error')\n",
    "    if angka < 1:\n",
    "        print('error')\n",
    "    else:\n",
    "        break\n",
    "\n",
    "while True:\n",
    "    try:\n",
    "        bentuk = input(\"segitiga atau persegi?\")\n",
    "    except bentuk.lower() != \"segitiga\" and bentuk.lower() != \"persegi\":\n",
    "        print(\"error\")\n",
    "    if bentuk.lower() == \"segitiga\":\n",
    "        for i in range (angka,0):\n",
    "            print(\"*\" * i)\n",
    "        break\n",
    "    elif bentuk.lower() == \"persegi\":\n",
    "        for i in range (angka):\n",
    "            print(\"*\" * angka)\n",
    "        break\n",
    "    else:\n",
    "        continue"
   ]
  },
  {
   "attachments": {},
   "cell_type": "markdown",
   "metadata": {},
   "source": [
    "### **Penjelasan**\n",
    "- while True digunakan agar program dapat tetap berjalan terus menerus (kecuali jika command break telah dieksekusi)\n",
    "```js\n",
    "    try:\n",
    "        angka = int(input(\"Masukkan sebuah angka: \"))\n",
    "    except ValueError:\n",
    "        print('error')\n",
    "    if angka < 1:\n",
    "        print('error')\n",
    "    else:\n",
    "        break\n",
    "```\n",
    "- Program akan memintar user untuk memasukkan sebuah angka yang diinginkan, nantinya angka ini menjadi salah satu indikator banyak baris atau kolom yang akan keluar dalam output\n",
    "- Jika user memasukkan input selain angka , maka program akan memberikan pesan error dan program akan meminta user memasukkan angka kemball\n",
    "- JIka user memasukkan input angka negatif, maka program akan memberikan pesan error dan program akan meminta user memasukkan angka kemball\n",
    "- Jika user memasukkan angka positif, maka `while True` akan dibreak dan dilanjutkan ke baris selanjutnya\n",
    "```js\n",
    "while True:\n",
    "    try:\n",
    "        bentuk = input(\"segitiga atau persegi?\")\n",
    "    except bentuk.lower() != \"segitiga\" and bentuk.lower() != \"persegi\":\n",
    "        print(\"error\")\n",
    "    if bentuk.lower() == \"segitiga\":\n",
    "        for i in range (angka,0,-1):\n",
    "            print(\"*\" * i)\n",
    "        break\n",
    "    elif bentuk.lower() == \"persegi\":\n",
    "        for i in range (angka):\n",
    "            print(\"*\" * angka)\n",
    "        break\n",
    "    else:\n",
    "        continue\n",
    "```\n",
    "- Program akan memberikan user pilihan (segitiga/persegi) yang menentukan bentuk dari hasil output nanti\n",
    "- \n",
    "\n"
   ]
  }
 ],
 "metadata": {
  "kernelspec": {
   "display_name": "Python 3",
   "language": "python",
   "name": "python3"
  },
  "language_info": {
   "codemirror_mode": {
    "name": "ipython",
    "version": 3
   },
   "file_extension": ".py",
   "mimetype": "text/x-python",
   "name": "python",
   "nbconvert_exporter": "python",
   "pygments_lexer": "ipython3",
   "version": "3.10.7"
  },
  "orig_nbformat": 4
 },
 "nbformat": 4,
 "nbformat_minor": 2
}

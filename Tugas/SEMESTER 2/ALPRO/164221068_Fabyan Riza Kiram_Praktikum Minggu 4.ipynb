{
 "cells": [
  {
   "attachments": {},
   "cell_type": "markdown",
   "metadata": {},
   "source": [
    "### Soal No 1\n",
    "\n",
    "Buatlah sebuah program yang dapat menampilkan kebalikan dari suatu string sesuai \n",
    "dengan inputan dari pengguna"
   ]
  },
  {
   "cell_type": "code",
   "execution_count": 28,
   "metadata": {},
   "outputs": [
    {
     "name": "stdout",
     "output_type": "stream",
     "text": [
      "ayabaruS\n"
     ]
    }
   ],
   "source": [
    "kata_awal = input('Pilihlah sebuah kata : ')\n",
    "modif = kata_awal[::-1]\n",
    "print(modif)\n"
   ]
  },
  {
   "attachments": {},
   "cell_type": "markdown",
   "metadata": {},
   "source": [
    "- kata_awal adalah variabel dimana program meminta user memasukkan sebuah kata yang akan modifikasi\n",
    "- modif adalah variabel dimana kata akan dimodifikasi\n",
    "- kata_awal[::-1] adalah sebuah fungsi index [awal : akhir : langkah]\n",
    "- -1 digunakan agar teks dibalik/reverse oleh program\n",
    "- Program meng-output hasil modifikasi"
   ]
  },
  {
   "attachments": {},
   "cell_type": "markdown",
   "metadata": {},
   "source": [
    "### Soal No 2\n",
    "\n",
    "Buatlah kode program untuk menampilkan string “abcdefghi” menjadi urutan seperti \n",
    "berikut ini:\n",
    "<br>\n",
    "ab\n",
    "<br>\n",
    "bc\n",
    "<br>\n",
    "cd\n",
    "<br>\n",
    "de\n",
    "<br>\n",
    "ef\n",
    "<br>\n",
    "fg\n",
    "<br>\n",
    "gh\n",
    "<br>\n",
    "hi"
   ]
  },
  {
   "cell_type": "code",
   "execution_count": 3,
   "metadata": {},
   "outputs": [
    {
     "name": "stdout",
     "output_type": "stream",
     "text": [
      "ab\n",
      "bc\n",
      "cd\n",
      "de\n",
      "ef\n",
      "fg\n",
      "gh\n",
      "hi\n"
     ]
    }
   ],
   "source": [
    "alphabet = 'abcdefghi'\n",
    "\n",
    "for i in range(0, len(alphabet) - 1):\n",
    "    print(alphabet[i:i+2])"
   ]
  },
  {
   "attachments": {},
   "cell_type": "markdown",
   "metadata": {},
   "source": [
    "Penjelasan:\n",
    "\n",
    "- variabel alphabet adalah string yang ingin diubah output-nya\n",
    "- for loop digunakan dengan range 0 hingga 8(angka ini berdasarkan dari banyak baris yang ingin di output)\n",
    "- meng-output [i : 1 + 2] dalam string alphabet, misal i = 0, maka program akan meng-print huruf dalam alphabet dari indeks 0 hingga 1(a dan b) dan seterusnya hingga huruf terakhir"
   ]
  },
  {
   "attachments": {},
   "cell_type": "markdown",
   "metadata": {},
   "source": [
    "### Soal No 3\n",
    "\n",
    "Buatlah kode program untuk mengecek apakah terdapat kata “Mereka” dalam paragraf di \n",
    "bawah ini, kemudian hitung berapa banyak kata “Saya” dan kata “saya” yang muncul \n",
    "dalam paragraf tersebut."
   ]
  },
  {
   "cell_type": "code",
   "execution_count": 5,
   "metadata": {},
   "outputs": [
    {
     "name": "stdout",
     "output_type": "stream",
     "text": [
      "Nama saya adalah Rita Sugiarto. Saya memiliki hobi menyanyi sejak kecil. Semua berawal dari mimpi ibu saya untuk memiliki putri seorang penyanyi. Saya berlatih vokal seminggu sekali dengan guru saya. Apabila saya menjadi juara satu dalam perlombaan menyanyi tingkat profinsi, ibu saya akan membelikan saya kado yang sangat istimewa.\n"
     ]
    }
   ],
   "source": [
    "teks = \"Nama saya adalah Rita Sugiarto. Saya memiliki hobi menyanyi sejak kecil. Semua berawal dari mimpi ibu saya untuk memiliki putri seorang penyanyi. Saya berlatih vokal seminggu sekali dengan guru saya. Apabila saya menjadi juara satu dalam perlombaan menyanyi tingkat profinsi, ibu saya akan membelikan saya kado yang sangat istimewa.\"\n",
    "\n",
    "# Mereka = teks.count('Mereka')\n",
    "# Saya = teks.count('Saya')\n",
    "# saya = teks.count('saya')\n",
    "\n",
    "# if Mereka == 0:\n",
    "#     Mereka = \"Tidak ada kata 'Mereka' dalam teks\"\n",
    "# else:\n",
    "#     print(\"Kata mereka muncul \\033[4m\" + str(Mereka) + \"\\033[0m\")\n",
    "\n",
    "# print(Mereka)\n",
    "# print(\"Kata 'Saya' muncul \\033[4m\" + str(Saya) + \" kali\" + \"\\033[0m dalam teks\")\n",
    "# print(\"Kata 'Saya' muncul \\033[4m\" + str(saya) + \" kali\" + \"\\033[0m dalam teks\")\n",
    "\n",
    "\n",
    "a = teks.replace(\"Nama saya adalah Rita Sugiarto.\", \"halo\")\n",
    "print(a)\n"
   ]
  },
  {
   "attachments": {},
   "cell_type": "markdown",
   "metadata": {},
   "source": [
    "- teks adalah variabel untuk meletakkan paragraf\n",
    "- Mereka adalah variabel untuk menghitung banyak kata 'Mereka' yang muncul dalam teks\n",
    "- Saya adalah variabel untuk menghitung banyak kata 'Saya' yang muncul dalam teks\n",
    "- saya adalah variabel untuk menghitung banyak kata 'saya' yang muncul dalam teks\n",
    "- jika tidak ada kata 'Mereka' dalam teks, maka program akan memberitahu user bahwa tidak ada kata tersebut dalam teks\n",
    "- Program akan meng-output banyak kata yang diinginkan(kata 'Mereka', 'Saya', 'saya)"
   ]
  }
 ],
 "metadata": {
  "kernelspec": {
   "display_name": "Python 3",
   "language": "python",
   "name": "python3"
  },
  "language_info": {
   "codemirror_mode": {
    "name": "ipython",
    "version": 3
   },
   "file_extension": ".py",
   "mimetype": "text/x-python",
   "name": "python",
   "nbconvert_exporter": "python",
   "pygments_lexer": "ipython3",
   "version": "3.10.7"
  },
  "orig_nbformat": 4,
  "vscode": {
   "interpreter": {
    "hash": "ba09a9face49bbedf6ea6011de2d7b28c017e44b787f6ffaf32a4030ba18e2f6"
   }
  }
 },
 "nbformat": 4,
 "nbformat_minor": 2
}

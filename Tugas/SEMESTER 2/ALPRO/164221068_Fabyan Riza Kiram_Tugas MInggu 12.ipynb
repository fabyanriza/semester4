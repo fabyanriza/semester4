{
 "cells": [
  {
   "attachments": {},
   "cell_type": "markdown",
   "metadata": {},
   "source": [
    "## Tugas Praktikum 12\n",
    "\n",
    "### Nama    : Fabyan Riza Kiram\n",
    "### Kelas   : SD-A2\n",
    "### NIM     : 164221068"
   ]
  },
  {
   "attachments": {},
   "cell_type": "markdown",
   "metadata": {},
   "source": [
    "**Nomor 1**"
   ]
  },
  {
   "cell_type": "code",
   "execution_count": 1,
   "metadata": {},
   "outputs": [],
   "source": [
    "graf = {\n",
    "    \"1\": [\"2\",\"3\",\"4\"],\n",
    "    \"2\": [],\n",
    "    \"3\": [\"4\"],\n",
    "    \"4\": [\"5\"],\n",
    "    \"5\": [\"2\",\"3\"]\n",
    "}"
   ]
  },
  {
   "attachments": {},
   "cell_type": "markdown",
   "metadata": {},
   "source": [
    "**Nomor 2**"
   ]
  },
  {
   "cell_type": "code",
   "execution_count": 4,
   "metadata": {},
   "outputs": [
    {
     "name": "stdout",
     "output_type": "stream",
     "text": [
      "Path saat ini ['1']\n",
      "Node tujuan berikutnya adalah 2 dari node sebelumnya, yaitu 1\n",
      "Path saat ini ['1']\n",
      "Node tujuan berikutnya adalah 3 dari node sebelumnya, yaitu 1\n",
      "Path saat ini ['1', '3']\n",
      "Node tujuan berikutnya adalah 4 dari node sebelumnya, yaitu 3\n",
      "Path saat ini ['1', '3', '4']\n",
      "Node tujuan berikutnya adalah 5 dari node sebelumnya, yaitu 4\n",
      "===== Jalur yang ditemukan: ['1', '3', '4', '5']\n",
      "Path saat ini ['1']\n",
      "Node tujuan berikutnya adalah 4 dari node sebelumnya, yaitu 1\n",
      "Path saat ini ['1', '4']\n",
      "Node tujuan berikutnya adalah 5 dari node sebelumnya, yaitu 4\n",
      "===== Jalur yang ditemukan: ['1', '4', '5']\n"
     ]
    },
    {
     "data": {
      "text/plain": [
       "[['1', '3', '4', '5'], ['1', '4', '5']]"
      ]
     },
     "execution_count": 4,
     "metadata": {},
     "output_type": "execute_result"
    }
   ],
   "source": [
    "def find_all_paths(graph, node_awal, node_akhir, path = []):\n",
    "    path = path + [node_awal]\n",
    "    if node_awal == node_akhir:\n",
    "        print(\"===== Jalur yang ditemukan:\", path)\n",
    "        return [path]\n",
    "    if node_awal not in graph:\n",
    "        return []\n",
    "    paths = []\n",
    "    \n",
    "    for node in graph[node_awal]:\n",
    "        print(\"Path saat ini\", path)\n",
    "        print(\"Node tujuan berikutnya adalah %s dari node sebelumnya, yaitu %s\"% (node, node_awal))\n",
    "        \n",
    "        if node not in path:\n",
    "            newpaths = find_all_paths(graph, node, node_akhir, path)\n",
    "            for newpath in newpaths:\n",
    "                paths.append(newpath)\n",
    "                \n",
    "    return paths\n",
    "\n",
    "find_all_paths(graf, \"1\", \"5\")"
   ]
  },
  {
   "attachments": {},
   "cell_type": "markdown",
   "metadata": {},
   "source": [
    "**Penjelasan**\n",
    "\n",
    "Fungsi diatas bertujuan untuk menganalisa dan menentukan jalur / rute dari titik - titik yang telah ditentukan oleh user. Berdasarkan cell diatas, user menentukan node awal = 1 dan node akhir = 5, yang artinya program akan mencari semua rute yang dapat dilalui untuk sampai ke `node_akhir`(5) dari `node_awal`(1) tanpa melakukan perulangan.\n",
    "<br>\n",
    "\n",
    "Setelah fungsi dipanggil maka program akan memasukkan node awal ke dalam path(masih menjadi list kosong pada iterasi ke-1) dan melakukan pengecekan apakah node awal telah sama dengan node akhir,jika kondisi terpenuhi maka list tersebut merupakan sebuah path dan akan di return.\n",
    "<br>\n",
    "\n",
    "Jika jalur / rute masih belum ditemukan, maka program akan mengecek cabang dari node awal menggunakan metode for loop hingga ditemukan node_akhir, jika ada salah satu node yang tidak masuk dalam jalur / rute, maka akan dilakukan rekursi hingga semua node dan jalur telah ditelusur\n",
    "<br>\n",
    "\n",
    "**Mengecek semua node agar semua jalur yang bisa dilalui untuk menuju node akhir dapat ditemukan**"
   ]
  },
  {
   "attachments": {},
   "cell_type": "markdown",
   "metadata": {},
   "source": [
    "**Nomor 3**"
   ]
  },
  {
   "cell_type": "code",
   "execution_count": null,
   "metadata": {},
   "outputs": [],
   "source": [
    "def find_shortest_path(graph, node_awal, node_akhir, path = []):\n",
    "    path = path + [node_awal]\n",
    "    if node_awal == node_akhir:\n",
    "        print(\"===== Jalur yang ditemukan:\", path)\n",
    "        return path\n",
    "    if node_awal not in graph:\n",
    "        return None\n",
    "    shortest = []\n",
    "    \n",
    "    for node in graph[node_awal]:\n",
    "        print(\"Path saat ini\", path)\n",
    "        print(\"Node tujuan berikutnya adalah\", node, \"dari node sebelumnya yaitu\", node_awal)\n",
    "        \n",
    "        if node not in path:\n",
    "            newpaths = find_shortest_path(graph, node, node_akhir, path)\n",
    "            if newpaths:\n",
    "                if not shortest or len(newpaths) < len(shortest):\n",
    "                    shortest = newpaths\n",
    "    \n",
    "    return shortest\n"
   ]
  },
  {
   "attachments": {},
   "cell_type": "markdown",
   "metadata": {},
   "source": [
    "**Penjelasan**\n",
    "\n",
    "Fungsi diatas bertujuan untuk mencari jalur / rute terdekat dari titik - titik yang telah ditentukan oleh user. Dikarenakan graph yang digunakan merupakan un-weighted graph / graph yang tidak berbobot, maka program akan menentukan rute terdekat dengan melihat langkah yang paling sedikit untuk menuju titik tujuan. Untuk mekanisme program diatas tidak jauh berbeda dari fungsi `find_all_paths`. Tetapi output yang diberikan hanya merupakan satu rute saja.\n",
    "<br>\n",
    "\n",
    "Hal ini dapat dilakukan dengan menampung semua jalur / rute dari titik yang telah ditentukan. Kemudian dilakukan pengecekan terhadap panjang list dari tiap rute yang telah ditentukan. Setelah ditemukan list terpendek, maka program akan me-return list tersebut.\n",
    "\n"
   ]
  },
  {
   "cell_type": "code",
   "execution_count": 2,
   "metadata": {},
   "outputs": [],
   "source": [
    "graf_berbobot = {\n",
    "    \"A\": {\"B\":7,\"C\":5.4,\"G\":8},\n",
    "    \"B\": {\"D\":20},\n",
    "    \"C\": {\"D\":8, \"F\":6},\n",
    "    \"D\": {\"E\":3},\n",
    "    \"E\": {},\n",
    "    \"F\": {\"2\":4},\n",
    "    \"G\":{\"F\":10}  \n",
    "}"
   ]
  },
  {
   "cell_type": "code",
   "execution_count": 7,
   "metadata": {},
   "outputs": [],
   "source": [
    "graph = {\"Kelurahan Rungkut Kidul\" : {\"Kelurahan Medokan Ayu\" : 2.16,\n",
    "                             \"Kelurahan Kedung Baruk\" : 0.63, \"Kelurahan Kalirungkut\" : 0.78},\n",
    "\n",
    "\"Kelurahan Medokan Ayu\" : {\"Kelurahan Rungkut Kidul\" : 2.16, \"Kelurahan Wonorejo\" : 1.38, \"Kelurahan Penjaringan Sari\" : 1.64,\n",
    "                           \"Kelurahan Kedung Baruk\" : 2.0},\n",
    "\n",
    "\"Kelurahan Wonorejo\" : {\"Kelurahan Medokan Ayu\" : 1.38, \"Kelurahan Penjaringan Sari\" : 1.52},\n",
    "\n",
    "\"Kelurahan Penjaringan Sari\" : {\"Kelurahan Wonorejo\" : 1.52, \"Kelurahan Kedung Baruk\" : 1.05, \"Kelurahan Kalirungkut\" : 1.69},\n",
    "\n",
    "\"Kelurahan Kedung Baruk\" : {\"Kelurahan Rungkut Kidul\" : 0.63, \"Kelurahan Medokan Ayu\" : 2.0,\"Kelurahan Penjaringan Sari\" : 1.05,\n",
    "                            \"Kelurahan Kalirungkut\" :0.73},\n",
    "\n",
    "\"Kelurahan Kalirungkut\" : {\"Kelurahan Kedung Baruk\" : 0.78, \"Kelurahan Kedung Baruk\" :0.73}\n",
    "}"
   ]
  },
  {
   "cell_type": "code",
   "execution_count": 5,
   "metadata": {},
   "outputs": [
    {
     "data": {
      "text/plain": [
       "\"Jarak terdekat yang bisa dilalui dari titik A menuju titik E secara berurut adalah ['A', 'B', 'D', 'E'] sebanyak 11 satuan\""
      ]
     },
     "execution_count": 5,
     "metadata": {},
     "output_type": "execute_result"
    }
   ],
   "source": [
    "def jalur_terjauh(graph, first_node, last_node, path = [], total = []):\n",
    "    try:\n",
    "        def rute(graph, first_node, last_node, path = []):\n",
    "            path = path + [first_node]\n",
    "            if first_node == last_node:\n",
    "                return [path]\n",
    "            if first_node not in graph:\n",
    "                return []\n",
    "            paths = []\n",
    "            for node in graph[first_node]:\n",
    "                if node not in path:\n",
    "                    newpaths = rute(graph, node, last_node, path)\n",
    "                    for newpath in newpaths:\n",
    "                        paths.append(newpath)                \n",
    "            return paths\n",
    "        \n",
    "        altways = rute(graph, first_node, last_node, path = [])\n",
    "        for alt in altways:\n",
    "            tambah_tambahan = 0\n",
    "            for i in range(len(alt)-1):\n",
    "                if graph[alt[i]][alt[i+1]] % 2 == 0:\n",
    "                    tambah_tambahan += 1\n",
    "                else:\n",
    "                    tambah_tambahan += graph[alt[i]][alt[i+1]]          \n",
    "            total.append(tambah_tambahan)\n",
    "            \n",
    "        return \"Jarak terdekat yang bisa dilalui dari titik %s menuju titik %s secara berurut adalah %s sebanyak %s satuan\"% (first_node, last_node, altways[total.index(max(total))], max(total))\n",
    "    \n",
    "    except:\n",
    "        print(\"ERROR!\")\n",
    "        \n",
    "jalur_terjauh(graf_berbobot, \"A\", \"E\")"
   ]
  },
  {
   "cell_type": "code",
   "execution_count": null,
   "metadata": {},
   "outputs": [],
   "source": []
  }
 ],
 "metadata": {
  "kernelspec": {
   "display_name": "Python 3",
   "language": "python",
   "name": "python3"
  },
  "language_info": {
   "codemirror_mode": {
    "name": "ipython",
    "version": 3
   },
   "file_extension": ".py",
   "mimetype": "text/x-python",
   "name": "python",
   "nbconvert_exporter": "python",
   "pygments_lexer": "ipython3",
   "version": "3.10.7"
  },
  "orig_nbformat": 4
 },
 "nbformat": 4,
 "nbformat_minor": 2
}

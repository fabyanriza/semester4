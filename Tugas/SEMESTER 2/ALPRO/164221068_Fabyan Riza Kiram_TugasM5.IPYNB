{
 "cells": [
  {
   "attachments": {},
   "cell_type": "markdown",
   "metadata": {},
   "source": [
    "### __Tugas Praktikum 4__\n",
    "---\n",
    "#### Nama    : Fabyan Riza Kiram\n",
    "#### Kelas   : SD-A2\n",
    "#### NIM     : 164221068"
   ]
  },
  {
   "attachments": {},
   "cell_type": "markdown",
   "metadata": {},
   "source": [
    "### __Soal No 1__\n"
   ]
  },
  {
   "cell_type": "code",
   "execution_count": null,
   "metadata": {},
   "outputs": [],
   "source": [
    "# CONTOH 1\n",
    "\n",
    "list = [3, 6, 13, 10, 19, 45, 100, 120, 150]\n",
    "print(\"list[2]: \", list[2]) #Contoh akses nilai list dalam Python\n",
    "\n",
    "list.append(23) #Contoh update nilai list dalam Python\n",
    "list.insert(4, 17)\n",
    "print(\"Data List Setelah di Update: \", list)\n",
    "\n",
    "del list[1] #Contoh menghapus nilai list dalam Python \n",
    "print(\"Data List: \", list )\n",
    "list.remove(10)\n",
    "print(\"Data List Baru: \", list)\n",
    "\n",
    "list.clear() #Contoh menghapus semua nilai list dalam Python\n",
    "print(\"Data List Baru: \", list) "
   ]
  },
  {
   "attachments": {},
   "cell_type": "markdown",
   "metadata": {},
   "source": [
    "Penjelasan:\n",
    "\n",
    "`list[2]`\n",
    "- fungsi tersebut digunakan untuk mengambil salah satu elemen dalam list tergantung oleh indeks yang diberikan\n",
    "<br>\n",
    "\n",
    "`append(23)`\n",
    "<br>\n",
    "\n",
    "- fungsi tersebut digunakan untuk menambah suatu elemen masuk ke dalam list(di posisi paling akhir)\n",
    "- `23` adalah elemen yang akan dimasukkan ke dalam list\n",
    "<br>\n",
    "\n",
    "`insert(4, 17)`\n",
    "<br>\n",
    "\n",
    "- fungsi tersebut digunakan untuk menambah suatu elemen masuk ke dalam list\n",
    "- posisi penempatan elemen dapat diatur jika menggunakan fungsi `insert()`\n",
    "<br>\n",
    "\n",
    "`del list[1]`\n",
    "<br>\n",
    "\n",
    "- fungsi tersebut digunakan untuk menghapus suatu elemen yang ada dalam list\n",
    "- penghapusan elemen berdasarkan indeks yang telah diberikan\n",
    "<br>\n",
    "\n",
    "`remove(10)`\n",
    "<br>\n",
    "\n",
    "- fungsi tersebut digunakan untuk menghapus suatu elemen dalam list\n",
    "- argumen/parameter yang digunakan adalah nilai dari elemen dalam list itu sendiri\n",
    "<br>\n",
    "\n",
    "`clear()`\n",
    "<br>\n",
    "\n",
    "- fungsi tersebut digunakan untuk menghapus semua elemen yang ada dalam sebuah list\n",
    "- jika list yang telah di-clear dipanggil maka akan mengembalikan list kosong\n"
   ]
  },
  {
   "cell_type": "code",
   "execution_count": null,
   "metadata": {},
   "outputs": [],
   "source": [
    "# CONTOH 2\n",
    "\n",
    "list = (3, 6, 13, 10, 19, 45, 100, 120, 150)\n",
    "list1=len(list)\n",
    "print('List: ', list)\n",
    "print('Panjang List: ', list1)"
   ]
  },
  {
   "attachments": {},
   "cell_type": "markdown",
   "metadata": {},
   "source": [
    "Penjelasan:\n",
    "\n",
    "`list1=len(list)`\n",
    "- Variabel tersebut digunakan untuk menghitung banyaknya suatu yang ada di dalam tuple"
   ]
  },
  {
   "cell_type": "code",
   "execution_count": null,
   "metadata": {},
   "outputs": [],
   "source": [
    "# CONTOH 3\n",
    "\n",
    "kelas ={\n",
    "    \"Andrian\":\"A1\", \n",
    "    \"Vancy\":\"A2\", \n",
    "    \"Dewi\":\"A3\"}\n",
    "p= kelas.keys()\n",
    "l=list(kelas.keys())\n",
    "v= kelas.values()\n",
    "i=kelas.items()\n",
    "g=kelas.get(\"Cahyo\")\n",
    "g1=kelas.get(\"Fitri\",\"NO ENTRY\")\n",
    "\n",
    "print(i)\n"
   ]
  },
  {
   "attachments": {},
   "cell_type": "markdown",
   "metadata": {},
   "source": [
    "Penjelasan: \n",
    "\n",
    "- Variabel `kelas` adalah code ber-tipe dictionary (ditandai dengan kurung kurawal)\n",
    "- String disebeleh kiri dinamakan keys\n",
    "- String disebeleh kanan dinamakan values\n",
    "<br>\n",
    "\n",
    "`kelas.keys()`\n",
    "<br>\n",
    "\n",
    "- fungsi tersebut mengembalikan `keys` yang ada dalam suatu dictionary\n",
    "<br>\n",
    "\n",
    "`list(kelas.keys())`\n",
    "<br>\n",
    "\n",
    "- fungsi ini mengembalikan `keys` dan diubah menjadi suatu list\n",
    "<br>\n",
    "\n",
    "`kelas.values()`\n",
    "<br>\n",
    "- fungsi tersebut mengembalikan `values` yang ada dalam suatu dictionary\n",
    "<br>\n",
    "\n",
    "`kelas.items()`\n",
    "<br>\n",
    "\n",
    "- fungsi tersebut mengembalikan semua element yang ada di dalam suatu dictionary\n",
    "<br>\n",
    "\n",
    "`kelas.get(\"Cahyo\")`\n",
    "<br>\n",
    "\n",
    "- fungsi tersebut mengembalikan `values` dari parameter `keys` yang telah di-assign di dalam dictionary\n",
    "- dikarenakan `keys` tersebut tidak ada di dictionary, maka program akan meng-output `None`\n",
    "<br>\n",
    "\n",
    "`kelas.get(\"Fitri\", \"NO ENTRY\")`\n",
    "<br>\n",
    "\n",
    "- parameter ke-2 adalah output alternatif yang akan dikeluarkan program jika `keys` yang dimasukkan tidak ditemukan di dalam dictionary\n",
    "- default argumen tersebut adalah `None` "
   ]
  },
  {
   "attachments": {},
   "cell_type": "markdown",
   "metadata": {},
   "source": [
    "### __Soal No 2__"
   ]
  },
  {
   "cell_type": "code",
   "execution_count": null,
   "metadata": {},
   "outputs": [],
   "source": [
    "import random\n",
    "\n",
    "jumlah_angka = int(input(\"Masukkan berapa banyak angka yang ingin dimasukkan: \"))\n",
    "wadah = []\n",
    "\n",
    "for i in range(jumlah_angka):\n",
    "    x = random.randrange(0,100)\n",
    "    wadah.append(x)\n",
    "print(wadah)\n",
    "wadah_inv = sorted(wadah, reverse=True)\n",
    "\n",
    "print(\"Banyak angka yang diinput user adalah:\", len(wadah))\n",
    "print(\"Urutan dari yang terkecil:\", sorted(wadah))\n",
    "print(\"Urutan dari yang terbesar:\", wadah_inv)\n",
    "print(\"Nilai minimum dari list:\", min(wadah))\n",
    "print(\"Nilai maksimum dari list:\", max(wadah))"
   ]
  },
  {
   "attachments": {},
   "cell_type": "markdown",
   "metadata": {},
   "source": [
    "Penjelasan: \n",
    "\n",
    "__Menggunakan `import random` agar dapat menggunakan fungsi random untuk mengacak isi angka dalam list__\n",
    "<br>\n",
    "<br>\n",
    "Program dimulai dan meminta user untuk memilih berapa banyak angka yang ingin dimunculkan lewat variabel `jumlah_angka`. Variable `wadah` adalah sebuah list kosong yang nantinya akan diisi dengan angka-angka acak melalui fungsi `random`.\n",
    "\n",
    "```js\n",
    "for i in range(jumlah_angka):\n",
    "    x = random.randrange(0,100)\n",
    "    wadah.append(x)\n",
    "```\n",
    "- for loop digunakan untuk menentukan berapa kali perulangan yang akan dieksekusi\n",
    "- Banyaknya perulangan ditentukan oleh angka yang diberikan user melalui variable `jumlah_angka`\n",
    "- `x` adalah variabel dimana program akan mengacak suatu angka (dari 0 hingga 100) menggunakan fungsi `random`\n",
    "- angka yang telah dirandom akan dimasukkan ke dalam list `wadah` menggunakan fungsi `append()`\n",
    "\n",
    "```js\n",
    "wadah_inv = sorted(wadah, reverse=True)\n",
    "```\n",
    "- Variabel `wadah_inv` digunakan untuk mengurutkan angka dalam list dari yang terbesar ke yang terkecil\n",
    "\n",
    "Setelah semua proses telah dilakukan, program akan meng-output banyak angka dalam list(menggunakan fungsi `len()`), mengurutkan list dari yang terkecil dan dari yang terbesar(menggunakan fungsi `sorted()`), dan mencari nilai minimun dan maksimum dari list tersebut(menggunakan fungsi `min()` dan `max()`)\n"
   ]
  },
  {
   "attachments": {},
   "cell_type": "markdown",
   "metadata": {},
   "source": [
    "### __Soal No 3__"
   ]
  },
  {
   "cell_type": "code",
   "execution_count": null,
   "metadata": {},
   "outputs": [],
   "source": [
    "num_awal = int(input(\"Masukkan range awal angka: \"))\n",
    "num_akhir = int(input(\"Masukkan range akhir angka: \"))\n",
    "list_num = []\n",
    "list_prime = []\n",
    "\n",
    "for i in range(num_awal, num_akhir + 1):\n",
    "    list_num.append(i)\n",
    "\n",
    "for a in range(num_awal, num_akhir + 1):\n",
    "    if a > 1:\n",
    "        for x in range(2, a):\n",
    "            if (a % x) == 0:\n",
    "                break\n",
    "        else:\n",
    "            list_prime.append(a)\n",
    "\n",
    "print(\"List angka:\", list_num)\n",
    "print(\"Bilangan prima:\", list_prime)"
   ]
  },
  {
   "attachments": {},
   "cell_type": "markdown",
   "metadata": {},
   "source": [
    "Penjelasan:\n",
    "\n",
    "Saat user menjalankan program, maka program akan memerintahkan user untuk meng-input bilangan awal range lewat variabel `num_awal` dan meng-input bilangan akhir range lewat variabel `num_akhir`. Variabel `list_num` dan `list_prime` adalah tempat list kosong yang nantinya akan diisi oleh list angka dan bilangan prima dari range yang telah ditentukan user.\n",
    "\n",
    "```js\n",
    "for i in range(num_awal, num_akhir + 1):\n",
    "    list_num.append(i)\n",
    "```\n",
    "- for loop diatas digunakan untuk meng-output range angka yang akan dicari bilangan primanya.\n",
    "- penambah 1 pada akhir range digunakan agar bilangan akhir yang ditentukan oleh user tetap masuk ke dalam list angka\n",
    "\n",
    "```js\n",
    "for a in range(num_awal, num_akhir + 1):\n",
    "    if a > 1:\n",
    "```\n",
    "- for loop diatas digunakan untuk memberikan program range angka yang diberikan oleh user.\n",
    "- jika angka dalam range bernilai lebih besar dari 1, maka program akan melanjutkan proses.\n",
    "```js\n",
    "for x in range(2, a):\n",
    "    if (a % x) == 0:\n",
    "         break\n",
    "else:\n",
    "    list_prime.append(a)\n",
    "```\n",
    "- penggunaan range `(2, a)` digunakan agar menghindari pembagian angka 0(akan menghasilkan error) dan angka 1(karena semua angka yang dibagi 1 tidak mungkin memeiliki sisa).\n",
    "- jika nilai 'a' dibagi dengan nilai 'x' memiliki selain angka 0, maka nilai 'a' akan ditambahkan ke `list_prime` hingga di akhir range angka.\n",
    "\n",
    "Setelah semua iterasi berakhir pada bagian `break` maka program akan meng-output list angka dan bilangan primanya lewat list `num_list` dan `num_prime`.\n",
    "\n",
    "\n"
   ]
  },
  {
   "attachments": {},
   "cell_type": "markdown",
   "metadata": {},
   "source": [
    "### __Soal No 4__"
   ]
  },
  {
   "cell_type": "code",
   "execution_count": null,
   "metadata": {},
   "outputs": [],
   "source": [
    "    \n",
    "user_input = input(\"Masukkan sebuah kata yang ingin dicari sinonimnya: \")\n",
    "lowering = user_input.lower()\n",
    "\n",
    "sinonim = {\n",
    "    \"rajin\" : \"giat\",\n",
    "    \"bohong\" : \"dusta\",\n",
    "    \"haus\" : \"dahaga\",\n",
    "    \"pakaian\" : \"baju\",\n",
    "    \"bertemu\" : \"berjumpa\",\n",
    "    \"buruk\" : \"jelek\",\n",
    "    \"bunga\" : \"kembang\",\n",
    "    \"mati\" : \"wafat\",\n",
    "    \"hulubalang\" : \"komandan\",\n",
    "    \"aku\" : \"saya\",\n",
    "    \"melihat\" : \"melirik\",\n",
    "    \"afeksi\" : \"kasih sayang\",\n",
    "    \"deduksi\" : \"konklusi\",\n",
    "    }\n",
    "sinonim_inv = {i: j for j, i in sinonim.items()}\n",
    "\n",
    "if lowering in sinonim:\n",
    "    print(\"sinonim dari kata \\033[4m\" + lowering + \"\\033[0m adalah \\033[4m\" +  sinonim[lowering] +  \"\\033[0m\")\n",
    "elif lowering in sinonim_inv:\n",
    "    print(\"sinonim dari kata \\033[4m\" + lowering + \"\\033[0m adalah \\033[4m\" +  sinonim_inv[lowering] +  \"\\033[0m\")\n",
    "else:\n",
    "    print(\"kata \\033[4m\" + lowering + \"\\033[0m masih belum ada dalam kamus sinonim program.\")\n",
    "\n",
    "\n",
    "    "
   ]
  },
  {
   "attachments": {},
   "cell_type": "markdown",
   "metadata": {},
   "source": [
    "Penjelasan:\n",
    "\n",
    "Pertama program akan meminta user untuk memasukkan sebuah kata dan kata tersebut akan dimasukkan kedalam variabel bernama `lowering` untuk mengecilkan semua huruf yang telah diinput oleh user agar program tidak menjadi case sensitive. Setelah itu, program akan mengecek apakah kata yang diinput oleh user terdapat dalam dictionary\n",
    "\n",
    "```py\n",
    "\n",
    "sinonim_inv = {i: j for j, i in sinonim.items()}\n",
    "\n",
    "```\n",
    "Variable tersebut digunakan untuk membuat keys dalam dictionary menjadi values dan sebaliknya. Agar dapat melakukan pengecekan dua arah.\n",
    "(Misal bunga akan menghasilkan kembang dan kembang akan menghasilkan bunga)\n",
    "\n",
    "- Jika program menemukan kata di dalam dictionary, program akan meng-output values dari kata yang diinput\n",
    "- Dan jika program tidak menemukan kata di dalam dictionary, program akan memberitahu bahwa kata yang diinput masih belum tercantum di dalam dictionary\n",
    "\n",
    "- `\\033[4m` dan `\\033[0m` digunakan untuk menggaris bawahi kata yang diinginkan (hanya keperluan aesthetic)"
   ]
  },
  {
   "cell_type": "code",
   "execution_count": null,
   "metadata": {},
   "outputs": [],
   "source": []
  }
 ],
 "metadata": {
  "kernelspec": {
   "display_name": "Python 3",
   "language": "python",
   "name": "python3"
  },
  "language_info": {
   "codemirror_mode": {
    "name": "ipython",
    "version": 3
   },
   "file_extension": ".py",
   "mimetype": "text/x-python",
   "name": "python",
   "nbconvert_exporter": "python",
   "pygments_lexer": "ipython3",
   "version": "3.10.7"
  },
  "orig_nbformat": 4,
  "vscode": {
   "interpreter": {
    "hash": "ba09a9face49bbedf6ea6011de2d7b28c017e44b787f6ffaf32a4030ba18e2f6"
   }
  }
 },
 "nbformat": 4,
 "nbformat_minor": 2
}

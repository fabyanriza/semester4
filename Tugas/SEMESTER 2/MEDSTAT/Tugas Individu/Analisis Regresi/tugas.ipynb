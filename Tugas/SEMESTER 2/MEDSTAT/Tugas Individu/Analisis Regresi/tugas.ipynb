{
 "cells": [
  {
   "cell_type": "code",
   "execution_count": 1,
   "metadata": {},
   "outputs": [],
   "source": [
    "import pandas as pd\n",
    "import matplotlib.pyplot as plt\n",
    "import numpy as np\n",
    "import seaborn as sns\n",
    "import statsmodels.api as sm\n"
   ]
  },
  {
   "cell_type": "code",
   "execution_count": 4,
   "metadata": {},
   "outputs": [
    {
     "data": {
      "text/html": [
       "<div>\n",
       "<style scoped>\n",
       "    .dataframe tbody tr th:only-of-type {\n",
       "        vertical-align: middle;\n",
       "    }\n",
       "\n",
       "    .dataframe tbody tr th {\n",
       "        vertical-align: top;\n",
       "    }\n",
       "\n",
       "    .dataframe thead th {\n",
       "        text-align: right;\n",
       "    }\n",
       "</style>\n",
       "<table border=\"1\" class=\"dataframe\">\n",
       "  <thead>\n",
       "    <tr style=\"text-align: right;\">\n",
       "      <th></th>\n",
       "      <th>Education</th>\n",
       "      <th>City</th>\n",
       "      <th>PaymentTier</th>\n",
       "      <th>Age</th>\n",
       "      <th>ExperienceInCurrentDomain</th>\n",
       "    </tr>\n",
       "  </thead>\n",
       "  <tbody>\n",
       "    <tr>\n",
       "      <th>0</th>\n",
       "      <td>Bachelors</td>\n",
       "      <td>Bangalore</td>\n",
       "      <td>3</td>\n",
       "      <td>34</td>\n",
       "      <td>0</td>\n",
       "    </tr>\n",
       "    <tr>\n",
       "      <th>1</th>\n",
       "      <td>Bachelors</td>\n",
       "      <td>Pune</td>\n",
       "      <td>1</td>\n",
       "      <td>28</td>\n",
       "      <td>3</td>\n",
       "    </tr>\n",
       "    <tr>\n",
       "      <th>2</th>\n",
       "      <td>Bachelors</td>\n",
       "      <td>New Delhi</td>\n",
       "      <td>3</td>\n",
       "      <td>38</td>\n",
       "      <td>2</td>\n",
       "    </tr>\n",
       "    <tr>\n",
       "      <th>3</th>\n",
       "      <td>Masters</td>\n",
       "      <td>Bangalore</td>\n",
       "      <td>3</td>\n",
       "      <td>27</td>\n",
       "      <td>5</td>\n",
       "    </tr>\n",
       "    <tr>\n",
       "      <th>4</th>\n",
       "      <td>Masters</td>\n",
       "      <td>Pune</td>\n",
       "      <td>3</td>\n",
       "      <td>24</td>\n",
       "      <td>2</td>\n",
       "    </tr>\n",
       "    <tr>\n",
       "      <th>...</th>\n",
       "      <td>...</td>\n",
       "      <td>...</td>\n",
       "      <td>...</td>\n",
       "      <td>...</td>\n",
       "      <td>...</td>\n",
       "    </tr>\n",
       "    <tr>\n",
       "      <th>4648</th>\n",
       "      <td>Bachelors</td>\n",
       "      <td>Bangalore</td>\n",
       "      <td>3</td>\n",
       "      <td>26</td>\n",
       "      <td>4</td>\n",
       "    </tr>\n",
       "    <tr>\n",
       "      <th>4649</th>\n",
       "      <td>Masters</td>\n",
       "      <td>Pune</td>\n",
       "      <td>2</td>\n",
       "      <td>37</td>\n",
       "      <td>2</td>\n",
       "    </tr>\n",
       "    <tr>\n",
       "      <th>4650</th>\n",
       "      <td>Masters</td>\n",
       "      <td>New Delhi</td>\n",
       "      <td>3</td>\n",
       "      <td>27</td>\n",
       "      <td>5</td>\n",
       "    </tr>\n",
       "    <tr>\n",
       "      <th>4651</th>\n",
       "      <td>Bachelors</td>\n",
       "      <td>Bangalore</td>\n",
       "      <td>3</td>\n",
       "      <td>30</td>\n",
       "      <td>2</td>\n",
       "    </tr>\n",
       "    <tr>\n",
       "      <th>4652</th>\n",
       "      <td>Bachelors</td>\n",
       "      <td>Bangalore</td>\n",
       "      <td>3</td>\n",
       "      <td>33</td>\n",
       "      <td>4</td>\n",
       "    </tr>\n",
       "  </tbody>\n",
       "</table>\n",
       "<p>4653 rows × 5 columns</p>\n",
       "</div>"
      ],
      "text/plain": [
       "      Education       City  PaymentTier  Age  ExperienceInCurrentDomain\n",
       "0     Bachelors  Bangalore            3   34                          0\n",
       "1     Bachelors       Pune            1   28                          3\n",
       "2     Bachelors  New Delhi            3   38                          2\n",
       "3       Masters  Bangalore            3   27                          5\n",
       "4       Masters       Pune            3   24                          2\n",
       "...         ...        ...          ...  ...                        ...\n",
       "4648  Bachelors  Bangalore            3   26                          4\n",
       "4649    Masters       Pune            2   37                          2\n",
       "4650    Masters  New Delhi            3   27                          5\n",
       "4651  Bachelors  Bangalore            3   30                          2\n",
       "4652  Bachelors  Bangalore            3   33                          4\n",
       "\n",
       "[4653 rows x 5 columns]"
      ]
     },
     "execution_count": 4,
     "metadata": {},
     "output_type": "execute_result"
    }
   ],
   "source": [
    "df = pd.read_excel('employee.xlsx')\n",
    "df"
   ]
  },
  {
   "cell_type": "code",
   "execution_count": 5,
   "metadata": {},
   "outputs": [
    {
     "data": {
      "text/html": [
       "<div>\n",
       "<style scoped>\n",
       "    .dataframe tbody tr th:only-of-type {\n",
       "        vertical-align: middle;\n",
       "    }\n",
       "\n",
       "    .dataframe tbody tr th {\n",
       "        vertical-align: top;\n",
       "    }\n",
       "\n",
       "    .dataframe thead th {\n",
       "        text-align: right;\n",
       "    }\n",
       "</style>\n",
       "<table border=\"1\" class=\"dataframe\">\n",
       "  <thead>\n",
       "    <tr style=\"text-align: right;\">\n",
       "      <th></th>\n",
       "      <th>Columns</th>\n",
       "      <th>Value</th>\n",
       "      <th>Data Types</th>\n",
       "    </tr>\n",
       "  </thead>\n",
       "  <tbody>\n",
       "    <tr>\n",
       "      <th>0</th>\n",
       "      <td>Education</td>\n",
       "      <td>[[Masters]]</td>\n",
       "      <td>object</td>\n",
       "    </tr>\n",
       "    <tr>\n",
       "      <th>1</th>\n",
       "      <td>City</td>\n",
       "      <td>[[Bangalore]]</td>\n",
       "      <td>object</td>\n",
       "    </tr>\n",
       "    <tr>\n",
       "      <th>2</th>\n",
       "      <td>PaymentTier</td>\n",
       "      <td>[[3]]</td>\n",
       "      <td>int64</td>\n",
       "    </tr>\n",
       "    <tr>\n",
       "      <th>3</th>\n",
       "      <td>Age</td>\n",
       "      <td>[[29]]</td>\n",
       "      <td>int64</td>\n",
       "    </tr>\n",
       "    <tr>\n",
       "      <th>4</th>\n",
       "      <td>ExperienceInCurrentDomain</td>\n",
       "      <td>[[2]]</td>\n",
       "      <td>int64</td>\n",
       "    </tr>\n",
       "  </tbody>\n",
       "</table>\n",
       "</div>"
      ],
      "text/plain": [
       "                     Columns          Value Data Types\n",
       "0                  Education    [[Masters]]     object\n",
       "1                       City  [[Bangalore]]     object\n",
       "2                PaymentTier          [[3]]      int64\n",
       "3                        Age         [[29]]      int64\n",
       "4  ExperienceInCurrentDomain          [[2]]      int64"
      ]
     },
     "execution_count": 5,
     "metadata": {},
     "output_type": "execute_result"
    }
   ],
   "source": [
    "df_dtypes = pd.DataFrame({'Columns':df.columns})\n",
    "\n",
    "lst_nilai = []\n",
    "for i in df_dtypes['Columns']:\n",
    "  lst_nilai.append(df[[i]].sample(1).values[[0]])\n",
    "\n",
    "df_dtypes['Value'] = lst_nilai\n",
    "df_dtypes['Data Types'] = df.dtypes.values\n",
    "\n",
    "df_dtypes = df_dtypes.reset_index().drop(columns = ['index'])\n",
    "df_dtypes"
   ]
  },
  {
   "cell_type": "code",
   "execution_count": 7,
   "metadata": {},
   "outputs": [
    {
     "data": {
      "text/plain": [
       "Index(['Education', 'City', 'Age', 'ExperienceInCurrentDomain'], dtype='object')"
      ]
     },
     "execution_count": 7,
     "metadata": {},
     "output_type": "execute_result"
    }
   ],
   "source": [
    "df.drop(columns=['PaymentTier']).columns"
   ]
  },
  {
   "cell_type": "code",
   "execution_count": 8,
   "metadata": {},
   "outputs": [
    {
     "data": {
      "text/plain": [
       "Education                    0\n",
       "City                         0\n",
       "PaymentTier                  0\n",
       "Age                          0\n",
       "ExperienceInCurrentDomain    0\n",
       "dtype: int64"
      ]
     },
     "execution_count": 8,
     "metadata": {},
     "output_type": "execute_result"
    }
   ],
   "source": [
    "df.isnull().sum()"
   ]
  },
  {
   "cell_type": "code",
   "execution_count": 9,
   "metadata": {},
   "outputs": [
    {
     "data": {
      "text/html": [
       "<div>\n",
       "<style scoped>\n",
       "    .dataframe tbody tr th:only-of-type {\n",
       "        vertical-align: middle;\n",
       "    }\n",
       "\n",
       "    .dataframe tbody tr th {\n",
       "        vertical-align: top;\n",
       "    }\n",
       "\n",
       "    .dataframe thead th {\n",
       "        text-align: right;\n",
       "    }\n",
       "</style>\n",
       "<table border=\"1\" class=\"dataframe\">\n",
       "  <thead>\n",
       "    <tr style=\"text-align: right;\">\n",
       "      <th></th>\n",
       "      <th>Column Name</th>\n",
       "      <th>Missing Value Percentage (%)</th>\n",
       "      <th>Data Types</th>\n",
       "    </tr>\n",
       "  </thead>\n",
       "  <tbody>\n",
       "    <tr>\n",
       "      <th>0</th>\n",
       "      <td>Education</td>\n",
       "      <td>0.0</td>\n",
       "      <td>object</td>\n",
       "    </tr>\n",
       "    <tr>\n",
       "      <th>1</th>\n",
       "      <td>City</td>\n",
       "      <td>0.0</td>\n",
       "      <td>object</td>\n",
       "    </tr>\n",
       "    <tr>\n",
       "      <th>2</th>\n",
       "      <td>PaymentTier</td>\n",
       "      <td>0.0</td>\n",
       "      <td>int64</td>\n",
       "    </tr>\n",
       "    <tr>\n",
       "      <th>3</th>\n",
       "      <td>Age</td>\n",
       "      <td>0.0</td>\n",
       "      <td>int64</td>\n",
       "    </tr>\n",
       "    <tr>\n",
       "      <th>4</th>\n",
       "      <td>ExperienceInCurrentDomain</td>\n",
       "      <td>0.0</td>\n",
       "      <td>int64</td>\n",
       "    </tr>\n",
       "  </tbody>\n",
       "</table>\n",
       "</div>"
      ],
      "text/plain": [
       "                 Column Name  Missing Value Percentage (%) Data Types\n",
       "0                  Education                           0.0     object\n",
       "1                       City                           0.0     object\n",
       "2                PaymentTier                           0.0      int64\n",
       "3                        Age                           0.0      int64\n",
       "4  ExperienceInCurrentDomain                           0.0      int64"
      ]
     },
     "execution_count": 9,
     "metadata": {},
     "output_type": "execute_result"
    }
   ],
   "source": [
    "lst_missval = []\n",
    "\n",
    "for i in df.isnull().sum():\n",
    "  lst_missval.append((i / len(df) * 100))\n",
    "\n",
    "df_missval = pd.DataFrame({'Column Name':df.columns,\n",
    "                           'Missing Value Percentage (%)':np.round(lst_missval,2),\n",
    "                           'Data Types':df.dtypes})\n",
    "\n",
    "df_missval = df_missval.sort_values(by='Missing Value Percentage (%)', \n",
    "                       ascending = False).reset_index().drop(columns = 'index')\n",
    "\n",
    "df_missval                       \n"
   ]
  },
  {
   "cell_type": "code",
   "execution_count": 10,
   "metadata": {},
   "outputs": [
    {
     "data": {
      "text/html": [
       "<div>\n",
       "<style scoped>\n",
       "    .dataframe tbody tr th:only-of-type {\n",
       "        vertical-align: middle;\n",
       "    }\n",
       "\n",
       "    .dataframe tbody tr th {\n",
       "        vertical-align: top;\n",
       "    }\n",
       "\n",
       "    .dataframe thead th {\n",
       "        text-align: right;\n",
       "    }\n",
       "</style>\n",
       "<table border=\"1\" class=\"dataframe\">\n",
       "  <thead>\n",
       "    <tr style=\"text-align: right;\">\n",
       "      <th></th>\n",
       "      <th>PaymentTier</th>\n",
       "      <th>Age</th>\n",
       "      <th>ExperienceInCurrentDomain</th>\n",
       "      <th>Education_Masters</th>\n",
       "      <th>Education_PHD</th>\n",
       "      <th>City_New Delhi</th>\n",
       "      <th>City_Pune</th>\n",
       "    </tr>\n",
       "  </thead>\n",
       "  <tbody>\n",
       "    <tr>\n",
       "      <th>0</th>\n",
       "      <td>3</td>\n",
       "      <td>34</td>\n",
       "      <td>0</td>\n",
       "      <td>0</td>\n",
       "      <td>0</td>\n",
       "      <td>0</td>\n",
       "      <td>0</td>\n",
       "    </tr>\n",
       "    <tr>\n",
       "      <th>1</th>\n",
       "      <td>1</td>\n",
       "      <td>28</td>\n",
       "      <td>3</td>\n",
       "      <td>0</td>\n",
       "      <td>0</td>\n",
       "      <td>0</td>\n",
       "      <td>1</td>\n",
       "    </tr>\n",
       "    <tr>\n",
       "      <th>2</th>\n",
       "      <td>3</td>\n",
       "      <td>38</td>\n",
       "      <td>2</td>\n",
       "      <td>0</td>\n",
       "      <td>0</td>\n",
       "      <td>1</td>\n",
       "      <td>0</td>\n",
       "    </tr>\n",
       "    <tr>\n",
       "      <th>3</th>\n",
       "      <td>3</td>\n",
       "      <td>27</td>\n",
       "      <td>5</td>\n",
       "      <td>1</td>\n",
       "      <td>0</td>\n",
       "      <td>0</td>\n",
       "      <td>0</td>\n",
       "    </tr>\n",
       "    <tr>\n",
       "      <th>4</th>\n",
       "      <td>3</td>\n",
       "      <td>24</td>\n",
       "      <td>2</td>\n",
       "      <td>1</td>\n",
       "      <td>0</td>\n",
       "      <td>0</td>\n",
       "      <td>1</td>\n",
       "    </tr>\n",
       "    <tr>\n",
       "      <th>...</th>\n",
       "      <td>...</td>\n",
       "      <td>...</td>\n",
       "      <td>...</td>\n",
       "      <td>...</td>\n",
       "      <td>...</td>\n",
       "      <td>...</td>\n",
       "      <td>...</td>\n",
       "    </tr>\n",
       "    <tr>\n",
       "      <th>4648</th>\n",
       "      <td>3</td>\n",
       "      <td>26</td>\n",
       "      <td>4</td>\n",
       "      <td>0</td>\n",
       "      <td>0</td>\n",
       "      <td>0</td>\n",
       "      <td>0</td>\n",
       "    </tr>\n",
       "    <tr>\n",
       "      <th>4649</th>\n",
       "      <td>2</td>\n",
       "      <td>37</td>\n",
       "      <td>2</td>\n",
       "      <td>1</td>\n",
       "      <td>0</td>\n",
       "      <td>0</td>\n",
       "      <td>1</td>\n",
       "    </tr>\n",
       "    <tr>\n",
       "      <th>4650</th>\n",
       "      <td>3</td>\n",
       "      <td>27</td>\n",
       "      <td>5</td>\n",
       "      <td>1</td>\n",
       "      <td>0</td>\n",
       "      <td>1</td>\n",
       "      <td>0</td>\n",
       "    </tr>\n",
       "    <tr>\n",
       "      <th>4651</th>\n",
       "      <td>3</td>\n",
       "      <td>30</td>\n",
       "      <td>2</td>\n",
       "      <td>0</td>\n",
       "      <td>0</td>\n",
       "      <td>0</td>\n",
       "      <td>0</td>\n",
       "    </tr>\n",
       "    <tr>\n",
       "      <th>4652</th>\n",
       "      <td>3</td>\n",
       "      <td>33</td>\n",
       "      <td>4</td>\n",
       "      <td>0</td>\n",
       "      <td>0</td>\n",
       "      <td>0</td>\n",
       "      <td>0</td>\n",
       "    </tr>\n",
       "  </tbody>\n",
       "</table>\n",
       "<p>4653 rows × 7 columns</p>\n",
       "</div>"
      ],
      "text/plain": [
       "      PaymentTier  Age  ExperienceInCurrentDomain  Education_Masters  \\\n",
       "0               3   34                          0                  0   \n",
       "1               1   28                          3                  0   \n",
       "2               3   38                          2                  0   \n",
       "3               3   27                          5                  1   \n",
       "4               3   24                          2                  1   \n",
       "...           ...  ...                        ...                ...   \n",
       "4648            3   26                          4                  0   \n",
       "4649            2   37                          2                  1   \n",
       "4650            3   27                          5                  1   \n",
       "4651            3   30                          2                  0   \n",
       "4652            3   33                          4                  0   \n",
       "\n",
       "      Education_PHD  City_New Delhi  City_Pune  \n",
       "0                 0               0          0  \n",
       "1                 0               0          1  \n",
       "2                 0               1          0  \n",
       "3                 0               0          0  \n",
       "4                 0               0          1  \n",
       "...             ...             ...        ...  \n",
       "4648              0               0          0  \n",
       "4649              0               0          1  \n",
       "4650              0               1          0  \n",
       "4651              0               0          0  \n",
       "4652              0               0          0  \n",
       "\n",
       "[4653 rows x 7 columns]"
      ]
     },
     "execution_count": 10,
     "metadata": {},
     "output_type": "execute_result"
    }
   ],
   "source": [
    "df_dummy = df.copy()\n",
    "\n",
    "df_dummy = pd.get_dummies(df_dummy, drop_first=True)\n",
    "df_dummy"
   ]
  },
  {
   "cell_type": "code",
   "execution_count": 12,
   "metadata": {},
   "outputs": [
    {
     "name": "stderr",
     "output_type": "stream",
     "text": [
      "C:\\Users\\COMPUTER\\AppData\\Local\\Temp\\ipykernel_1380\\324327233.py:2: UserWarning: \n",
      "\n",
      "`distplot` is a deprecated function and will be removed in seaborn v0.14.0.\n",
      "\n",
      "Please adapt your code to use either `displot` (a figure-level function with\n",
      "similar flexibility) or `histplot` (an axes-level function for histograms).\n",
      "\n",
      "For a guide to updating your code to use the new functions, please see\n",
      "https://gist.github.com/mwaskom/de44147ed2974457ad6372750bbe5751\n",
      "\n",
      "  sns.distplot(df['PaymentTier'], bins=10, kde_kws={'linewidth': 3})\n"
     ]
    },
    {
     "data": {
      "image/png": "[encoded data removed]",
      "text/plain": [
       "<Figure size 600x400 with 1 Axes>"
      ]
     },
     "metadata": {},
     "output_type": "display_data"
    },
    {
     "data": {
      "text/plain": [
       "<function matplotlib.pyplot.show(close=None, block=None)>"
      ]
     },
     "execution_count": 12,
     "metadata": {},
     "output_type": "execute_result"
    },
    {
     "data": {
      "image/png": "[encoded data removed]",
      "text/plain": [
       "<Figure size 600x400 with 1 Axes>"
      ]
     },
     "metadata": {},
     "output_type": "display_data"
    }
   ],
   "source": [
    "sns.set(rc={'figure.figsize':(6,4)}) \n",
    "sns.distplot(df['PaymentTier'], bins=10, kde_kws={'linewidth': 3})\n",
    "plt.show()\n",
    "\n",
    "plt.figure(figsize=(6,4))\n",
    "sns.boxplot(x=df['PaymentTier'], color='grey')\n",
    "plt.xlabel('Value')\n",
    "plt.title('Boxplot Charges')\n",
    "plt.show"
   ]
  },
  {
   "cell_type": "code",
   "execution_count": 14,
   "metadata": {},
   "outputs": [
    {
     "data": {
      "image/png": "[encoded data removed]",
      "text/plain": [
       "<Figure size 1800x700 with 4 Axes>"
      ]
     },
     "metadata": {},
     "output_type": "display_data"
    }
   ],
   "source": [
    "plt.figure(figsize=(18, 7))\n",
    "\n",
    "predictors = df.drop(columns=['PaymentTier']).columns\n",
    "response = df['PaymentTier']\n",
    "\n",
    "for i, col in enumerate(predictors):\n",
    "    plt.subplot(1, len(predictors) , i+1)\n",
    "    x = df[col]\n",
    "    y = response\n",
    "    plt.scatter(x, y, marker='o', color='darkblue', alpha=0.5)\n",
    "    plt.title(col)\n",
    "    plt.xlabel(col)\n",
    "    plt.ylabel('PaymentTier')\n",
    "    plt.tight_layout()"
   ]
  },
  {
   "cell_type": "code",
   "execution_count": 15,
   "metadata": {},
   "outputs": [
    {
     "name": "stderr",
     "output_type": "stream",
     "text": [
      "C:\\Users\\COMPUTER\\AppData\\Local\\Temp\\ipykernel_1380\\1123542352.py:2: FutureWarning: The default value of numeric_only in DataFrame.corr is deprecated. In a future version, it will default to False. Select only valid columns or specify the value of numeric_only to silence this warning.\n",
      "  mask = np.triu(np.ones_like(df.corr())) #agar yang muncul segitiga bawah\n",
      "C:\\Users\\COMPUTER\\AppData\\Local\\Temp\\ipykernel_1380\\1123542352.py:6: FutureWarning: The default value of numeric_only in DataFrame.corr is deprecated. In a future version, it will default to False. Select only valid columns or specify the value of numeric_only to silence this warning.\n",
      "  sns.heatmap(df.corr(method='pearson').round(2), annot=True, cmap='PRGn', mask=mask, vmin=-1, vmax=1)\n"
     ]
    },
    {
     "data": {
      "text/plain": [
       "<Axes: >"
      ]
     },
     "execution_count": 15,
     "metadata": {},
     "output_type": "execute_result"
    },
    {
     "data": {
      "image/png": "[encoded data removed]",
      "text/plain": [
       "<Figure size 700x700 with 2 Axes>"
      ]
     },
     "metadata": {},
     "output_type": "display_data"
    }
   ],
   "source": [
    "#untuk mengetahui korelasi linier antar variabel\n",
    "mask = np.triu(np.ones_like(df.corr())) #agar yang muncul segitiga bawah\n",
    " \n",
    "# annot = True untuk mencetak/ menampilkan nilai korelasi di dalam kotak\n",
    "sns.set(rc={'figure.figsize':(7,7)}) \n",
    "sns.heatmap(df.corr(method='pearson').round(2), annot=True, cmap='PRGn', mask=mask, vmin=-1, vmax=1)"
   ]
  },
  {
   "cell_type": "code",
   "execution_count": 16,
   "metadata": {},
   "outputs": [
    {
     "name": "stdout",
     "output_type": "stream",
     "text": [
      "                            OLS Regression Results                            \n",
      "==============================================================================\n",
      "Dep. Variable:            PaymentTier   R-squared:                       0.109\n",
      "Model:                            OLS   Adj. R-squared:                  0.108\n",
      "Method:                 Least Squares   F-statistic:                     95.03\n",
      "Date:                Tue, 02 May 2023   Prob (F-statistic):          5.36e-113\n",
      "Time:                        20:54:22   Log-Likelihood:                -3646.5\n",
      "No. Observations:                4653   AIC:                             7307.\n",
      "Df Residuals:                    4646   BIC:                             7352.\n",
      "Df Model:                           6                                         \n",
      "Covariance Type:            nonrobust                                         \n",
      "=============================================================================================\n",
      "                                coef    std err          t      P>|t|      [0.025      0.975]\n",
      "---------------------------------------------------------------------------------------------\n",
      "const                         2.8677      0.053     53.664      0.000       2.763       2.972\n",
      "Age                       -4.586e-05      0.002     -0.028      0.978      -0.003       0.003\n",
      "ExperienceInCurrentDomain     0.0053      0.005      1.043      0.297      -0.005       0.015\n",
      "Education_Masters            -0.2088      0.022     -9.450      0.000      -0.252      -0.166\n",
      "Education_PHD                 0.0077      0.041      0.186      0.852      -0.074       0.089\n",
      "City_New Delhi               -0.1908      0.021     -8.897      0.000      -0.233      -0.149\n",
      "City_Pune                    -0.3561      0.019    -18.876      0.000      -0.393      -0.319\n",
      "==============================================================================\n",
      "Omnibus:                     1527.210   Durbin-Watson:                   1.984\n",
      "Prob(Omnibus):                  0.000   Jarque-Bera (JB):             4324.535\n",
      "Skew:                          -1.747   Prob(JB):                         0.00\n",
      "Kurtosis:                       6.178   Cond. No.                         207.\n",
      "==============================================================================\n",
      "\n",
      "Notes:\n",
      "[1] Standard Errors assume that the covariance matrix of the errors is correctly specified.\n"
     ]
    }
   ],
   "source": [
    "x_dummy = df_dummy.drop(columns=['PaymentTier'])\n",
    "y_dummy = df_dummy['PaymentTier']\n",
    "\n",
    "X_dummy = sm.add_constant(x_dummy)\n",
    "result_dummy = sm.OLS(y_dummy, X_dummy).fit()\n",
    "print(result_dummy.summary())"
   ]
  },
  {
   "attachments": {},
   "cell_type": "markdown",
   "metadata": {},
   "source": [
    "# Persamaan regresi dari output tersebut adalah:\n",
    "\n",
    "PaymentTier = 2.8677 - 4.586e-05(Age) + 0.0053(Experience) - 0.2088(Education_masters) + 0.0077(Education_PHD)  -0.1908(New Delhi) - 0.3561(Pune)\n",
    "\n",
    "Keterangan:\n",
    "\n",
    "- PaymentTier : variabel dependen (Tingkat bayaran karyawan)\n",
    "- Age, Experience, Education, City : Variabel independen(umur karyawan, pengalaman karyawan, edukasi terakhir karyawan, kota tempat kerja karyawan)"
   ]
  },
  {
   "cell_type": "code",
   "execution_count": 17,
   "metadata": {},
   "outputs": [
    {
     "data": {
      "text/html": [
       "<div>\n",
       "<style scoped>\n",
       "    .dataframe tbody tr th:only-of-type {\n",
       "        vertical-align: middle;\n",
       "    }\n",
       "\n",
       "    .dataframe tbody tr th {\n",
       "        vertical-align: top;\n",
       "    }\n",
       "\n",
       "    .dataframe thead th {\n",
       "        text-align: right;\n",
       "    }\n",
       "</style>\n",
       "<table border=\"1\" class=\"dataframe\">\n",
       "  <thead>\n",
       "    <tr style=\"text-align: right;\">\n",
       "      <th></th>\n",
       "      <th>F-hitung</th>\n",
       "      <th>p-value</th>\n",
       "      <th>alpha</th>\n",
       "      <th>Kesimpulan</th>\n",
       "    </tr>\n",
       "  </thead>\n",
       "  <tbody>\n",
       "    <tr>\n",
       "      <th>0</th>\n",
       "      <td>95.027974</td>\n",
       "      <td>5.361701e-113</td>\n",
       "      <td>0.05</td>\n",
       "      <td>Tolak H0</td>\n",
       "    </tr>\n",
       "  </tbody>\n",
       "</table>\n",
       "</div>"
      ],
      "text/plain": [
       "    F-hitung        p-value  alpha Kesimpulan\n",
       "0  95.027974  5.361701e-113   0.05   Tolak H0"
      ]
     },
     "execution_count": 17,
     "metadata": {},
     "output_type": "execute_result"
    }
   ],
   "source": [
    "df_simultan_dummy = pd.DataFrame({'F-hitung':[result_dummy.fvalue],\n",
    "                                  'p-value':[result_dummy.f_pvalue],\n",
    "                                  'alpha':[0.05]})\n",
    "\n",
    "df_simultan_dummy['Kesimpulan'] = df_simultan_dummy['p-value'].gt((df_simultan_dummy['alpha']))\n",
    "df_simultan_dummy['Kesimpulan'] = df_simultan_dummy['Kesimpulan'].replace({True:'Gagal Tolak H0',\n",
    "                                                                           False:'Tolak H0'})\n",
    "\n",
    "df_simultan_dummy"
   ]
  },
  {
   "attachments": {},
   "cell_type": "markdown",
   "metadata": {},
   "source": [
    "### Kesimpulan\n",
    "Dengan tingkat signifikansi 5%, dikarenakan p-value < alpha, maka tolak H0 dan dapat disimpulkan bahwa setidaknya ada satu variabel x yang mempengaruhi variabel y"
   ]
  },
  {
   "cell_type": "code",
   "execution_count": 18,
   "metadata": {},
   "outputs": [
    {
     "data": {
      "text/html": [
       "<div>\n",
       "<style scoped>\n",
       "    .dataframe tbody tr th:only-of-type {\n",
       "        vertical-align: middle;\n",
       "    }\n",
       "\n",
       "    .dataframe tbody tr th {\n",
       "        vertical-align: top;\n",
       "    }\n",
       "\n",
       "    .dataframe thead th {\n",
       "        text-align: right;\n",
       "    }\n",
       "</style>\n",
       "<table border=\"1\" class=\"dataframe\">\n",
       "  <thead>\n",
       "    <tr style=\"text-align: right;\">\n",
       "      <th></th>\n",
       "      <th>Variabel</th>\n",
       "      <th>t-hitung</th>\n",
       "      <th>p-value</th>\n",
       "      <th>alpha</th>\n",
       "      <th>Kesimpulan</th>\n",
       "    </tr>\n",
       "  </thead>\n",
       "  <tbody>\n",
       "    <tr>\n",
       "      <th>0</th>\n",
       "      <td>const</td>\n",
       "      <td>53.664457</td>\n",
       "      <td>0.000000e+00</td>\n",
       "      <td>0.05</td>\n",
       "      <td>Tolak H0</td>\n",
       "    </tr>\n",
       "    <tr>\n",
       "      <th>1</th>\n",
       "      <td>Age</td>\n",
       "      <td>-0.028186</td>\n",
       "      <td>9.775152e-01</td>\n",
       "      <td>0.05</td>\n",
       "      <td>Gagal Tolak H0</td>\n",
       "    </tr>\n",
       "    <tr>\n",
       "      <th>2</th>\n",
       "      <td>ExperienceInCurrentDomain</td>\n",
       "      <td>1.043151</td>\n",
       "      <td>2.969328e-01</td>\n",
       "      <td>0.05</td>\n",
       "      <td>Gagal Tolak H0</td>\n",
       "    </tr>\n",
       "    <tr>\n",
       "      <th>3</th>\n",
       "      <td>Education_Masters</td>\n",
       "      <td>-9.450000</td>\n",
       "      <td>5.225299e-21</td>\n",
       "      <td>0.05</td>\n",
       "      <td>Tolak H0</td>\n",
       "    </tr>\n",
       "    <tr>\n",
       "      <th>4</th>\n",
       "      <td>Education_PHD</td>\n",
       "      <td>0.186225</td>\n",
       "      <td>8.522762e-01</td>\n",
       "      <td>0.05</td>\n",
       "      <td>Gagal Tolak H0</td>\n",
       "    </tr>\n",
       "    <tr>\n",
       "      <th>5</th>\n",
       "      <td>City_New Delhi</td>\n",
       "      <td>-8.896971</td>\n",
       "      <td>8.077517e-19</td>\n",
       "      <td>0.05</td>\n",
       "      <td>Tolak H0</td>\n",
       "    </tr>\n",
       "    <tr>\n",
       "      <th>6</th>\n",
       "      <td>City_Pune</td>\n",
       "      <td>-18.875530</td>\n",
       "      <td>1.251562e-76</td>\n",
       "      <td>0.05</td>\n",
       "      <td>Tolak H0</td>\n",
       "    </tr>\n",
       "  </tbody>\n",
       "</table>\n",
       "</div>"
      ],
      "text/plain": [
       "                    Variabel   t-hitung       p-value  alpha      Kesimpulan\n",
       "0                      const  53.664457  0.000000e+00   0.05        Tolak H0\n",
       "1                        Age  -0.028186  9.775152e-01   0.05  Gagal Tolak H0\n",
       "2  ExperienceInCurrentDomain   1.043151  2.969328e-01   0.05  Gagal Tolak H0\n",
       "3          Education_Masters  -9.450000  5.225299e-21   0.05        Tolak H0\n",
       "4              Education_PHD   0.186225  8.522762e-01   0.05  Gagal Tolak H0\n",
       "5             City_New Delhi  -8.896971  8.077517e-19   0.05        Tolak H0\n",
       "6                  City_Pune -18.875530  1.251562e-76   0.05        Tolak H0"
      ]
     },
     "execution_count": 18,
     "metadata": {},
     "output_type": "execute_result"
    }
   ],
   "source": [
    "df_partial_dummy = pd.DataFrame()\n",
    "df_partial_dummy['Variabel'] = result_dummy.tvalues.index\n",
    "df_partial_dummy['t-hitung'] = result_dummy.tvalues.values\n",
    "df_partial_dummy['p-value'] = result_dummy.pvalues.values\n",
    "df_partial_dummy['alpha'] = 0.05\n",
    "\n",
    "df_partial_dummy['Kesimpulan'] = df_partial_dummy['p-value'].gt((df_partial_dummy['alpha']))\n",
    "df_partial_dummy['Kesimpulan'] = df_partial_dummy['Kesimpulan'].replace({True:'Gagal Tolak H0',\n",
    "                                                                           False:'Tolak H0'})\n",
    "\n",
    "df_partial_dummy"
   ]
  },
  {
   "attachments": {},
   "cell_type": "markdown",
   "metadata": {},
   "source": [
    "### Kesimpulan\n",
    "Dengan tingkat signifikansi 5 %, dikarenakan p-value `city_new Delhi` dan p-value `city_Pune` < alpha, maka tolak H0 dan dapat disimpulkan bahwa variabel tersebut mempengaruhi tingkat bayaran kerja(Y)"
   ]
  },
  {
   "cell_type": "code",
   "execution_count": 19,
   "metadata": {},
   "outputs": [
    {
     "data": {
      "text/html": [
       "<div>\n",
       "<style scoped>\n",
       "    .dataframe tbody tr th:only-of-type {\n",
       "        vertical-align: middle;\n",
       "    }\n",
       "\n",
       "    .dataframe tbody tr th {\n",
       "        vertical-align: top;\n",
       "    }\n",
       "\n",
       "    .dataframe thead th {\n",
       "        text-align: right;\n",
       "    }\n",
       "</style>\n",
       "<table border=\"1\" class=\"dataframe\">\n",
       "  <thead>\n",
       "    <tr style=\"text-align: right;\">\n",
       "      <th></th>\n",
       "      <th>Model</th>\n",
       "      <th>R-Square</th>\n",
       "      <th>Adjusted R-Square</th>\n",
       "    </tr>\n",
       "  </thead>\n",
       "  <tbody>\n",
       "    <tr>\n",
       "      <th>1</th>\n",
       "      <td>Regression + Dummy Encoding</td>\n",
       "      <td>0.109308</td>\n",
       "      <td>0.108158</td>\n",
       "    </tr>\n",
       "  </tbody>\n",
       "</table>\n",
       "</div>"
      ],
      "text/plain": [
       "                         Model  R-Square  Adjusted R-Square\n",
       "1  Regression + Dummy Encoding  0.109308           0.108158"
      ]
     },
     "execution_count": 19,
     "metadata": {},
     "output_type": "execute_result"
    }
   ],
   "source": [
    "df_model_evaluation = pd.DataFrame({'Model': 'Regression + Dummy Encoding',\n",
    "                                    'R-Square': result_dummy.rsquared,\n",
    "                                    'Adjusted R-Square': result_dummy.rsquared_adj}, index = [1])\n",
    "\n",
    "df_model_evaluation"
   ]
  },
  {
   "attachments": {},
   "cell_type": "markdown",
   "metadata": {},
   "source": [
    "Berdasarkan output yang diberikan, terdapat evaluasi model regresi linier dengan Dummy Encoding:\n",
    "\n",
    "- Model 1 (Regression + Dummy Encoding) memiliki R-Square sebesar 0.109308, yang menunjukkan bahwa model mampu menjelaskan sekitar 10.93% dari variasi dalam variabel target (Total Power). Nilai ini juga menunjukkan bahwa model masih belum cukup baik dalam menjelaskan hubungan antara variabel independen dengan variabel dependen.\n",
    "\n",
    "- Model 1 (Regression + Dummy Encoding) memiliki Adjusted R-Square sebesar 0.108158, yang menunjukkan bahwa model mampu menjelaskan sekitar 10.81% dari variasi dalam variabel target setelah mempertimbangkan jumlah variabel independen yang digunakan dalam model. Nilai ini juga menunjukkan bahwa model masih kurang baik dalam menjelaskan hubungan antara variabel independen dengan variabel dependen setelah mempertimbangkan jumlah variabel independen yang digunakan dalam model.\n",
    "\n",
    "\n",
    "\n",
    "Secara keseluruhan, model regresi menunjukkan kinerja yang mmasih belum cukup baik dalam menjelaskan hubungan antara variabel independen dengan variabel dependen."
   ]
  }
 ],
 "metadata": {
  "kernelspec": {
   "display_name": "Python 3",
   "language": "python",
   "name": "python3"
  },
  "language_info": {
   "codemirror_mode": {
    "name": "ipython",
    "version": 3
   },
   "file_extension": ".py",
   "mimetype": "text/x-python",
   "name": "python",
   "nbconvert_exporter": "python",
   "pygments_lexer": "ipython3",
   "version": "3.10.7"
  },
  "orig_nbformat": 4
 },
 "nbformat": 4,
 "nbformat_minor": 2
}

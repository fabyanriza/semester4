{
  "cells": [
    {
      "attachments": {},
      "cell_type": "markdown",
      "metadata": {
        "id": "M6CTA5ysTQ_a"
      },
      "source": [
        "# Import Libraries"
      ]
    },
    {
      "cell_type": "code",
      "execution_count": 3,
      "metadata": {
        "id": "5eFaBlniRMev"
      },
      "outputs": [],
      "source": [
        "import pandas as pd\n",
        "import numpy as np\n",
        "import matplotlib.pyplot as plt\n",
        "import seaborn as sns\n",
        "import statsmodels.api as sm\n",
        "\n",
        "import warnings\n",
        "warnings.filterwarnings('ignore')\n",
        "\n",
        "pd.set_option('display.max_columns', None)\n",
        "pd.set_option('display.max_rows', None)"
      ]
    },
    {
      "attachments": {},
      "cell_type": "markdown",
      "metadata": {
        "id": "qrSGFkbKTbr_"
      },
      "source": [
        "# Import Data"
      ]
    },
    {
      "cell_type": "code",
      "execution_count": 4,
      "metadata": {
        "colab": {
          "base_uri": "https://localhost:8080/",
          "height": 71
        },
        "id": "OlPHBsJ3OwKE",
        "outputId": "fd093a09-ed1e-4c8a-e69c-d3f21a203568"
      },
      "outputs": [],
      "source": [
        "# from google.colab import files\n",
        "# df = files.upload()"
      ]
    },
    {
      "cell_type": "code",
      "execution_count": 5,
      "metadata": {
        "colab": {
          "base_uri": "https://localhost:8080/",
          "height": 374
        },
        "id": "_XVJj10HRUed",
        "outputId": "839e59f2-7f40-41f8-ee34-dda26300c11e"
      },
      "outputs": [
        {
          "data": {
            "text/html": [
              "<div>\n",
              "<style scoped>\n",
              "    .dataframe tbody tr th:only-of-type {\n",
              "        vertical-align: middle;\n",
              "    }\n",
              "\n",
              "    .dataframe tbody tr th {\n",
              "        vertical-align: top;\n",
              "    }\n",
              "\n",
              "    .dataframe thead th {\n",
              "        text-align: right;\n",
              "    }\n",
              "</style>\n",
              "<table border=\"1\" class=\"dataframe\">\n",
              "  <thead>\n",
              "    <tr style=\"text-align: right;\">\n",
              "      <th></th>\n",
              "      <th>Timestamp</th>\n",
              "      <th>Nama panggilan</th>\n",
              "      <th>Angkatan</th>\n",
              "      <th>Pengeluaran_perminggu</th>\n",
              "      <th>Frekuensi_makan</th>\n",
              "      <th>Pengeluaran_makan</th>\n",
              "      <th>Transportasi</th>\n",
              "      <th>Uang_Transport</th>\n",
              "      <th>Jarak</th>\n",
              "      <th>Frekuensi_Nongkrong</th>\n",
              "      <th>Rokok</th>\n",
              "      <th>Laundry</th>\n",
              "      <th>Organisasi</th>\n",
              "    </tr>\n",
              "  </thead>\n",
              "  <tbody>\n",
              "    <tr>\n",
              "      <th>0</th>\n",
              "      <td>2023-05-15 10:58:36.677</td>\n",
              "      <td>farrel</td>\n",
              "      <td>22</td>\n",
              "      <td>200000</td>\n",
              "      <td>2</td>\n",
              "      <td>15000</td>\n",
              "      <td>kendaraan pribadi</td>\n",
              "      <td>50000</td>\n",
              "      <td>2.0</td>\n",
              "      <td>3</td>\n",
              "      <td>Tidak</td>\n",
              "      <td>Tidak</td>\n",
              "      <td>0</td>\n",
              "    </tr>\n",
              "    <tr>\n",
              "      <th>1</th>\n",
              "      <td>2023-05-15 10:59:50.494</td>\n",
              "      <td>Fikar</td>\n",
              "      <td>22</td>\n",
              "      <td>300000</td>\n",
              "      <td>3</td>\n",
              "      <td>30000</td>\n",
              "      <td>ojek</td>\n",
              "      <td>43500</td>\n",
              "      <td>19.0</td>\n",
              "      <td>0</td>\n",
              "      <td>Tidak</td>\n",
              "      <td>Tidak</td>\n",
              "      <td>1</td>\n",
              "    </tr>\n",
              "    <tr>\n",
              "      <th>2</th>\n",
              "      <td>2023-05-15 11:00:28.043</td>\n",
              "      <td>Kareem</td>\n",
              "      <td>22</td>\n",
              "      <td>150000</td>\n",
              "      <td>2</td>\n",
              "      <td>30000</td>\n",
              "      <td>ojek</td>\n",
              "      <td>175000</td>\n",
              "      <td>3.9</td>\n",
              "      <td>1</td>\n",
              "      <td>Ya</td>\n",
              "      <td>Tidak</td>\n",
              "      <td>0</td>\n",
              "    </tr>\n",
              "    <tr>\n",
              "      <th>3</th>\n",
              "      <td>2023-05-15 11:02:12.665</td>\n",
              "      <td>aura</td>\n",
              "      <td>22</td>\n",
              "      <td>120000</td>\n",
              "      <td>3</td>\n",
              "      <td>12000</td>\n",
              "      <td>ojek</td>\n",
              "      <td>225000</td>\n",
              "      <td>4.0</td>\n",
              "      <td>3</td>\n",
              "      <td>Tidak</td>\n",
              "      <td>Tidak</td>\n",
              "      <td>0</td>\n",
              "    </tr>\n",
              "    <tr>\n",
              "      <th>4</th>\n",
              "      <td>2023-05-15 11:03:47.088</td>\n",
              "      <td>Tika</td>\n",
              "      <td>22</td>\n",
              "      <td>100000</td>\n",
              "      <td>3</td>\n",
              "      <td>20000</td>\n",
              "      <td>kendaraan pribadi</td>\n",
              "      <td>20000</td>\n",
              "      <td>4.0</td>\n",
              "      <td>3</td>\n",
              "      <td>Tidak</td>\n",
              "      <td>Ya</td>\n",
              "      <td>0</td>\n",
              "    </tr>\n",
              "  </tbody>\n",
              "</table>\n",
              "</div>"
            ],
            "text/plain": [
              "                Timestamp Nama panggilan  Angkatan  Pengeluaran_perminggu  \\\n",
              "0 2023-05-15 10:58:36.677         farrel        22                 200000   \n",
              "1 2023-05-15 10:59:50.494          Fikar        22                 300000   \n",
              "2 2023-05-15 11:00:28.043         Kareem        22                 150000   \n",
              "3 2023-05-15 11:02:12.665           aura        22                 120000   \n",
              "4 2023-05-15 11:03:47.088           Tika        22                 100000   \n",
              "\n",
              "   Frekuensi_makan  Pengeluaran_makan       Transportasi  Uang_Transport  \\\n",
              "0                2              15000  kendaraan pribadi           50000   \n",
              "1                3              30000               ojek           43500   \n",
              "2                2              30000               ojek          175000   \n",
              "3                3              12000               ojek          225000   \n",
              "4                3              20000  kendaraan pribadi           20000   \n",
              "\n",
              "   Jarak  Frekuensi_Nongkrong  Rokok Laundry  Organisasi  \n",
              "0    2.0                    3  Tidak   Tidak           0  \n",
              "1   19.0                    0  Tidak   Tidak           1  \n",
              "2    3.9                    1     Ya   Tidak           0  \n",
              "3    4.0                    3  Tidak   Tidak           0  \n",
              "4    4.0                    3  Tidak      Ya           0  "
            ]
          },
          "execution_count": 5,
          "metadata": {},
          "output_type": "execute_result"
        }
      ],
      "source": [
        "df = pd.read_excel('Projek data.xlsx')\n",
        "df.head()"
      ]
    },
    {
      "attachments": {},
      "cell_type": "markdown",
      "metadata": {
        "id": "UzDU0XiCVOqj"
      },
      "source": [
        "# Data Preporcessing"
      ]
    },
    {
      "attachments": {},
      "cell_type": "markdown",
      "metadata": {
        "id": "BQNCdAHXVUB5"
      },
      "source": [
        "## Cek Data Type"
      ]
    },
    {
      "cell_type": "code",
      "execution_count": 6,
      "metadata": {
        "colab": {
          "base_uri": "https://localhost:8080/",
          "height": 206
        },
        "id": "oJupHyrzPkqZ",
        "outputId": "78426daa-5d1e-482d-f443-6d56f7a7a25d"
      },
      "outputs": [
        {
          "data": {
            "text/html": [
              "<div>\n",
              "<style scoped>\n",
              "    .dataframe tbody tr th:only-of-type {\n",
              "        vertical-align: middle;\n",
              "    }\n",
              "\n",
              "    .dataframe tbody tr th {\n",
              "        vertical-align: top;\n",
              "    }\n",
              "\n",
              "    .dataframe thead th {\n",
              "        text-align: right;\n",
              "    }\n",
              "</style>\n",
              "<table border=\"1\" class=\"dataframe\">\n",
              "  <thead>\n",
              "    <tr style=\"text-align: right;\">\n",
              "      <th></th>\n",
              "      <th>Pengeluaran_perminggu</th>\n",
              "      <th>Frekuensi_makan</th>\n",
              "      <th>Pengeluaran_makan</th>\n",
              "      <th>Transportasi</th>\n",
              "      <th>Uang_Transport</th>\n",
              "      <th>Jarak</th>\n",
              "      <th>Frekuensi_Nongkrong</th>\n",
              "      <th>Rokok</th>\n",
              "      <th>Laundry</th>\n",
              "      <th>Organisasi</th>\n",
              "    </tr>\n",
              "  </thead>\n",
              "  <tbody>\n",
              "    <tr>\n",
              "      <th>0</th>\n",
              "      <td>200000</td>\n",
              "      <td>2</td>\n",
              "      <td>15000</td>\n",
              "      <td>kendaraan pribadi</td>\n",
              "      <td>50000</td>\n",
              "      <td>2.0</td>\n",
              "      <td>3</td>\n",
              "      <td>Tidak</td>\n",
              "      <td>Tidak</td>\n",
              "      <td>0</td>\n",
              "    </tr>\n",
              "    <tr>\n",
              "      <th>1</th>\n",
              "      <td>300000</td>\n",
              "      <td>3</td>\n",
              "      <td>30000</td>\n",
              "      <td>ojek</td>\n",
              "      <td>43500</td>\n",
              "      <td>19.0</td>\n",
              "      <td>0</td>\n",
              "      <td>Tidak</td>\n",
              "      <td>Tidak</td>\n",
              "      <td>1</td>\n",
              "    </tr>\n",
              "    <tr>\n",
              "      <th>2</th>\n",
              "      <td>150000</td>\n",
              "      <td>2</td>\n",
              "      <td>30000</td>\n",
              "      <td>ojek</td>\n",
              "      <td>175000</td>\n",
              "      <td>3.9</td>\n",
              "      <td>1</td>\n",
              "      <td>Ya</td>\n",
              "      <td>Tidak</td>\n",
              "      <td>0</td>\n",
              "    </tr>\n",
              "    <tr>\n",
              "      <th>3</th>\n",
              "      <td>120000</td>\n",
              "      <td>3</td>\n",
              "      <td>12000</td>\n",
              "      <td>ojek</td>\n",
              "      <td>225000</td>\n",
              "      <td>4.0</td>\n",
              "      <td>3</td>\n",
              "      <td>Tidak</td>\n",
              "      <td>Tidak</td>\n",
              "      <td>0</td>\n",
              "    </tr>\n",
              "    <tr>\n",
              "      <th>4</th>\n",
              "      <td>100000</td>\n",
              "      <td>3</td>\n",
              "      <td>20000</td>\n",
              "      <td>kendaraan pribadi</td>\n",
              "      <td>20000</td>\n",
              "      <td>4.0</td>\n",
              "      <td>3</td>\n",
              "      <td>Tidak</td>\n",
              "      <td>Ya</td>\n",
              "      <td>0</td>\n",
              "    </tr>\n",
              "  </tbody>\n",
              "</table>\n",
              "</div>"
            ],
            "text/plain": [
              "   Pengeluaran_perminggu  Frekuensi_makan  Pengeluaran_makan  \\\n",
              "0                 200000                2              15000   \n",
              "1                 300000                3              30000   \n",
              "2                 150000                2              30000   \n",
              "3                 120000                3              12000   \n",
              "4                 100000                3              20000   \n",
              "\n",
              "        Transportasi  Uang_Transport  Jarak  Frekuensi_Nongkrong  Rokok  \\\n",
              "0  kendaraan pribadi           50000    2.0                    3  Tidak   \n",
              "1               ojek           43500   19.0                    0  Tidak   \n",
              "2               ojek          175000    3.9                    1     Ya   \n",
              "3               ojek          225000    4.0                    3  Tidak   \n",
              "4  kendaraan pribadi           20000    4.0                    3  Tidak   \n",
              "\n",
              "  Laundry  Organisasi  \n",
              "0   Tidak           0  \n",
              "1   Tidak           1  \n",
              "2   Tidak           0  \n",
              "3   Tidak           0  \n",
              "4      Ya           0  "
            ]
          },
          "execution_count": 6,
          "metadata": {},
          "output_type": "execute_result"
        }
      ],
      "source": [
        "df = df.drop(columns = ['Timestamp', 'Nama panggilan','Angkatan'])\n",
        "df.head()"
      ]
    },
    {
      "cell_type": "code",
      "execution_count": 7,
      "metadata": {
        "colab": {
          "base_uri": "https://localhost:8080/",
          "height": 363
        },
        "id": "rKE1s9kAVbSA",
        "outputId": "2b46caf7-7ec8-4cfb-8f07-9a1d36dbbb75"
      },
      "outputs": [
        {
          "data": {
            "text/html": [
              "<div>\n",
              "<style scoped>\n",
              "    .dataframe tbody tr th:only-of-type {\n",
              "        vertical-align: middle;\n",
              "    }\n",
              "\n",
              "    .dataframe tbody tr th {\n",
              "        vertical-align: top;\n",
              "    }\n",
              "\n",
              "    .dataframe thead th {\n",
              "        text-align: right;\n",
              "    }\n",
              "</style>\n",
              "<table border=\"1\" class=\"dataframe\">\n",
              "  <thead>\n",
              "    <tr style=\"text-align: right;\">\n",
              "      <th></th>\n",
              "      <th>Columns</th>\n",
              "      <th>Value</th>\n",
              "      <th>Data Types</th>\n",
              "    </tr>\n",
              "  </thead>\n",
              "  <tbody>\n",
              "    <tr>\n",
              "      <th>0</th>\n",
              "      <td>Pengeluaran_perminggu</td>\n",
              "      <td>[[700000]]</td>\n",
              "      <td>int64</td>\n",
              "    </tr>\n",
              "    <tr>\n",
              "      <th>1</th>\n",
              "      <td>Frekuensi_makan</td>\n",
              "      <td>[[2]]</td>\n",
              "      <td>int64</td>\n",
              "    </tr>\n",
              "    <tr>\n",
              "      <th>2</th>\n",
              "      <td>Pengeluaran_makan</td>\n",
              "      <td>[[20000]]</td>\n",
              "      <td>int64</td>\n",
              "    </tr>\n",
              "    <tr>\n",
              "      <th>3</th>\n",
              "      <td>Transportasi</td>\n",
              "      <td>[[kendaraan pribadi]]</td>\n",
              "      <td>object</td>\n",
              "    </tr>\n",
              "    <tr>\n",
              "      <th>4</th>\n",
              "      <td>Uang_Transport</td>\n",
              "      <td>[[0]]</td>\n",
              "      <td>int64</td>\n",
              "    </tr>\n",
              "    <tr>\n",
              "      <th>5</th>\n",
              "      <td>Jarak</td>\n",
              "      <td>[[13.0]]</td>\n",
              "      <td>float64</td>\n",
              "    </tr>\n",
              "    <tr>\n",
              "      <th>6</th>\n",
              "      <td>Frekuensi_Nongkrong</td>\n",
              "      <td>[[0]]</td>\n",
              "      <td>int64</td>\n",
              "    </tr>\n",
              "    <tr>\n",
              "      <th>7</th>\n",
              "      <td>Rokok</td>\n",
              "      <td>[[Tidak]]</td>\n",
              "      <td>object</td>\n",
              "    </tr>\n",
              "    <tr>\n",
              "      <th>8</th>\n",
              "      <td>Laundry</td>\n",
              "      <td>[[Ya]]</td>\n",
              "      <td>object</td>\n",
              "    </tr>\n",
              "    <tr>\n",
              "      <th>9</th>\n",
              "      <td>Organisasi</td>\n",
              "      <td>[[0]]</td>\n",
              "      <td>int64</td>\n",
              "    </tr>\n",
              "  </tbody>\n",
              "</table>\n",
              "</div>"
            ],
            "text/plain": [
              "                 Columns                  Value Data Types\n",
              "0  Pengeluaran_perminggu             [[700000]]      int64\n",
              "1        Frekuensi_makan                  [[2]]      int64\n",
              "2      Pengeluaran_makan              [[20000]]      int64\n",
              "3           Transportasi  [[kendaraan pribadi]]     object\n",
              "4         Uang_Transport                  [[0]]      int64\n",
              "5                  Jarak               [[13.0]]    float64\n",
              "6    Frekuensi_Nongkrong                  [[0]]      int64\n",
              "7                  Rokok              [[Tidak]]     object\n",
              "8                Laundry                 [[Ya]]     object\n",
              "9             Organisasi                  [[0]]      int64"
            ]
          },
          "execution_count": 7,
          "metadata": {},
          "output_type": "execute_result"
        }
      ],
      "source": [
        "df_dtypes = pd.DataFrame({'Columns':df.columns})\n",
        "\n",
        "lst_nilai = []\n",
        "for i in df_dtypes['Columns']:\n",
        "  lst_nilai.append(df[[i]].sample(1).values[[0]])\n",
        "\n",
        "df_dtypes['Value'] = lst_nilai\n",
        "df_dtypes['Data Types'] = df.dtypes.values\n",
        "\n",
        "df_dtypes = df_dtypes.reset_index().drop(columns = ['index'])\n",
        "df_dtypes"
      ]
    },
    {
      "attachments": {},
      "cell_type": "markdown",
      "metadata": {
        "id": "hwXll_ihVgxh"
      },
      "source": [
        "## Cek missing values"
      ]
    },
    {
      "cell_type": "code",
      "execution_count": 8,
      "metadata": {
        "colab": {
          "base_uri": "https://localhost:8080/"
        },
        "id": "UbS4WXh9VjRF",
        "outputId": "2676c080-c3ec-4b0e-91dc-fdf7e487acda"
      },
      "outputs": [
        {
          "data": {
            "text/plain": [
              "Pengeluaran_perminggu    0\n",
              "Frekuensi_makan          0\n",
              "Pengeluaran_makan        0\n",
              "Transportasi             0\n",
              "Uang_Transport           0\n",
              "Jarak                    0\n",
              "Frekuensi_Nongkrong      0\n",
              "Rokok                    0\n",
              "Laundry                  0\n",
              "Organisasi               0\n",
              "dtype: int64"
            ]
          },
          "execution_count": 8,
          "metadata": {},
          "output_type": "execute_result"
        }
      ],
      "source": [
        "df.isnull().sum()"
      ]
    },
    {
      "cell_type": "code",
      "execution_count": 9,
      "metadata": {
        "colab": {
          "base_uri": "https://localhost:8080/",
          "height": 363
        },
        "id": "O86E-jLkVSd9",
        "outputId": "a6ec7cad-639d-46d8-94ea-bfa96644d002"
      },
      "outputs": [
        {
          "data": {
            "text/html": [
              "<div>\n",
              "<style scoped>\n",
              "    .dataframe tbody tr th:only-of-type {\n",
              "        vertical-align: middle;\n",
              "    }\n",
              "\n",
              "    .dataframe tbody tr th {\n",
              "        vertical-align: top;\n",
              "    }\n",
              "\n",
              "    .dataframe thead th {\n",
              "        text-align: right;\n",
              "    }\n",
              "</style>\n",
              "<table border=\"1\" class=\"dataframe\">\n",
              "  <thead>\n",
              "    <tr style=\"text-align: right;\">\n",
              "      <th></th>\n",
              "      <th>Column Name</th>\n",
              "      <th>Missing Value Percentage (%)</th>\n",
              "      <th>Data Types</th>\n",
              "    </tr>\n",
              "  </thead>\n",
              "  <tbody>\n",
              "    <tr>\n",
              "      <th>0</th>\n",
              "      <td>Pengeluaran_perminggu</td>\n",
              "      <td>0.0</td>\n",
              "      <td>int64</td>\n",
              "    </tr>\n",
              "    <tr>\n",
              "      <th>1</th>\n",
              "      <td>Frekuensi_makan</td>\n",
              "      <td>0.0</td>\n",
              "      <td>int64</td>\n",
              "    </tr>\n",
              "    <tr>\n",
              "      <th>2</th>\n",
              "      <td>Pengeluaran_makan</td>\n",
              "      <td>0.0</td>\n",
              "      <td>int64</td>\n",
              "    </tr>\n",
              "    <tr>\n",
              "      <th>3</th>\n",
              "      <td>Transportasi</td>\n",
              "      <td>0.0</td>\n",
              "      <td>object</td>\n",
              "    </tr>\n",
              "    <tr>\n",
              "      <th>4</th>\n",
              "      <td>Uang_Transport</td>\n",
              "      <td>0.0</td>\n",
              "      <td>int64</td>\n",
              "    </tr>\n",
              "    <tr>\n",
              "      <th>5</th>\n",
              "      <td>Jarak</td>\n",
              "      <td>0.0</td>\n",
              "      <td>float64</td>\n",
              "    </tr>\n",
              "    <tr>\n",
              "      <th>6</th>\n",
              "      <td>Frekuensi_Nongkrong</td>\n",
              "      <td>0.0</td>\n",
              "      <td>int64</td>\n",
              "    </tr>\n",
              "    <tr>\n",
              "      <th>7</th>\n",
              "      <td>Rokok</td>\n",
              "      <td>0.0</td>\n",
              "      <td>object</td>\n",
              "    </tr>\n",
              "    <tr>\n",
              "      <th>8</th>\n",
              "      <td>Laundry</td>\n",
              "      <td>0.0</td>\n",
              "      <td>object</td>\n",
              "    </tr>\n",
              "    <tr>\n",
              "      <th>9</th>\n",
              "      <td>Organisasi</td>\n",
              "      <td>0.0</td>\n",
              "      <td>int64</td>\n",
              "    </tr>\n",
              "  </tbody>\n",
              "</table>\n",
              "</div>"
            ],
            "text/plain": [
              "             Column Name  Missing Value Percentage (%) Data Types\n",
              "0  Pengeluaran_perminggu                           0.0      int64\n",
              "1        Frekuensi_makan                           0.0      int64\n",
              "2      Pengeluaran_makan                           0.0      int64\n",
              "3           Transportasi                           0.0     object\n",
              "4         Uang_Transport                           0.0      int64\n",
              "5                  Jarak                           0.0    float64\n",
              "6    Frekuensi_Nongkrong                           0.0      int64\n",
              "7                  Rokok                           0.0     object\n",
              "8                Laundry                           0.0     object\n",
              "9             Organisasi                           0.0      int64"
            ]
          },
          "execution_count": 9,
          "metadata": {},
          "output_type": "execute_result"
        }
      ],
      "source": [
        "lst_missval = []\n",
        "\n",
        "for i in df.isnull().sum():\n",
        "  lst_missval.append((i / len(df) * 100))\n",
        "\n",
        "df_missval = pd.DataFrame({'Column Name':df.columns,\n",
        "                           'Missing Value Percentage (%)':np.round(lst_missval,2),\n",
        "                           'Data Types':df.dtypes})\n",
        "\n",
        "df_missval = df_missval.sort_values(by='Missing Value Percentage (%)', \n",
        "                       ascending = False).reset_index().drop(columns = 'index')\n",
        "\n",
        "df_missval    "
      ]
    },
    {
      "attachments": {},
      "cell_type": "markdown",
      "metadata": {
        "id": "Ym3Pnr4iWF-T"
      },
      "source": [
        "# Encoding"
      ]
    },
    {
      "cell_type": "code",
      "execution_count": 10,
      "metadata": {
        "colab": {
          "base_uri": "https://localhost:8080/",
          "height": 206
        },
        "id": "UHzvZAy4WQ-B",
        "outputId": "5d2ca4f0-f33a-4ef6-8099-cc62ed3ea97d"
      },
      "outputs": [
        {
          "data": {
            "text/html": [
              "<div>\n",
              "<style scoped>\n",
              "    .dataframe tbody tr th:only-of-type {\n",
              "        vertical-align: middle;\n",
              "    }\n",
              "\n",
              "    .dataframe tbody tr th {\n",
              "        vertical-align: top;\n",
              "    }\n",
              "\n",
              "    .dataframe thead th {\n",
              "        text-align: right;\n",
              "    }\n",
              "</style>\n",
              "<table border=\"1\" class=\"dataframe\">\n",
              "  <thead>\n",
              "    <tr style=\"text-align: right;\">\n",
              "      <th></th>\n",
              "      <th>Pengeluaran_perminggu</th>\n",
              "      <th>Frekuensi_makan</th>\n",
              "      <th>Pengeluaran_makan</th>\n",
              "      <th>Transportasi</th>\n",
              "      <th>Uang_Transport</th>\n",
              "      <th>Jarak</th>\n",
              "      <th>Frekuensi_Nongkrong</th>\n",
              "      <th>Rokok</th>\n",
              "      <th>Laundry</th>\n",
              "      <th>Organisasi</th>\n",
              "    </tr>\n",
              "  </thead>\n",
              "  <tbody>\n",
              "    <tr>\n",
              "      <th>0</th>\n",
              "      <td>200000</td>\n",
              "      <td>2</td>\n",
              "      <td>15000</td>\n",
              "      <td>kendaraan pribadi</td>\n",
              "      <td>50000</td>\n",
              "      <td>2.0</td>\n",
              "      <td>3</td>\n",
              "      <td>Tidak</td>\n",
              "      <td>Tidak</td>\n",
              "      <td>0</td>\n",
              "    </tr>\n",
              "    <tr>\n",
              "      <th>1</th>\n",
              "      <td>300000</td>\n",
              "      <td>3</td>\n",
              "      <td>30000</td>\n",
              "      <td>ojek</td>\n",
              "      <td>43500</td>\n",
              "      <td>19.0</td>\n",
              "      <td>0</td>\n",
              "      <td>Tidak</td>\n",
              "      <td>Tidak</td>\n",
              "      <td>1</td>\n",
              "    </tr>\n",
              "    <tr>\n",
              "      <th>2</th>\n",
              "      <td>150000</td>\n",
              "      <td>2</td>\n",
              "      <td>30000</td>\n",
              "      <td>ojek</td>\n",
              "      <td>175000</td>\n",
              "      <td>3.9</td>\n",
              "      <td>1</td>\n",
              "      <td>Ya</td>\n",
              "      <td>Tidak</td>\n",
              "      <td>0</td>\n",
              "    </tr>\n",
              "    <tr>\n",
              "      <th>3</th>\n",
              "      <td>120000</td>\n",
              "      <td>3</td>\n",
              "      <td>12000</td>\n",
              "      <td>ojek</td>\n",
              "      <td>225000</td>\n",
              "      <td>4.0</td>\n",
              "      <td>3</td>\n",
              "      <td>Tidak</td>\n",
              "      <td>Tidak</td>\n",
              "      <td>0</td>\n",
              "    </tr>\n",
              "    <tr>\n",
              "      <th>4</th>\n",
              "      <td>100000</td>\n",
              "      <td>3</td>\n",
              "      <td>20000</td>\n",
              "      <td>kendaraan pribadi</td>\n",
              "      <td>20000</td>\n",
              "      <td>4.0</td>\n",
              "      <td>3</td>\n",
              "      <td>Tidak</td>\n",
              "      <td>Ya</td>\n",
              "      <td>0</td>\n",
              "    </tr>\n",
              "  </tbody>\n",
              "</table>\n",
              "</div>"
            ],
            "text/plain": [
              "   Pengeluaran_perminggu  Frekuensi_makan  Pengeluaran_makan  \\\n",
              "0                 200000                2              15000   \n",
              "1                 300000                3              30000   \n",
              "2                 150000                2              30000   \n",
              "3                 120000                3              12000   \n",
              "4                 100000                3              20000   \n",
              "\n",
              "        Transportasi  Uang_Transport  Jarak  Frekuensi_Nongkrong  Rokok  \\\n",
              "0  kendaraan pribadi           50000    2.0                    3  Tidak   \n",
              "1               ojek           43500   19.0                    0  Tidak   \n",
              "2               ojek          175000    3.9                    1     Ya   \n",
              "3               ojek          225000    4.0                    3  Tidak   \n",
              "4  kendaraan pribadi           20000    4.0                    3  Tidak   \n",
              "\n",
              "  Laundry  Organisasi  \n",
              "0   Tidak           0  \n",
              "1   Tidak           1  \n",
              "2   Tidak           0  \n",
              "3   Tidak           0  \n",
              "4      Ya           0  "
            ]
          },
          "execution_count": 10,
          "metadata": {},
          "output_type": "execute_result"
        }
      ],
      "source": [
        "df.head()"
      ]
    },
    {
      "cell_type": "code",
      "execution_count": 11,
      "metadata": {
        "colab": {
          "base_uri": "https://localhost:8080/"
        },
        "id": "OZ4rzRNcWWOC",
        "outputId": "8f9895d3-bf9e-4c1b-8bd9-2159683b76c4"
      },
      "outputs": [
        {
          "data": {
            "text/plain": [
              "kendaraan pribadi    35\n",
              "ojek                 13\n",
              "nebeng temen          7\n",
              "Name: Transportasi, dtype: int64"
            ]
          },
          "execution_count": 11,
          "metadata": {},
          "output_type": "execute_result"
        }
      ],
      "source": [
        "df['Transportasi'].value_counts()"
      ]
    },
    {
      "cell_type": "code",
      "execution_count": 12,
      "metadata": {
        "colab": {
          "base_uri": "https://localhost:8080/"
        },
        "id": "o0PJLxf7Wgqi",
        "outputId": "a74f0112-5260-4e62-e80f-2c6d3ab3ae51"
      },
      "outputs": [
        {
          "data": {
            "text/plain": [
              "Tidak    47\n",
              "Ya        8\n",
              "Name: Rokok, dtype: int64"
            ]
          },
          "execution_count": 12,
          "metadata": {},
          "output_type": "execute_result"
        }
      ],
      "source": [
        "df['Rokok'].value_counts()"
      ]
    },
    {
      "cell_type": "code",
      "execution_count": 13,
      "metadata": {
        "colab": {
          "base_uri": "https://localhost:8080/"
        },
        "id": "Ru1e8IYcw-XD",
        "outputId": "6e2bf811-2db7-403c-9aa2-247db283c6fb"
      },
      "outputs": [
        {
          "data": {
            "text/plain": [
              "Tidak    34\n",
              "Ya       21\n",
              "Name: Laundry, dtype: int64"
            ]
          },
          "execution_count": 13,
          "metadata": {},
          "output_type": "execute_result"
        }
      ],
      "source": [
        "df['Laundry'].value_counts()"
      ]
    },
    {
      "attachments": {},
      "cell_type": "markdown",
      "metadata": {
        "id": "jcbfwSxoXUl5"
      },
      "source": [
        "## dummy encoding"
      ]
    },
    {
      "cell_type": "code",
      "execution_count": 14,
      "metadata": {
        "colab": {
          "base_uri": "https://localhost:8080/",
          "height": 288
        },
        "id": "GmdjgTOZXaUh",
        "outputId": "61d9eeb8-046f-4df2-95da-ab6e5159e244"
      },
      "outputs": [
        {
          "data": {
            "text/html": [
              "<div>\n",
              "<style scoped>\n",
              "    .dataframe tbody tr th:only-of-type {\n",
              "        vertical-align: middle;\n",
              "    }\n",
              "\n",
              "    .dataframe tbody tr th {\n",
              "        vertical-align: top;\n",
              "    }\n",
              "\n",
              "    .dataframe thead th {\n",
              "        text-align: right;\n",
              "    }\n",
              "</style>\n",
              "<table border=\"1\" class=\"dataframe\">\n",
              "  <thead>\n",
              "    <tr style=\"text-align: right;\">\n",
              "      <th></th>\n",
              "      <th>Pengeluaran_perminggu</th>\n",
              "      <th>Frekuensi_makan</th>\n",
              "      <th>Pengeluaran_makan</th>\n",
              "      <th>Uang_Transport</th>\n",
              "      <th>Jarak</th>\n",
              "      <th>Frekuensi_Nongkrong</th>\n",
              "      <th>Organisasi</th>\n",
              "      <th>Transportasi_nebeng temen</th>\n",
              "      <th>Transportasi_ojek</th>\n",
              "      <th>Rokok_Ya</th>\n",
              "      <th>Laundry_Ya</th>\n",
              "    </tr>\n",
              "  </thead>\n",
              "  <tbody>\n",
              "    <tr>\n",
              "      <th>0</th>\n",
              "      <td>200000</td>\n",
              "      <td>2</td>\n",
              "      <td>15000</td>\n",
              "      <td>50000</td>\n",
              "      <td>2.0</td>\n",
              "      <td>3</td>\n",
              "      <td>0</td>\n",
              "      <td>0</td>\n",
              "      <td>0</td>\n",
              "      <td>0</td>\n",
              "      <td>0</td>\n",
              "    </tr>\n",
              "    <tr>\n",
              "      <th>1</th>\n",
              "      <td>300000</td>\n",
              "      <td>3</td>\n",
              "      <td>30000</td>\n",
              "      <td>43500</td>\n",
              "      <td>19.0</td>\n",
              "      <td>0</td>\n",
              "      <td>1</td>\n",
              "      <td>0</td>\n",
              "      <td>1</td>\n",
              "      <td>0</td>\n",
              "      <td>0</td>\n",
              "    </tr>\n",
              "    <tr>\n",
              "      <th>2</th>\n",
              "      <td>150000</td>\n",
              "      <td>2</td>\n",
              "      <td>30000</td>\n",
              "      <td>175000</td>\n",
              "      <td>3.9</td>\n",
              "      <td>1</td>\n",
              "      <td>0</td>\n",
              "      <td>0</td>\n",
              "      <td>1</td>\n",
              "      <td>1</td>\n",
              "      <td>0</td>\n",
              "    </tr>\n",
              "    <tr>\n",
              "      <th>3</th>\n",
              "      <td>120000</td>\n",
              "      <td>3</td>\n",
              "      <td>12000</td>\n",
              "      <td>225000</td>\n",
              "      <td>4.0</td>\n",
              "      <td>3</td>\n",
              "      <td>0</td>\n",
              "      <td>0</td>\n",
              "      <td>1</td>\n",
              "      <td>0</td>\n",
              "      <td>0</td>\n",
              "    </tr>\n",
              "    <tr>\n",
              "      <th>4</th>\n",
              "      <td>100000</td>\n",
              "      <td>3</td>\n",
              "      <td>20000</td>\n",
              "      <td>20000</td>\n",
              "      <td>4.0</td>\n",
              "      <td>3</td>\n",
              "      <td>0</td>\n",
              "      <td>0</td>\n",
              "      <td>0</td>\n",
              "      <td>0</td>\n",
              "      <td>1</td>\n",
              "    </tr>\n",
              "  </tbody>\n",
              "</table>\n",
              "</div>"
            ],
            "text/plain": [
              "   Pengeluaran_perminggu  Frekuensi_makan  Pengeluaran_makan  Uang_Transport  \\\n",
              "0                 200000                2              15000           50000   \n",
              "1                 300000                3              30000           43500   \n",
              "2                 150000                2              30000          175000   \n",
              "3                 120000                3              12000          225000   \n",
              "4                 100000                3              20000           20000   \n",
              "\n",
              "   Jarak  Frekuensi_Nongkrong  Organisasi  Transportasi_nebeng temen  \\\n",
              "0    2.0                    3           0                          0   \n",
              "1   19.0                    0           1                          0   \n",
              "2    3.9                    1           0                          0   \n",
              "3    4.0                    3           0                          0   \n",
              "4    4.0                    3           0                          0   \n",
              "\n",
              "   Transportasi_ojek  Rokok_Ya  Laundry_Ya  \n",
              "0                  0         0           0  \n",
              "1                  1         0           0  \n",
              "2                  1         1           0  \n",
              "3                  1         0           0  \n",
              "4                  0         0           1  "
            ]
          },
          "execution_count": 14,
          "metadata": {},
          "output_type": "execute_result"
        }
      ],
      "source": [
        "df_dummy = df.copy()\n",
        "\n",
        "df_dummy = pd.get_dummies(df_dummy, drop_first=True)\n",
        "df_dummy.head()"
      ]
    },
    {
      "attachments": {},
      "cell_type": "markdown",
      "metadata": {
        "id": "qJEVa47UX6rN"
      },
      "source": [
        "## RedHot Encoding"
      ]
    },
    {
      "cell_type": "code",
      "execution_count": 15,
      "metadata": {
        "colab": {
          "base_uri": "https://localhost:8080/",
          "height": 288
        },
        "id": "7OLVrIKaX_bF",
        "outputId": "d26d3fa2-15eb-4fec-901b-751f7a303fcf"
      },
      "outputs": [
        {
          "data": {
            "text/html": [
              "<div>\n",
              "<style scoped>\n",
              "    .dataframe tbody tr th:only-of-type {\n",
              "        vertical-align: middle;\n",
              "    }\n",
              "\n",
              "    .dataframe tbody tr th {\n",
              "        vertical-align: top;\n",
              "    }\n",
              "\n",
              "    .dataframe thead th {\n",
              "        text-align: right;\n",
              "    }\n",
              "</style>\n",
              "<table border=\"1\" class=\"dataframe\">\n",
              "  <thead>\n",
              "    <tr style=\"text-align: right;\">\n",
              "      <th></th>\n",
              "      <th>Pengeluaran_perminggu</th>\n",
              "      <th>Frekuensi_makan</th>\n",
              "      <th>Pengeluaran_makan</th>\n",
              "      <th>Uang_Transport</th>\n",
              "      <th>Jarak</th>\n",
              "      <th>Frekuensi_Nongkrong</th>\n",
              "      <th>Organisasi</th>\n",
              "      <th>Transportasi_kendaraan pribadi</th>\n",
              "      <th>Transportasi_nebeng temen</th>\n",
              "      <th>Transportasi_ojek</th>\n",
              "      <th>Rokok_Tidak</th>\n",
              "      <th>Rokok_Ya</th>\n",
              "      <th>Laundry_Tidak</th>\n",
              "      <th>Laundry_Ya</th>\n",
              "    </tr>\n",
              "  </thead>\n",
              "  <tbody>\n",
              "    <tr>\n",
              "      <th>0</th>\n",
              "      <td>200000</td>\n",
              "      <td>2</td>\n",
              "      <td>15000</td>\n",
              "      <td>50000</td>\n",
              "      <td>2.0</td>\n",
              "      <td>3</td>\n",
              "      <td>0</td>\n",
              "      <td>1</td>\n",
              "      <td>0</td>\n",
              "      <td>0</td>\n",
              "      <td>1</td>\n",
              "      <td>0</td>\n",
              "      <td>1</td>\n",
              "      <td>0</td>\n",
              "    </tr>\n",
              "    <tr>\n",
              "      <th>1</th>\n",
              "      <td>300000</td>\n",
              "      <td>3</td>\n",
              "      <td>30000</td>\n",
              "      <td>43500</td>\n",
              "      <td>19.0</td>\n",
              "      <td>0</td>\n",
              "      <td>1</td>\n",
              "      <td>0</td>\n",
              "      <td>0</td>\n",
              "      <td>1</td>\n",
              "      <td>1</td>\n",
              "      <td>0</td>\n",
              "      <td>1</td>\n",
              "      <td>0</td>\n",
              "    </tr>\n",
              "    <tr>\n",
              "      <th>2</th>\n",
              "      <td>150000</td>\n",
              "      <td>2</td>\n",
              "      <td>30000</td>\n",
              "      <td>175000</td>\n",
              "      <td>3.9</td>\n",
              "      <td>1</td>\n",
              "      <td>0</td>\n",
              "      <td>0</td>\n",
              "      <td>0</td>\n",
              "      <td>1</td>\n",
              "      <td>0</td>\n",
              "      <td>1</td>\n",
              "      <td>1</td>\n",
              "      <td>0</td>\n",
              "    </tr>\n",
              "    <tr>\n",
              "      <th>3</th>\n",
              "      <td>120000</td>\n",
              "      <td>3</td>\n",
              "      <td>12000</td>\n",
              "      <td>225000</td>\n",
              "      <td>4.0</td>\n",
              "      <td>3</td>\n",
              "      <td>0</td>\n",
              "      <td>0</td>\n",
              "      <td>0</td>\n",
              "      <td>1</td>\n",
              "      <td>1</td>\n",
              "      <td>0</td>\n",
              "      <td>1</td>\n",
              "      <td>0</td>\n",
              "    </tr>\n",
              "    <tr>\n",
              "      <th>4</th>\n",
              "      <td>100000</td>\n",
              "      <td>3</td>\n",
              "      <td>20000</td>\n",
              "      <td>20000</td>\n",
              "      <td>4.0</td>\n",
              "      <td>3</td>\n",
              "      <td>0</td>\n",
              "      <td>1</td>\n",
              "      <td>0</td>\n",
              "      <td>0</td>\n",
              "      <td>1</td>\n",
              "      <td>0</td>\n",
              "      <td>0</td>\n",
              "      <td>1</td>\n",
              "    </tr>\n",
              "  </tbody>\n",
              "</table>\n",
              "</div>"
            ],
            "text/plain": [
              "   Pengeluaran_perminggu  Frekuensi_makan  Pengeluaran_makan  Uang_Transport  \\\n",
              "0                 200000                2              15000           50000   \n",
              "1                 300000                3              30000           43500   \n",
              "2                 150000                2              30000          175000   \n",
              "3                 120000                3              12000          225000   \n",
              "4                 100000                3              20000           20000   \n",
              "\n",
              "   Jarak  Frekuensi_Nongkrong  Organisasi  Transportasi_kendaraan pribadi  \\\n",
              "0    2.0                    3           0                               1   \n",
              "1   19.0                    0           1                               0   \n",
              "2    3.9                    1           0                               0   \n",
              "3    4.0                    3           0                               0   \n",
              "4    4.0                    3           0                               1   \n",
              "\n",
              "   Transportasi_nebeng temen  Transportasi_ojek  Rokok_Tidak  Rokok_Ya  \\\n",
              "0                          0                  0            1         0   \n",
              "1                          0                  1            1         0   \n",
              "2                          0                  1            0         1   \n",
              "3                          0                  1            1         0   \n",
              "4                          0                  0            1         0   \n",
              "\n",
              "   Laundry_Tidak  Laundry_Ya  \n",
              "0              1           0  \n",
              "1              1           0  \n",
              "2              1           0  \n",
              "3              1           0  \n",
              "4              0           1  "
            ]
          },
          "execution_count": 15,
          "metadata": {},
          "output_type": "execute_result"
        }
      ],
      "source": [
        "df_onehot = df.copy()\n",
        "\n",
        "df_onehot = pd.get_dummies(df_onehot)\n",
        "df_onehot.head()"
      ]
    },
    {
      "attachments": {},
      "cell_type": "markdown",
      "metadata": {
        "id": "auv70GEtYLsO"
      },
      "source": [
        "# Exploratory Data Analysis"
      ]
    },
    {
      "cell_type": "code",
      "execution_count": 16,
      "metadata": {
        "colab": {
          "base_uri": "https://localhost:8080/",
          "height": 832
        },
        "id": "Gqi7S_jdYTVb",
        "outputId": "0c21f8ea-3aac-4e97-f820-a45eb7c86f89"
      },
      "outputs": [
        {
          "data": {
            "image/png": "[encoded data removed]",
            "text/plain": [
              "<Figure size 600x400 with 1 Axes>"
            ]
          },
          "metadata": {},
          "output_type": "display_data"
        },
        {
          "data": {
            "text/plain": [
              "<function matplotlib.pyplot.show(close=None, block=None)>"
            ]
          },
          "execution_count": 16,
          "metadata": {},
          "output_type": "execute_result"
        },
        {
          "data": {
            "image/png": "[encoded data removed]",
            "text/plain": [
              "<Figure size 600x400 with 1 Axes>"
            ]
          },
          "metadata": {},
          "output_type": "display_data"
        }
      ],
      "source": [
        "import seaborn as sns\n",
        "import matplotlib.pyplot as plt\n",
        "\n",
        "sns.set(rc={'figure.figsize':(6,4)}) \n",
        "sns.distplot(df['Pengeluaran_perminggu'], bins=10, kde_kws={'linewidth': 3})\n",
        "plt.show()\n",
        "\n",
        "plt.figure(figsize=(6,4))\n",
        "sns.boxplot(x=df['Pengeluaran_perminggu'], color='grey')\n",
        "plt.xlabel('Value')\n",
        "plt.title('Pengeluaran_perminggu')\n",
        "plt.show"
      ]
    },
    {
      "cell_type": "code",
      "execution_count": 17,
      "metadata": {
        "colab": {
          "base_uri": "https://localhost:8080/"
        },
        "id": "MJmSFHbCg7JT",
        "outputId": "a1232ce3-2495-47da-bc17-40ad2bae1d05"
      },
      "outputs": [
        {
          "data": {
            "text/plain": [
              "Index(['Frekuensi_makan', 'Pengeluaran_makan', 'Transportasi',\n",
              "       'Uang_Transport', 'Jarak', 'Frekuensi_Nongkrong', 'Rokok', 'Laundry',\n",
              "       'Organisasi'],\n",
              "      dtype='object')"
            ]
          },
          "execution_count": 17,
          "metadata": {},
          "output_type": "execute_result"
        }
      ],
      "source": [
        "df.drop(columns=['Pengeluaran_perminggu']).columns"
      ]
    },
    {
      "cell_type": "code",
      "execution_count": 18,
      "metadata": {
        "colab": {
          "base_uri": "https://localhost:8080/",
          "height": 504
        },
        "id": "5qXUuHc4hJsk",
        "outputId": "d51f9e63-f451-4dfe-c2bf-3b93b0346a7f"
      },
      "outputs": [
        {
          "data": {
            "image/png": "[encoded data removed]",
            "text/plain": [
              "<Figure size 1800x700 with 9 Axes>"
            ]
          },
          "metadata": {},
          "output_type": "display_data"
        }
      ],
      "source": [
        "plt.figure(figsize=(18, 7))\n",
        "\n",
        "predictors = df.drop(columns=['Pengeluaran_perminggu']).columns\n",
        "response = df['Pengeluaran_perminggu']\n",
        "\n",
        "for i, col in enumerate(predictors):\n",
        "    plt.subplot(1, len(predictors) , i+1)\n",
        "    x = df[col]\n",
        "    y = response\n",
        "    plt.scatter(x, y, marker='o', color='darkblue', alpha=0.15)\n",
        "    plt.title(col)\n",
        "    plt.xlabel(col)\n",
        "    plt.ylabel('Pengeluaran_perminggu')\n",
        "    plt.tight_layout()"
      ]
    },
    {
      "cell_type": "code",
      "execution_count": 19,
      "metadata": {
        "colab": {
          "base_uri": "https://localhost:8080/",
          "height": 798
        },
        "id": "8718iZbnnl8Q",
        "outputId": "da9eee61-1206-40be-a8cf-670140a1f176"
      },
      "outputs": [
        {
          "data": {
            "text/plain": [
              "<Axes: >"
            ]
          },
          "execution_count": 19,
          "metadata": {},
          "output_type": "execute_result"
        },
        {
          "data": {
            "image/png": "[encoded data removed]",
            "text/plain": [
              "<Figure size 700x700 with 2 Axes>"
            ]
          },
          "metadata": {},
          "output_type": "display_data"
        }
      ],
      "source": [
        "import numpy as np\n",
        "\n",
        "#untuk mengetahui korelasi linier antar variabel\n",
        "mask = np.triu(np.ones_like(df.corr())) #agar yang muncul segitiga bawah\n",
        " \n",
        "# annot = True untuk mencetak/ menampilkan nilai korelasi di dalam kotak\n",
        "sns.set(rc={'figure.figsize':(7,7)}) \n",
        "sns.heatmap(df.corr(method='pearson').round(2), annot=True, cmap='PRGn', mask=mask, vmin=-1, vmax=1)"
      ]
    },
    {
      "attachments": {},
      "cell_type": "markdown",
      "metadata": {
        "id": "LV7lINCU9XGb"
      },
      "source": [
        "# Bar Chart"
      ]
    },
    {
      "attachments": {},
      "cell_type": "markdown",
      "metadata": {
        "id": "AU_8udc49bII"
      },
      "source": [
        "# Pie Chart"
      ]
    },
    {
      "attachments": {},
      "cell_type": "markdown",
      "metadata": {
        "id": "G2U-Fb2o9YcR"
      },
      "source": []
    },
    {
      "attachments": {},
      "cell_type": "markdown",
      "metadata": {
        "id": "2jGYh_ds9peZ"
      },
      "source": [
        "# Barplot (Variabel Kategorik)"
      ]
    },
    {
      "cell_type": "code",
      "execution_count": null,
      "metadata": {
        "id": "zw05NPUO9vf1"
      },
      "outputs": [],
      "source": []
    },
    {
      "attachments": {},
      "cell_type": "markdown",
      "metadata": {
        "id": "inzy8mT4ndZG"
      },
      "source": [
        "# Multiple Linear Regretion"
      ]
    },
    {
      "attachments": {},
      "cell_type": "markdown",
      "metadata": {
        "id": "3p-cfHcrocBo"
      },
      "source": [
        "## Regression with Dummy Encoding"
      ]
    },
    {
      "attachments": {},
      "cell_type": "markdown",
      "metadata": {
        "id": "fo2x2-V7n55F"
      },
      "source": [
        "### Create OLS model"
      ]
    },
    {
      "cell_type": "code",
      "execution_count": 20,
      "metadata": {
        "colab": {
          "base_uri": "https://localhost:8080/"
        },
        "id": "HZ2gaMyUn_OT",
        "outputId": "f360c451-12f1-4cdc-e88b-482c5660c037"
      },
      "outputs": [
        {
          "name": "stdout",
          "output_type": "stream",
          "text": [
            "                              OLS Regression Results                             \n",
            "=================================================================================\n",
            "Dep. Variable:     Pengeluaran_perminggu   R-squared:                       0.864\n",
            "Model:                               OLS   Adj. R-squared:                  0.833\n",
            "Method:                    Least Squares   F-statistic:                     28.02\n",
            "Date:                   Sun, 21 May 2023   Prob (F-statistic):           7.10e-16\n",
            "Time:                           14:38:45   Log-Likelihood:                -690.36\n",
            "No. Observations:                     55   AIC:                             1403.\n",
            "Df Residuals:                         44   BIC:                             1425.\n",
            "Df Model:                             10                                         \n",
            "Covariance Type:               nonrobust                                         \n",
            "=============================================================================================\n",
            "                                coef    std err          t      P>|t|      [0.025      0.975]\n",
            "---------------------------------------------------------------------------------------------\n",
            "const                      1.807e+05   5.44e+04      3.322      0.002    7.11e+04     2.9e+05\n",
            "Frekuensi_makan             135.6961   2.08e+04      0.007      0.995   -4.18e+04    4.21e+04\n",
            "Pengeluaran_makan            -3.4629      1.857     -1.865      0.069      -7.206       0.280\n",
            "Uang_Transport               -0.0739      0.292     -0.253      0.801      -0.662       0.514\n",
            "Jarak                      7712.1548   2888.918      2.670      0.011    1889.924    1.35e+04\n",
            "Frekuensi_Nongkrong        8512.3650   8578.558      0.992      0.326   -8776.582    2.58e+04\n",
            "Organisasi                  1.94e+05   1.48e+04     13.113      0.000    1.64e+05    2.24e+05\n",
            "Transportasi_nebeng temen -2.153e+04    3.4e+04     -0.633      0.530   -9.01e+04    4.71e+04\n",
            "Transportasi_ojek         -2.045e+04   3.76e+04     -0.544      0.589   -9.62e+04    5.53e+04\n",
            "Rokok_Ya                  -9820.1310   4.15e+04     -0.237      0.814   -9.34e+04    7.38e+04\n",
            "Laundry_Ya                  2.93e+04   2.65e+04      1.107      0.274    -2.4e+04    8.26e+04\n",
            "==============================================================================\n",
            "Omnibus:                        0.994   Durbin-Watson:                   1.903\n",
            "Prob(Omnibus):                  0.608   Jarque-Bera (JB):                0.391\n",
            "Skew:                           0.133   Prob(JB):                        0.822\n",
            "Kurtosis:                       3.317   Cond. No.                     4.37e+05\n",
            "==============================================================================\n",
            "\n",
            "Notes:\n",
            "[1] Standard Errors assume that the covariance matrix of the errors is correctly specified.\n",
            "[2] The condition number is large, 4.37e+05. This might indicate that there are\n",
            "strong multicollinearity or other numerical problems.\n"
          ]
        }
      ],
      "source": [
        "import statsmodels.api as sm\n",
        "\n",
        "x_dummy = df_dummy.drop(columns=['Pengeluaran_perminggu'])\n",
        "y_dummy = df_dummy['Pengeluaran_perminggu']\n",
        "\n",
        "X_dummy = sm.add_constant(x_dummy)\n",
        "result_dummy = sm.OLS(y_dummy, X_dummy).fit()\n",
        "print(result_dummy.summary())"
      ]
    },
    {
      "attachments": {},
      "cell_type": "markdown",
      "metadata": {
        "id": "6dfLj-0to4y4"
      },
      "source": [
        "### Regression Equation\n"
      ]
    },
    {
      "attachments": {},
      "cell_type": "markdown",
      "metadata": {
        "id": "gwnfSCE8pCyv"
      },
      "source": [
        "**Persamaan regresi dari output tersebut adalah:**\n",
        "\n",
        "cnt = 2933.4104  + 5818.3184 (temp) + 406.0477 (atemp) - 2610.9173(hum) - 3280.3364(windspeed) - 469.1203(season_springer) + 448.5441(season_summer) + 1024.6716(season_winter) + 596.8185(holiday_not holiday) + 101.1146(workingday_workingday) - 1941.7010(weathersit_light snow) - 233.9494(weathersit_mist).\n",
        "\n",
        "**Keterangan:**\n",
        "\n",
        "\n",
        "*   Variabel dependen: cnt.\n",
        "*   Variabel independen: season, holiday, workingday, weathersit, temp, atemp, hum, windspeed\n",
        "\n"
      ]
    },
    {
      "attachments": {},
      "cell_type": "markdown",
      "metadata": {
        "id": "jrX0vFdFtVrC"
      },
      "source": [
        "### Significance Test"
      ]
    },
    {
      "attachments": {},
      "cell_type": "markdown",
      "metadata": {
        "id": "d8b1ogDWtXON"
      },
      "source": [
        "#### Simultan test"
      ]
    },
    {
      "attachments": {},
      "cell_type": "markdown",
      "metadata": {
        "id": "wdRNhXH5uPO3"
      },
      "source": [
        "$H_{0}: \\beta_{1} = \\beta_{2} = \\beta_{3} = \\beta_{4} = \\beta_{5} = \\beta_{6} = \\beta_{7} = \\beta_{8} = \\beta_{9} = \\beta_{10} = \\beta_{11} = 0$\n",
        "\n",
        "\n",
        "$H_{1}$: minimal ada satu $\\beta_{i}  \\neq 0$, $i=1,2,3,4,5,6,7,8,9,10,11$"
      ]
    },
    {
      "cell_type": "code",
      "execution_count": 21,
      "metadata": {
        "colab": {
          "base_uri": "https://localhost:8080/",
          "height": 81
        },
        "id": "4GmZqCwVtq2o",
        "outputId": "fa180e41-7c2c-4256-9f91-83ad33de0af9"
      },
      "outputs": [
        {
          "data": {
            "text/html": [
              "<div>\n",
              "<style scoped>\n",
              "    .dataframe tbody tr th:only-of-type {\n",
              "        vertical-align: middle;\n",
              "    }\n",
              "\n",
              "    .dataframe tbody tr th {\n",
              "        vertical-align: top;\n",
              "    }\n",
              "\n",
              "    .dataframe thead th {\n",
              "        text-align: right;\n",
              "    }\n",
              "</style>\n",
              "<table border=\"1\" class=\"dataframe\">\n",
              "  <thead>\n",
              "    <tr style=\"text-align: right;\">\n",
              "      <th></th>\n",
              "      <th>F-hitung</th>\n",
              "      <th>p-value</th>\n",
              "      <th>alpha</th>\n",
              "      <th>Kesimpulan</th>\n",
              "    </tr>\n",
              "  </thead>\n",
              "  <tbody>\n",
              "    <tr>\n",
              "      <th>0</th>\n",
              "      <td>28.019155</td>\n",
              "      <td>7.104074e-16</td>\n",
              "      <td>0.1</td>\n",
              "      <td>Tolak H0</td>\n",
              "    </tr>\n",
              "  </tbody>\n",
              "</table>\n",
              "</div>"
            ],
            "text/plain": [
              "    F-hitung       p-value  alpha Kesimpulan\n",
              "0  28.019155  7.104074e-16    0.1   Tolak H0"
            ]
          },
          "execution_count": 21,
          "metadata": {},
          "output_type": "execute_result"
        }
      ],
      "source": [
        "df_simultan_dummy = pd.DataFrame({'F-hitung':[result_dummy.fvalue],\n",
        "                                  'p-value':[result_dummy.f_pvalue],\n",
        "                                  'alpha':[0.1]})\n",
        "\n",
        "df_simultan_dummy['Kesimpulan'] = df_simultan_dummy['p-value'].gt((df_simultan_dummy['alpha']))\n",
        "df_simultan_dummy['Kesimpulan'] = df_simultan_dummy['Kesimpulan'].replace({True:'Gagal Tolak H0',\n",
        "                                                                           False:'Tolak H0'})\n",
        "\n",
        "df_simultan_dummy"
      ]
    },
    {
      "attachments": {},
      "cell_type": "markdown",
      "metadata": {
        "id": "bG23bXGrug6I"
      },
      "source": [
        "#### Partial Test"
      ]
    },
    {
      "attachments": {},
      "cell_type": "markdown",
      "metadata": {
        "id": "Y84Fj_PgunUW"
      },
      "source": [
        "Untuk $\\beta_{1}$\n",
        "\n",
        "$H_{0}: \\beta_{1} = 0$\n",
        "\n",
        "$H_{1}: \\beta_{1} \\neq 0$\n",
        "\n",
        "Untuk $\\beta_{2}$\n",
        "\n",
        "$H_{0}: \\beta_{2} = 0$\n",
        "\n",
        "$H_{1}: \\beta_{2} \\neq 0$\n",
        "\n",
        "Untuk $\\beta_{3}$\n",
        "\n",
        "$H_{0}: \\beta_{3} = 0$\n",
        "\n",
        "$H_{1}: \\beta_{3} \\neq 0$\n",
        "\n",
        "Untuk $\\beta_{4}$\n",
        "\n",
        "$H_{0}: \\beta_{4} = 0$\n",
        "\n",
        "$H_{1}: \\beta_{4} \\neq 0$\n",
        "\n",
        "Untuk $\\beta_{5}$\n",
        "\n",
        "$H_{0}: \\beta_{5} = 0$\n",
        "\n",
        "$H_{1}: \\beta_{5} \\neq 0$\n",
        "\n",
        "Untuk $\\beta_{6}$\n",
        "\n",
        "$H_{0}: \\beta_{6} = 0$\n",
        "\n",
        "$H_{1}: \\beta_{6} \\neq 0$\n",
        "\n",
        "Untuk $\\beta_{7}$\n",
        "\n",
        "$H_{0}: \\beta_{7} = 0$\n",
        "\n",
        "$H_{1}: \\beta_{7} \\neq 0$\n",
        "\n",
        "Untuk $\\beta_{8}$\n",
        "\n",
        "$H_{0}: \\beta_{8} = 0$\n",
        "\n",
        "$H_{1}: \\beta_{8} \\neq 0$\n",
        "\n",
        "Untuk $\\beta_{9}$\n",
        "\n",
        "$H_{0}: \\beta_{9} = 0$\n",
        "\n",
        "$H_{1}: \\beta_{9} \\neq 0$\n",
        "\n",
        "Untuk $\\beta_{10}$\n",
        "\n",
        "$H_{0}: \\beta_{10} = 0$\n",
        "\n",
        "$H_{1}: \\beta_{10} \\neq 0$\n",
        "\n",
        "Untuk $\\beta_{11}$\n",
        "\n",
        "$H_{0}: \\beta_{11} = 0$\n",
        "\n",
        "$H_{1}: \\beta_{11} \\neq 0$"
      ]
    },
    {
      "cell_type": "code",
      "execution_count": 22,
      "metadata": {
        "colab": {
          "base_uri": "https://localhost:8080/",
          "height": 394
        },
        "id": "HR2nSYBpo4Ia",
        "outputId": "810acfce-4829-443c-8e5a-688755c83270"
      },
      "outputs": [
        {
          "data": {
            "text/html": [
              "<div>\n",
              "<style scoped>\n",
              "    .dataframe tbody tr th:only-of-type {\n",
              "        vertical-align: middle;\n",
              "    }\n",
              "\n",
              "    .dataframe tbody tr th {\n",
              "        vertical-align: top;\n",
              "    }\n",
              "\n",
              "    .dataframe thead th {\n",
              "        text-align: right;\n",
              "    }\n",
              "</style>\n",
              "<table border=\"1\" class=\"dataframe\">\n",
              "  <thead>\n",
              "    <tr style=\"text-align: right;\">\n",
              "      <th></th>\n",
              "      <th>Variabel</th>\n",
              "      <th>t-hitung</th>\n",
              "      <th>p-value</th>\n",
              "      <th>alpha</th>\n",
              "      <th>Kesimpulan</th>\n",
              "    </tr>\n",
              "  </thead>\n",
              "  <tbody>\n",
              "    <tr>\n",
              "      <th>0</th>\n",
              "      <td>const</td>\n",
              "      <td>3.322492</td>\n",
              "      <td>1.802742e-03</td>\n",
              "      <td>0.1</td>\n",
              "      <td>Tolak H0</td>\n",
              "    </tr>\n",
              "    <tr>\n",
              "      <th>1</th>\n",
              "      <td>Frekuensi_makan</td>\n",
              "      <td>0.006524</td>\n",
              "      <td>9.948239e-01</td>\n",
              "      <td>0.1</td>\n",
              "      <td>Gagal Tolak H0</td>\n",
              "    </tr>\n",
              "    <tr>\n",
              "      <th>2</th>\n",
              "      <td>Pengeluaran_makan</td>\n",
              "      <td>-1.864644</td>\n",
              "      <td>6.891026e-02</td>\n",
              "      <td>0.1</td>\n",
              "      <td>Tolak H0</td>\n",
              "    </tr>\n",
              "    <tr>\n",
              "      <th>3</th>\n",
              "      <td>Uang_Transport</td>\n",
              "      <td>-0.253315</td>\n",
              "      <td>8.012044e-01</td>\n",
              "      <td>0.1</td>\n",
              "      <td>Gagal Tolak H0</td>\n",
              "    </tr>\n",
              "    <tr>\n",
              "      <th>4</th>\n",
              "      <td>Jarak</td>\n",
              "      <td>2.669565</td>\n",
              "      <td>1.059885e-02</td>\n",
              "      <td>0.1</td>\n",
              "      <td>Tolak H0</td>\n",
              "    </tr>\n",
              "    <tr>\n",
              "      <th>5</th>\n",
              "      <td>Frekuensi_Nongkrong</td>\n",
              "      <td>0.992284</td>\n",
              "      <td>3.264848e-01</td>\n",
              "      <td>0.1</td>\n",
              "      <td>Gagal Tolak H0</td>\n",
              "    </tr>\n",
              "    <tr>\n",
              "      <th>6</th>\n",
              "      <td>Organisasi</td>\n",
              "      <td>13.112686</td>\n",
              "      <td>8.420871e-17</td>\n",
              "      <td>0.1</td>\n",
              "      <td>Tolak H0</td>\n",
              "    </tr>\n",
              "    <tr>\n",
              "      <th>7</th>\n",
              "      <td>Transportasi_nebeng temen</td>\n",
              "      <td>-0.632588</td>\n",
              "      <td>5.302769e-01</td>\n",
              "      <td>0.1</td>\n",
              "      <td>Gagal Tolak H0</td>\n",
              "    </tr>\n",
              "    <tr>\n",
              "      <th>8</th>\n",
              "      <td>Transportasi_ojek</td>\n",
              "      <td>-0.544329</td>\n",
              "      <td>5.889629e-01</td>\n",
              "      <td>0.1</td>\n",
              "      <td>Gagal Tolak H0</td>\n",
              "    </tr>\n",
              "    <tr>\n",
              "      <th>9</th>\n",
              "      <td>Rokok_Ya</td>\n",
              "      <td>-0.236653</td>\n",
              "      <td>8.140244e-01</td>\n",
              "      <td>0.1</td>\n",
              "      <td>Gagal Tolak H0</td>\n",
              "    </tr>\n",
              "    <tr>\n",
              "      <th>10</th>\n",
              "      <td>Laundry_Ya</td>\n",
              "      <td>1.107003</td>\n",
              "      <td>2.743082e-01</td>\n",
              "      <td>0.1</td>\n",
              "      <td>Gagal Tolak H0</td>\n",
              "    </tr>\n",
              "  </tbody>\n",
              "</table>\n",
              "</div>"
            ],
            "text/plain": [
              "                     Variabel   t-hitung       p-value  alpha      Kesimpulan\n",
              "0                       const   3.322492  1.802742e-03    0.1        Tolak H0\n",
              "1             Frekuensi_makan   0.006524  9.948239e-01    0.1  Gagal Tolak H0\n",
              "2           Pengeluaran_makan  -1.864644  6.891026e-02    0.1        Tolak H0\n",
              "3              Uang_Transport  -0.253315  8.012044e-01    0.1  Gagal Tolak H0\n",
              "4                       Jarak   2.669565  1.059885e-02    0.1        Tolak H0\n",
              "5         Frekuensi_Nongkrong   0.992284  3.264848e-01    0.1  Gagal Tolak H0\n",
              "6                  Organisasi  13.112686  8.420871e-17    0.1        Tolak H0\n",
              "7   Transportasi_nebeng temen  -0.632588  5.302769e-01    0.1  Gagal Tolak H0\n",
              "8           Transportasi_ojek  -0.544329  5.889629e-01    0.1  Gagal Tolak H0\n",
              "9                    Rokok_Ya  -0.236653  8.140244e-01    0.1  Gagal Tolak H0\n",
              "10                 Laundry_Ya   1.107003  2.743082e-01    0.1  Gagal Tolak H0"
            ]
          },
          "execution_count": 22,
          "metadata": {},
          "output_type": "execute_result"
        }
      ],
      "source": [
        "df_partial_dummy = pd.DataFrame()\n",
        "df_partial_dummy['Variabel'] = result_dummy.tvalues.index\n",
        "df_partial_dummy['t-hitung'] = result_dummy.tvalues.values\n",
        "df_partial_dummy['p-value'] = result_dummy.pvalues.values\n",
        "df_partial_dummy['alpha'] = 0.1\n",
        "\n",
        "df_partial_dummy['Kesimpulan'] = df_partial_dummy['p-value'].gt((df_partial_dummy['alpha']))\n",
        "df_partial_dummy['Kesimpulan'] = df_partial_dummy['Kesimpulan'].replace({True:'Gagal Tolak H0',\n",
        "                                                                           False:'Tolak H0'})\n",
        "\n",
        "df_partial_dummy"
      ]
    },
    {
      "attachments": {},
      "cell_type": "markdown",
      "metadata": {
        "id": "MnGczwJ4vMef"
      },
      "source": [
        "## Regression with One-Hot Encoding"
      ]
    },
    {
      "attachments": {},
      "cell_type": "markdown",
      "metadata": {
        "id": "VKbde_5WvRUZ"
      },
      "source": [
        "### Create OLS Model"
      ]
    },
    {
      "cell_type": "code",
      "execution_count": 23,
      "metadata": {
        "colab": {
          "base_uri": "https://localhost:8080/"
        },
        "id": "j7GjD4QjvSaG",
        "outputId": "5e1c66ae-0f34-4ac1-eb09-ddd791c8938f"
      },
      "outputs": [
        {
          "name": "stdout",
          "output_type": "stream",
          "text": [
            "                              OLS Regression Results                             \n",
            "=================================================================================\n",
            "Dep. Variable:     Pengeluaran_perminggu   R-squared:                       0.864\n",
            "Model:                               OLS   Adj. R-squared:                  0.833\n",
            "Method:                    Least Squares   F-statistic:                     28.02\n",
            "Date:                   Sun, 21 May 2023   Prob (F-statistic):           7.10e-16\n",
            "Time:                           14:38:46   Log-Likelihood:                -690.36\n",
            "No. Observations:                     55   AIC:                             1403.\n",
            "Df Residuals:                         44   BIC:                             1425.\n",
            "Df Model:                             10                                         \n",
            "Covariance Type:               nonrobust                                         \n",
            "==================================================================================================\n",
            "                                     coef    std err          t      P>|t|      [0.025      0.975]\n",
            "--------------------------------------------------------------------------------------------------\n",
            "const                           7.562e+04   2.46e+04      3.070      0.004     2.6e+04    1.25e+05\n",
            "Frekuensi_makan                  135.6961   2.08e+04      0.007      0.995   -4.18e+04    4.21e+04\n",
            "Pengeluaran_makan                 -3.4629      1.857     -1.865      0.069      -7.206       0.280\n",
            "Uang_Transport                    -0.0739      0.292     -0.253      0.801      -0.662       0.514\n",
            "Jarak                           7712.1548   2888.918      2.670      0.011    1889.924    1.35e+04\n",
            "Frekuensi_Nongkrong             8512.3650   8578.558      0.992      0.326   -8776.582    2.58e+04\n",
            "Organisasi                       1.94e+05   1.48e+04     13.113      0.000    1.64e+05    2.24e+05\n",
            "Transportasi_kendaraan pribadi   3.92e+04   1.71e+04      2.287      0.027    4660.360    7.37e+04\n",
            "Transportasi_nebeng temen       1.767e+04   2.55e+04      0.692      0.492   -3.38e+04    6.91e+04\n",
            "Transportasi_ojek               1.875e+04   3.13e+04      0.600      0.552   -4.43e+04    8.18e+04\n",
            "Rokok_Tidak                     4.272e+04    2.3e+04      1.858      0.070   -3610.626    8.91e+04\n",
            "Rokok_Ya                         3.29e+04   2.52e+04      1.305      0.199   -1.79e+04    8.37e+04\n",
            "Laundry_Tidak                   2.316e+04   1.46e+04      1.590      0.119   -6188.436    5.25e+04\n",
            "Laundry_Ya                      5.246e+04    2.1e+04      2.497      0.016    1.01e+04    9.48e+04\n",
            "==============================================================================\n",
            "Omnibus:                        0.994   Durbin-Watson:                   1.903\n",
            "Prob(Omnibus):                  0.608   Jarque-Bera (JB):                0.391\n",
            "Skew:                           0.133   Prob(JB):                        0.822\n",
            "Kurtosis:                       3.317   Cond. No.                     3.19e+21\n",
            "==============================================================================\n",
            "\n",
            "Notes:\n",
            "[1] Standard Errors assume that the covariance matrix of the errors is correctly specified.\n",
            "[2] The smallest eigenvalue is 2.97e-32. This might indicate that there are\n",
            "strong multicollinearity problems or that the design matrix is singular.\n"
          ]
        }
      ],
      "source": [
        "import statsmodels.api as sm\n",
        "\n",
        "x_onehot = df_onehot.drop(columns=['Pengeluaran_perminggu'])\n",
        "y_onehot = df_onehot['Pengeluaran_perminggu']\n",
        "\n",
        "X_onehot = sm.add_constant(x_onehot)\n",
        "result_onehot = sm.OLS(y_onehot, X_onehot).fit()\n",
        "print(result_onehot.summary())"
      ]
    },
    {
      "attachments": {},
      "cell_type": "markdown",
      "metadata": {
        "id": "HS0THzC2vowL"
      },
      "source": [
        "### Regression Equation"
      ]
    },
    {
      "attachments": {},
      "cell_type": "markdown",
      "metadata": {
        "id": "QStpkbQpvuXr"
      },
      "source": [
        "Persamaan regresi dari output tersebut adalah:\n",
        "\n",
        "**Persamaan regresi dari output tersebut adalah:**\n",
        "\n",
        "cnt = 1.213e+16   + 5746.5581 (temp) + 494.4492 (atemp) - 2608.7129(hum) - 3289.7877(windspeed) + 2.71e+15(season_fall) + 2.71e+153(season_springer) + 2.71e+15(season_summer) + 2.71e+15 (season_winter) - 8.171e+15(holiday_holiday - 8.171e+15(holiday_not holiday) - 3.129e+15(workingday_not workingday) - 3.129e+15(workingday_workingday) - 3.543e+15(weathersit_clear) - 3.543e+15 (weathersit_light snow) - 3.543e+15 (weathersit_mist).\n",
        "\n",
        "**Keterangan:**\n",
        "\n",
        "\n",
        "*   Variabel dependen: cnt.\n",
        "*   Variabel independen: season, holiday, workingday, weathersit, temp, atemp, hum, windspeed\n",
        "\n"
      ]
    },
    {
      "attachments": {},
      "cell_type": "markdown",
      "metadata": {
        "id": "Rwhg2eR1yc5P"
      },
      "source": [
        "### Significance Test"
      ]
    },
    {
      "attachments": {},
      "cell_type": "markdown",
      "metadata": {
        "id": "CGx9mu-ZyhBZ"
      },
      "source": [
        "#### Simultan Test"
      ]
    },
    {
      "attachments": {},
      "cell_type": "markdown",
      "metadata": {
        "id": "iHc4nv6YyrWd"
      },
      "source": [
        "$H_{0}: \\beta_{1} = \\beta_{2} = \\beta_{3} = \\beta_{4} = \\beta_{5} = \\beta_{6} = \\beta_{7} = \\beta_{8} = \\beta_{9} = \\beta_{10} = \\beta_{11} = \\beta_{12} = \\beta_{13} = \\beta_{14} = \\beta_{15} = 0$\n",
        "\n",
        "\n",
        "$H_{1}$: minimal ada satu $\\beta_{i}  \\neq 0$, $i=1,2,3,4,5,6,7,8,9,10,11,12,13,14,15$"
      ]
    },
    {
      "cell_type": "code",
      "execution_count": 24,
      "metadata": {
        "colab": {
          "base_uri": "https://localhost:8080/",
          "height": 81
        },
        "id": "6QKfSu8ryd1w",
        "outputId": "1a36dc2c-cec8-4b09-bab3-f670c66411c7"
      },
      "outputs": [
        {
          "data": {
            "text/html": [
              "<div>\n",
              "<style scoped>\n",
              "    .dataframe tbody tr th:only-of-type {\n",
              "        vertical-align: middle;\n",
              "    }\n",
              "\n",
              "    .dataframe tbody tr th {\n",
              "        vertical-align: top;\n",
              "    }\n",
              "\n",
              "    .dataframe thead th {\n",
              "        text-align: right;\n",
              "    }\n",
              "</style>\n",
              "<table border=\"1\" class=\"dataframe\">\n",
              "  <thead>\n",
              "    <tr style=\"text-align: right;\">\n",
              "      <th></th>\n",
              "      <th>F-hitung</th>\n",
              "      <th>p-value</th>\n",
              "      <th>alpha</th>\n",
              "      <th>Kesimpulan</th>\n",
              "    </tr>\n",
              "  </thead>\n",
              "  <tbody>\n",
              "    <tr>\n",
              "      <th>0</th>\n",
              "      <td>28.019155</td>\n",
              "      <td>7.104074e-16</td>\n",
              "      <td>0.1</td>\n",
              "      <td>Tolak H0</td>\n",
              "    </tr>\n",
              "  </tbody>\n",
              "</table>\n",
              "</div>"
            ],
            "text/plain": [
              "    F-hitung       p-value  alpha Kesimpulan\n",
              "0  28.019155  7.104074e-16    0.1   Tolak H0"
            ]
          },
          "execution_count": 24,
          "metadata": {},
          "output_type": "execute_result"
        }
      ],
      "source": [
        "df_simultan_onehot = pd.DataFrame({'F-hitung':[result_onehot.fvalue],\n",
        "                                  'p-value':[result_onehot.f_pvalue],\n",
        "                                  'alpha':[0.1]})\n",
        "\n",
        "df_simultan_onehot['Kesimpulan'] = df_simultan_onehot['p-value'].gt((df_simultan_onehot['alpha']))\n",
        "df_simultan_onehot['Kesimpulan'] = df_simultan_onehot['Kesimpulan'].replace({True:'Gagal Tolak H0',\n",
        "                                                                           False:'Tolak H0'})\n",
        "\n",
        "df_simultan_onehot"
      ]
    },
    {
      "attachments": {},
      "cell_type": "markdown",
      "metadata": {
        "id": "iypM2aa4zqTg"
      },
      "source": [
        "#### Partial Test"
      ]
    },
    {
      "attachments": {},
      "cell_type": "markdown",
      "metadata": {
        "id": "LHYeYEoyzra2"
      },
      "source": [
        "Untuk $\\beta_{1}$\n",
        "\n",
        "$H_{0}: \\beta_{1} = 0$\n",
        "\n",
        "$H_{1}: \\beta_{1} \\neq 0$\n",
        "\n",
        "Untuk $\\beta_{2}$\n",
        "\n",
        "$H_{0}: \\beta_{2} = 0$\n",
        "\n",
        "$H_{1}: \\beta_{2} \\neq 0$\n",
        "\n",
        "Untuk $\\beta_{3}$\n",
        "\n",
        "$H_{0}: \\beta_{3} = 0$\n",
        "\n",
        "$H_{1}: \\beta_{3} \\neq 0$\n",
        "\n",
        "Untuk $\\beta_{4}$\n",
        "\n",
        "$H_{0}: \\beta_{4} = 0$\n",
        "\n",
        "$H_{1}: \\beta_{4} \\neq 0$\n",
        "\n",
        "Untuk $\\beta_{5}$\n",
        "\n",
        "$H_{0}: \\beta_{5} = 0$\n",
        "\n",
        "$H_{1}: \\beta_{5} \\neq 0$\n",
        "\n",
        "Untuk $\\beta_{6}$\n",
        "\n",
        "$H_{0}: \\beta_{6} = 0$\n",
        "\n",
        "$H_{1}: \\beta_{6} \\neq 0$\n",
        "\n",
        "Untuk $\\beta_{7}$\n",
        "\n",
        "$H_{0}: \\beta_{7} = 0$\n",
        "\n",
        "$H_{1}: \\beta_{7} \\neq 0$\n",
        "\n",
        "Untuk $\\beta_{8}$\n",
        "\n",
        "$H_{0}: \\beta_{8} = 0$\n",
        "\n",
        "$H_{1}: \\beta_{8} \\neq 0$\n",
        "\n",
        "Untuk $\\beta_{9}$\n",
        "\n",
        "$H_{0}: \\beta_{9} = 0$\n",
        "\n",
        "$H_{1}: \\beta_{9} \\neq 0$\n",
        "\n",
        "Untuk $\\beta_{10}$\n",
        "\n",
        "$H_{0}: \\beta_{10} = 0$\n",
        "\n",
        "$H_{1}: \\beta_{10} \\neq 0$\n",
        "\n",
        "Untuk $\\beta_{11}$\n",
        "\n",
        "$H_{0}: \\beta_{11} = 0$\n",
        "\n",
        "$H_{1}: \\beta_{11} \\neq 0$\n",
        "\n",
        "Untuk $\\beta_{12}$\n",
        "\n",
        "$H_{0}: \\beta_{12} = 0$\n",
        "\n",
        "$H_{1}: \\beta_{12} \\neq 0$\n",
        "\n",
        "Untuk $\\beta_{13}$\n",
        "\n",
        "$H_{0}: \\beta_{13} = 0$\n",
        "\n",
        "$H_{1}: \\beta_{13} \\neq 0$\n",
        "\n",
        "Untuk $\\beta_{14}$\n",
        "\n",
        "$H_{0}: \\beta_{14} = 0$\n",
        "\n",
        "$H_{1}: \\beta_{14} \\neq 0$\n",
        "\n",
        "Untuk $\\beta_{15}$\n",
        "\n",
        "$H_{0}: \\beta_{15} = 0$\n",
        "\n",
        "$H_{1}: \\beta_{15} \\neq 0$"
      ]
    },
    {
      "cell_type": "code",
      "execution_count": 25,
      "metadata": {
        "colab": {
          "base_uri": "https://localhost:8080/",
          "height": 488
        },
        "id": "eLAYnfR_zEn_",
        "outputId": "6593ba1e-1ce1-4f82-8ac5-bde97ddfdb9a"
      },
      "outputs": [
        {
          "data": {
            "text/html": [
              "<div>\n",
              "<style scoped>\n",
              "    .dataframe tbody tr th:only-of-type {\n",
              "        vertical-align: middle;\n",
              "    }\n",
              "\n",
              "    .dataframe tbody tr th {\n",
              "        vertical-align: top;\n",
              "    }\n",
              "\n",
              "    .dataframe thead th {\n",
              "        text-align: right;\n",
              "    }\n",
              "</style>\n",
              "<table border=\"1\" class=\"dataframe\">\n",
              "  <thead>\n",
              "    <tr style=\"text-align: right;\">\n",
              "      <th></th>\n",
              "      <th>Variabel</th>\n",
              "      <th>t-hitung</th>\n",
              "      <th>p-value</th>\n",
              "      <th>alpha</th>\n",
              "      <th>Kesimpulan</th>\n",
              "    </tr>\n",
              "  </thead>\n",
              "  <tbody>\n",
              "    <tr>\n",
              "      <th>0</th>\n",
              "      <td>const</td>\n",
              "      <td>3.070428</td>\n",
              "      <td>3.656331e-03</td>\n",
              "      <td>0.1</td>\n",
              "      <td>Tolak H0</td>\n",
              "    </tr>\n",
              "    <tr>\n",
              "      <th>1</th>\n",
              "      <td>Frekuensi_makan</td>\n",
              "      <td>0.006524</td>\n",
              "      <td>9.948239e-01</td>\n",
              "      <td>0.1</td>\n",
              "      <td>Gagal Tolak H0</td>\n",
              "    </tr>\n",
              "    <tr>\n",
              "      <th>2</th>\n",
              "      <td>Pengeluaran_makan</td>\n",
              "      <td>-1.864644</td>\n",
              "      <td>6.891026e-02</td>\n",
              "      <td>0.1</td>\n",
              "      <td>Tolak H0</td>\n",
              "    </tr>\n",
              "    <tr>\n",
              "      <th>3</th>\n",
              "      <td>Uang_Transport</td>\n",
              "      <td>-0.253315</td>\n",
              "      <td>8.012044e-01</td>\n",
              "      <td>0.1</td>\n",
              "      <td>Gagal Tolak H0</td>\n",
              "    </tr>\n",
              "    <tr>\n",
              "      <th>4</th>\n",
              "      <td>Jarak</td>\n",
              "      <td>2.669565</td>\n",
              "      <td>1.059885e-02</td>\n",
              "      <td>0.1</td>\n",
              "      <td>Tolak H0</td>\n",
              "    </tr>\n",
              "    <tr>\n",
              "      <th>5</th>\n",
              "      <td>Frekuensi_Nongkrong</td>\n",
              "      <td>0.992284</td>\n",
              "      <td>3.264848e-01</td>\n",
              "      <td>0.1</td>\n",
              "      <td>Gagal Tolak H0</td>\n",
              "    </tr>\n",
              "    <tr>\n",
              "      <th>6</th>\n",
              "      <td>Organisasi</td>\n",
              "      <td>13.112686</td>\n",
              "      <td>8.420871e-17</td>\n",
              "      <td>0.1</td>\n",
              "      <td>Tolak H0</td>\n",
              "    </tr>\n",
              "    <tr>\n",
              "      <th>7</th>\n",
              "      <td>Transportasi_kendaraan pribadi</td>\n",
              "      <td>2.287275</td>\n",
              "      <td>2.704515e-02</td>\n",
              "      <td>0.1</td>\n",
              "      <td>Tolak H0</td>\n",
              "    </tr>\n",
              "    <tr>\n",
              "      <th>8</th>\n",
              "      <td>Transportasi_nebeng temen</td>\n",
              "      <td>0.692341</td>\n",
              "      <td>4.923613e-01</td>\n",
              "      <td>0.1</td>\n",
              "      <td>Gagal Tolak H0</td>\n",
              "    </tr>\n",
              "    <tr>\n",
              "      <th>9</th>\n",
              "      <td>Transportasi_ojek</td>\n",
              "      <td>0.599567</td>\n",
              "      <td>5.518701e-01</td>\n",
              "      <td>0.1</td>\n",
              "      <td>Gagal Tolak H0</td>\n",
              "    </tr>\n",
              "    <tr>\n",
              "      <th>10</th>\n",
              "      <td>Rokok_Tidak</td>\n",
              "      <td>1.858312</td>\n",
              "      <td>6.982283e-02</td>\n",
              "      <td>0.1</td>\n",
              "      <td>Tolak H0</td>\n",
              "    </tr>\n",
              "    <tr>\n",
              "      <th>11</th>\n",
              "      <td>Rokok_Ya</td>\n",
              "      <td>1.304887</td>\n",
              "      <td>1.987150e-01</td>\n",
              "      <td>0.1</td>\n",
              "      <td>Gagal Tolak H0</td>\n",
              "    </tr>\n",
              "    <tr>\n",
              "      <th>12</th>\n",
              "      <td>Laundry_Tidak</td>\n",
              "      <td>1.590443</td>\n",
              "      <td>1.188952e-01</td>\n",
              "      <td>0.1</td>\n",
              "      <td>Gagal Tolak H0</td>\n",
              "    </tr>\n",
              "    <tr>\n",
              "      <th>13</th>\n",
              "      <td>Laundry_Ya</td>\n",
              "      <td>2.496908</td>\n",
              "      <td>1.634435e-02</td>\n",
              "      <td>0.1</td>\n",
              "      <td>Tolak H0</td>\n",
              "    </tr>\n",
              "  </tbody>\n",
              "</table>\n",
              "</div>"
            ],
            "text/plain": [
              "                          Variabel   t-hitung       p-value  alpha  \\\n",
              "0                            const   3.070428  3.656331e-03    0.1   \n",
              "1                  Frekuensi_makan   0.006524  9.948239e-01    0.1   \n",
              "2                Pengeluaran_makan  -1.864644  6.891026e-02    0.1   \n",
              "3                   Uang_Transport  -0.253315  8.012044e-01    0.1   \n",
              "4                            Jarak   2.669565  1.059885e-02    0.1   \n",
              "5              Frekuensi_Nongkrong   0.992284  3.264848e-01    0.1   \n",
              "6                       Organisasi  13.112686  8.420871e-17    0.1   \n",
              "7   Transportasi_kendaraan pribadi   2.287275  2.704515e-02    0.1   \n",
              "8        Transportasi_nebeng temen   0.692341  4.923613e-01    0.1   \n",
              "9                Transportasi_ojek   0.599567  5.518701e-01    0.1   \n",
              "10                     Rokok_Tidak   1.858312  6.982283e-02    0.1   \n",
              "11                        Rokok_Ya   1.304887  1.987150e-01    0.1   \n",
              "12                   Laundry_Tidak   1.590443  1.188952e-01    0.1   \n",
              "13                      Laundry_Ya   2.496908  1.634435e-02    0.1   \n",
              "\n",
              "        Kesimpulan  \n",
              "0         Tolak H0  \n",
              "1   Gagal Tolak H0  \n",
              "2         Tolak H0  \n",
              "3   Gagal Tolak H0  \n",
              "4         Tolak H0  \n",
              "5   Gagal Tolak H0  \n",
              "6         Tolak H0  \n",
              "7         Tolak H0  \n",
              "8   Gagal Tolak H0  \n",
              "9   Gagal Tolak H0  \n",
              "10        Tolak H0  \n",
              "11  Gagal Tolak H0  \n",
              "12  Gagal Tolak H0  \n",
              "13        Tolak H0  "
            ]
          },
          "execution_count": 25,
          "metadata": {},
          "output_type": "execute_result"
        }
      ],
      "source": [
        "df_partial_onehot = pd.DataFrame()\n",
        "df_partial_onehot['Variabel'] = result_onehot.tvalues.index\n",
        "df_partial_onehot['t-hitung'] = result_onehot.tvalues.values\n",
        "df_partial_onehot['p-value'] = result_onehot.pvalues.values\n",
        "df_partial_onehot['alpha'] = 0.1\n",
        "\n",
        "df_partial_onehot['Kesimpulan'] = df_partial_onehot['p-value'].gt((df_partial_onehot['alpha']))\n",
        "df_partial_onehot['Kesimpulan'] = df_partial_onehot['Kesimpulan'].replace({True:'Gagal Tolak H0',\n",
        "                                                                           False:'Tolak H0'})\n",
        "\n",
        "df_partial_onehot"
      ]
    },
    {
      "attachments": {},
      "cell_type": "markdown",
      "metadata": {
        "id": "O1BOJylo0P0n"
      },
      "source": [
        "# **Model Evaluation (R^2 dan R^2 Adjusted)**"
      ]
    },
    {
      "cell_type": "code",
      "execution_count": 26,
      "metadata": {
        "colab": {
          "base_uri": "https://localhost:8080/",
          "height": 112
        },
        "id": "Z2T4WHAnniBh",
        "outputId": "a4e2e12c-f1aa-483c-a270-51032d2608d4"
      },
      "outputs": [
        {
          "data": {
            "text/html": [
              "<div>\n",
              "<style scoped>\n",
              "    .dataframe tbody tr th:only-of-type {\n",
              "        vertical-align: middle;\n",
              "    }\n",
              "\n",
              "    .dataframe tbody tr th {\n",
              "        vertical-align: top;\n",
              "    }\n",
              "\n",
              "    .dataframe thead th {\n",
              "        text-align: right;\n",
              "    }\n",
              "</style>\n",
              "<table border=\"1\" class=\"dataframe\">\n",
              "  <thead>\n",
              "    <tr style=\"text-align: right;\">\n",
              "      <th></th>\n",
              "      <th>Model</th>\n",
              "      <th>R-Square</th>\n",
              "      <th>Adjusted R-Square</th>\n",
              "    </tr>\n",
              "  </thead>\n",
              "  <tbody>\n",
              "    <tr>\n",
              "      <th>0</th>\n",
              "      <td>Regression + Dummy Encoding</td>\n",
              "      <td>0.864278</td>\n",
              "      <td>0.833432</td>\n",
              "    </tr>\n",
              "    <tr>\n",
              "      <th>1</th>\n",
              "      <td>Regression + One-Hot Encoding</td>\n",
              "      <td>0.864278</td>\n",
              "      <td>0.833432</td>\n",
              "    </tr>\n",
              "  </tbody>\n",
              "</table>\n",
              "</div>"
            ],
            "text/plain": [
              "                           Model  R-Square  Adjusted R-Square\n",
              "0    Regression + Dummy Encoding  0.864278           0.833432\n",
              "1  Regression + One-Hot Encoding  0.864278           0.833432"
            ]
          },
          "execution_count": 26,
          "metadata": {},
          "output_type": "execute_result"
        }
      ],
      "source": [
        "df_model_evaluation = pd.DataFrame({'Model':['Regression + Dummy Encoding', 'Regression + One-Hot Encoding'],\n",
        "                                    'R-Square':[result_dummy.rsquared, result_onehot.rsquared],\n",
        "                                    'Adjusted R-Square':[result_dummy.rsquared_adj, result_onehot.rsquared_adj]})\n",
        "\n",
        "df_model_evaluation"
      ]
    },
    {
      "attachments": {},
      "cell_type": "markdown",
      "metadata": {
        "id": "lsO_G09YDuIr"
      },
      "source": [
        "Berdasarkan output yang diberikan, terdapat evaluasi model regresi linier dengan dua jenis encoding yang berbeda: Dummy Encoding dan One-Hot Encoding. Berikut adalah interpretasi dari output tersebut:\n",
        "\n",
        "*   Model 0 (Regression + Dummy Encoding) memiliki R-Square sebesar 0,560232 yang menunjukkan bahwa model mampu menjelaskan sekitar 56.02% dari variasi dalam variabel target (cnt). Nilai in juga menunjukkan bahwa model tidak cukup baik dalam menjelaskan hubungan antara variabel independen dengan variabel dependen karena dibawah 65%.\n",
        "\n",
        "*   Model 0 (Regression + Dummy Encoding) memiliki Adjusted R-Square sebesar 0.553504, yang menunjukkan bahwa model mampu menjelaskan sekitar 55.35% dari variasi dalam variabel target setelah mempertimbangkan jumlah variabel independen yang digunakan dalam model. Nilai in juga menunjukkan bahwa model tidak cukup baik dalam menjelaskan hubungan antara variabel independen dengan variabel dependen setelah mempertimbangkan jumlah variabel independen yang digunakan dalam model karena dibaawah 65%.\n",
        "\n",
        "*   Model 1 (Regression + One-Hot Encoding) memiliki R-Square sebesar 0,559495 yang menunjukkan bahwa model mampu menjelaskan sekitar 55.94% dari variasi dalam variabel target (cnt). Nilai ini juga menunjukkan bahwa model tidak cukup baik dalam menjelaskan hubungan antara variabel independen dengan variabel dependen karena dibawah 65%.\n",
        "\n",
        "*   Model 1 (Regression + One-Hot Encoding) memiliki Adjusted R-Square sebesar 0.552756, yang menunjukkan bahwa model mampu menjelaskan sekitar 55.27% dari variasi dalam variabel target setelah mempertimbangkan jumlah variabel independen yang digunakan dalam model. Nilai ini juga menunjukkan bahwa model tidak cukup baik dalam menjelaskan hubungan antara variabel independen dengan variabel dependen setelah mempertimbangkan jumlah variabel independen yang digunakan dalam model karena dibawah 65%.\n",
        "\n",
        "Secara keseluruhan, kedua model menunjukkan kinerja yang belum cukup baik dalam menjelaskan hubungan antara variabel independen dengan variabel dependen, dan penggunaan encoding tertentu tidak mempengaruhi kinerja model dalam hal ini.\n",
        "\n",
        "\n"
      ]
    },
    {
      "cell_type": "code",
      "execution_count": 27,
      "metadata": {
        "colab": {
          "base_uri": "https://localhost:8080/"
        },
        "id": "l4ma-B9n2DJa",
        "outputId": "f053dfdd-56d2-431e-a2d7-795254977861"
      },
      "outputs": [
        {
          "data": {
            "text/plain": [
              "55"
            ]
          },
          "execution_count": 27,
          "metadata": {},
          "output_type": "execute_result"
        }
      ],
      "source": [
        "len(df)"
      ]
    },
    {
      "cell_type": "code",
      "execution_count": 28,
      "metadata": {
        "colab": {
          "base_uri": "https://localhost:8080/",
          "height": 433
        },
        "id": "k1cJI_cc1Kp5",
        "outputId": "ceb47c8b-811d-49ca-90a6-671065f77f92"
      },
      "outputs": [
        {
          "name": "stdout",
          "output_type": "stream",
          "text": [
            "[1, 2, 3, 4, 5, 6, 7, 8, 9, 10, 11, 12, 13, 14, 15, 16, 17, 18, 19, 20, 21, 22, 23, 24, 25, 26, 27, 28, 29, 30, 31, 32, 33, 34, 35, 36, 37, 38, 39, 40, 41, 42, 43, 44, 45, 46, 47, 48, 49, 50, 51, 52, 53, 54, 55]\n"
          ]
        },
        {
          "data": {
            "image/png": "[encoded data removed]",
            "text/plain": [
              "<Figure size 600x400 with 1 Axes>"
            ]
          },
          "metadata": {},
          "output_type": "display_data"
        }
      ],
      "source": [
        "#autokorelasi\n",
        "# residuals model regresi linier berganda\n",
        "residual = result_dummy.resid\n",
        "\n",
        "## membuat plot residuals vs time order\n",
        "\n",
        "# membuat list time order\n",
        "time1=list(range(1,55+1))\n",
        "print (time1)\n",
        "plt.figure(figsize=(6,4))\n",
        "plt.scatter(x=time1, y=residual)\n",
        "plt.xlabel('time order', fontsize=12)\n",
        "plt.ylabel('residuals', fontsize=12)\n",
        "plt.show()"
      ]
    },
    {
      "cell_type": "code",
      "execution_count": 29,
      "metadata": {
        "colab": {
          "base_uri": "https://localhost:8080/",
          "height": 396
        },
        "id": "C9-X1jiB0vGu",
        "outputId": "5b31d4f7-d40e-413d-e00e-847770238f91"
      },
      "outputs": [
        {
          "data": {
            "image/png": "[encoded data removed]",
            "text/plain": [
              "<Figure size 600x400 with 1 Axes>"
            ]
          },
          "metadata": {},
          "output_type": "display_data"
        }
      ],
      "source": [
        "#heteroskesdasitas\n",
        "plt.figure(figsize=(6,4))\n",
        "plt.scatter(x=result_dummy.fittedvalues, y=residual)\n",
        "plt.xlabel('fitted value', fontsize=12)\n",
        "plt.ylabel('residuals', fontsize=12)\n",
        "plt.show()"
      ]
    },
    {
      "cell_type": "code",
      "execution_count": 30,
      "metadata": {
        "colab": {
          "base_uri": "https://localhost:8080/",
          "height": 419
        },
        "id": "osHRwaOe1g-u",
        "outputId": "b6a4633d-3c7c-424e-a2b0-b9085a3b76e8"
      },
      "outputs": [
        {
          "data": {
            "image/png": "[encoded data removed]",
            "text/plain": [
              "<Figure size 600x400 with 1 Axes>"
            ]
          },
          "metadata": {},
          "output_type": "display_data"
        }
      ],
      "source": [
        "from statsmodels.graphics.gofplots import qqplot\n",
        "import pylab \n",
        "import scipy.stats as stats\n",
        "\n",
        "# membuat q-q plot\n",
        "plt.figure(figsize=(6,4))\n",
        "stats.probplot(result_dummy.resid, dist=\"norm\", plot=pylab)\n",
        "pylab.show()"
      ]
    },
    {
      "cell_type": "code",
      "execution_count": 31,
      "metadata": {
        "colab": {
          "base_uri": "https://localhost:8080/"
        },
        "id": "HRPMbwAA3Z7X",
        "outputId": "465f5d1d-9c06-428b-e498-c7a80f81e3b3"
      },
      "outputs": [
        {
          "name": "stdout",
          "output_type": "stream",
          "text": [
            "Shapiro-Wilk Test\n",
            "Statistic: 0.9814475178718567\n",
            "P-value: 0.552029550075531\n",
            "Tidak ada bukti yang cukup untuk menolak asumsi normalitas (distribusi residual terdapat pada distribusi normal)\n",
            "\n",
            "Kolmogorov-Smirnov Test\n",
            "Statistic: 0.5272727272727272\n",
            "P-value: 8.802811848728441e-15\n",
            "Terdapat bukti yang cukup untuk menolak asumsi normalitas (distribusi residual tidak terdapat pada distribusi normal)\n"
          ]
        }
      ],
      "source": [
        "# Menghitung residu model\n",
        "residuals = result_onehot.resid\n",
        "\n",
        "# Uji Shapiro-Wilk\n",
        "shapiro_stat, shapiro_pvalue = stats.shapiro(residuals)\n",
        "print(\"Shapiro-Wilk Test\")\n",
        "print(f\"Statistic: {shapiro_stat}\")\n",
        "print(f\"P-value: {shapiro_pvalue}\")\n",
        "if shapiro_pvalue > 0.05:\n",
        "    print(\"Tidak ada bukti yang cukup untuk menolak asumsi normalitas (distribusi residual terdapat pada distribusi normal)\")\n",
        "else:\n",
        "    print(\"Terdapat bukti yang cukup untuk menolak asumsi normalitas (distribusi residual tidak terdapat pada distribusi normal)\")\n",
        "\n",
        "# Uji Kolmogorov-Smirnov\n",
        "ks_stat, ks_pvalue = stats.kstest(residuals, 'norm')\n",
        "print(\"\\nKolmogorov-Smirnov Test\")\n",
        "print(f\"Statistic: {ks_stat}\")\n",
        "print(f\"P-value: {ks_pvalue}\")\n",
        "if ks_pvalue > 0.05:\n",
        "    print(\"Tidak ada bukti yang cukup untuk menolak asumsi normalitas (distribusi residual terdapat pada distribusi normal)\")\n",
        "else:\n",
        "    print(\"Terdapat bukti yang cukup untuk menolak asumsi normalitas (distribusi residual tidak terdapat pada distribusi normal)\")"
      ]
    },
    {
      "attachments": {},
      "cell_type": "markdown",
      "metadata": {
        "id": "Qe4FVuQ_6bZJ"
      },
      "source": [
        "# Uji Asumsi Multikolinerietas"
      ]
    },
    {
      "cell_type": "code",
      "execution_count": 32,
      "metadata": {
        "colab": {
          "base_uri": "https://localhost:8080/"
        },
        "id": "JDHQfCik6n6C",
        "outputId": "901a24e4-fa7d-4b00-e3aa-ea9374f710d4"
      },
      "outputs": [
        {
          "name": "stdout",
          "output_type": "stream",
          "text": [
            "                     Variable        VIF\n",
            "0                       const  27.825635\n",
            "1             Frekuensi_makan   1.404250\n",
            "2           Pengeluaran_makan   1.288086\n",
            "3              Uang_Transport   2.334235\n",
            "4                       Jarak   1.820378\n",
            "5         Frekuensi_Nongkrong   1.948256\n",
            "6                  Organisasi   1.344319\n",
            "7   Transportasi_nebeng temen   1.210310\n",
            "8           Transportasi_ojek   2.397370\n",
            "9                    Rokok_Ya   2.013179\n",
            "10                 Laundry_Ya   1.555078\n"
          ]
        }
      ],
      "source": [
        "from statsmodels.stats.outliers_influence import variance_inflation_factor\n",
        "\n",
        "# Perform one-hot encoding\n",
        "\n",
        "df_dummy = pd.get_dummies(df, drop_first=True)\n",
        "\n",
        "# Calculate VIF\n",
        "X_dummy = sm.add_constant(df_dummy.drop(columns=['Pengeluaran_perminggu']))\n",
        "vif = pd.DataFrame()\n",
        "vif[\"Variable\"] = X_dummy.columns\n",
        "vif[\"VIF\"] = [variance_inflation_factor(X_dummy.values, i) \n",
        "             for i in range(X_dummy.shape[1])]\n",
        "\n",
        "print(vif)"
      ]
    },
    {
      "attachments": {},
      "cell_type": "markdown",
      "metadata": {
        "id": "Vfattwli9A34"
      },
      "source": [
        "Uji"
      ]
    }
  ],
  "metadata": {
    "colab": {
      "provenance": [],
      "toc_visible": true
    },
    "kernelspec": {
      "display_name": "Python 3",
      "name": "python3"
    },
    "language_info": {
      "codemirror_mode": {
        "name": "ipython",
        "version": 3
      },
      "file_extension": ".py",
      "mimetype": "text/x-python",
      "name": "python",
      "nbconvert_exporter": "python",
      "pygments_lexer": "ipython3",
      "version": "3.10.7"
    }
  },
  "nbformat": 4,
  "nbformat_minor": 0
}

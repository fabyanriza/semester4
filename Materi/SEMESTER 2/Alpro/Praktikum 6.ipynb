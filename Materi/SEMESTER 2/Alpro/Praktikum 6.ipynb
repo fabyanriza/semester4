{
 "cells": [
  {
   "cell_type": "markdown",
   "metadata": {},
   "source": []
  },
  {
   "cell_type": "code",
   "execution_count": null,
   "metadata": {},
   "outputs": [],
   "source": []
  },
  {
   "cell_type": "code",
   "execution_count": null,
   "metadata": {},
   "outputs": [],
   "source": [
    "i = 1\n",
    "while i < 6:\n",
    "    print(i)\n",
    "    if i == 3:\n",
    "        break\n",
    "i += 1"
   ]
  },
  {
   "cell_type": "code",
   "execution_count": null,
   "metadata": {},
   "outputs": [],
   "source": [
    "i=0\n",
    "while i < 6:\n",
    "    i += 1\n",
    "    if i == 3:\n",
    "        continue\n",
    "    print(i)"
   ]
  },
  {
   "cell_type": "code",
   "execution_count": null,
   "metadata": {},
   "outputs": [],
   "source": [
    "orang = [\"aku\", \"kamu\", \"dia\"]\n",
    "for x in orang:\n",
    "    print(x)\n",
    "    if x == \"kamu\":\n",
    "        break"
   ]
  },
  {
   "cell_type": "code",
   "execution_count": null,
   "metadata": {},
   "outputs": [],
   "source": [
    "nama = [\"ani\", \"angel\", \"lelga\", \"viki\", \"prasetyo\"]\n",
    "for x in nama:\n",
    "    if x == \"viki\":\n",
    "        continue\n",
    "print(x)"
   ]
  },
  {
   "cell_type": "code",
   "execution_count": null,
   "metadata": {},
   "outputs": [],
   "source": [
    "# range contoh 1\n",
    "for x in range (6):\n",
    "    print(x)\n",
    "# range contoh 2\n",
    "for x in range (2, 6):\n",
    "    print(x)"
   ]
  },
  {
   "cell_type": "code",
   "execution_count": 2,
   "metadata": {},
   "outputs": [
    {
     "name": "stdout",
     "output_type": "stream",
     "text": [
      "****\n",
      "***\n",
      "**\n",
      "*\n"
     ]
    }
   ],
   "source": [
    "while True:\n",
    "    try:\n",
    "        angka = int(input(\"masukkan angka: \"))\n",
    "    except ValueError:\n",
    "        print('eror')\n",
    "    if angka < 1:\n",
    "        print('eror')\n",
    "    else:\n",
    "        break\n",
    "\n",
    "while True:\n",
    "    try:\n",
    "        bentuk = input(\"segitiga atau persegi?\")\n",
    "    except bentuk.lower() != \"segitiga\" and bentuk.lower() != \"persegi\":\n",
    "        print(\"error\")\n",
    "    if bentuk.lower() == \"segitiga\":\n",
    "        for i in range (angka,0,-1):\n",
    "            print(\"*\" * i)\n",
    "        break\n",
    "    elif bentuk.lower() == \"persegi\":\n",
    "        for i in range (angka):\n",
    "            print(\"*\" * angka)\n",
    "        break\n",
    "    else:\n",
    "        continue"
   ]
  }
 ],
 "metadata": {
  "kernelspec": {
   "display_name": "Python 3",
   "language": "python",
   "name": "python3"
  },
  "language_info": {
   "codemirror_mode": {
    "name": "ipython",
    "version": 3
   },
   "file_extension": ".py",
   "mimetype": "text/x-python",
   "name": "python",
   "nbconvert_exporter": "python",
   "pygments_lexer": "ipython3",
   "version": "3.11.0"
  },
  "orig_nbformat": 4
 },
 "nbformat": 4,
 "nbformat_minor": 2
}

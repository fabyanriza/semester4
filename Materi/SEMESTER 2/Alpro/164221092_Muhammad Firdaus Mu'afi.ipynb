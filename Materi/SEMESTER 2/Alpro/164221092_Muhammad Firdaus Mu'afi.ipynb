{
 "cells": [
  {
   "cell_type": "markdown",
   "id": "1a8c88c8",
   "metadata": {},
   "source": [
    "Nama : Muhammad Firdaus Mu'afi\n",
    "NIM : 164221092"
   ]
  },
  {
   "cell_type": "markdown",
   "id": "a9dacb9d",
   "metadata": {},
   "source": [
    "1. Buatlah sebuah program yang dapat menampilkan kebalikan dari suatu string sesuai dengan inputan dari pengguna. Contoh:\n",
    "▪ Input: Surabaya\n",
    "▪ Output: ayabaruS"
   ]
  },
  {
   "cell_type": "code",
   "execution_count": null,
   "id": "89c844cf",
   "metadata": {},
   "outputs": [],
   "source": [
    "def reverse (x):\n",
    "    return x[::-1]\n",
    "\n",
    "a = reverse(input(str('masukkan kata yang ingin dibalik : ')))\n",
    "\n",
    "print(a)"
   ]
  },
  {
   "cell_type": "markdown",
   "id": "f065f198",
   "metadata": {},
   "source": [
    "=> def reverse (x):\n",
    "Membuat fungsi membalik string\n",
    "\n",
    "=> return x[::-1]\n",
    "mengembalikan nilai fungsi dan mengeksekusi nilai fungsi. nilai -1 menjadi parameter supaya membaca string dari belakang\n",
    "\n",
    "=> a = reverse(input(str('masukkan kata yang ingin dibalik : ')))\n",
    "meminta user untuk menginput kata yang ingin dibalik\n",
    "\n",
    "=> print(a)\n",
    "mengeluarkan eksekusi program berupa string yang telah dibalik"
   ]
  },
  {
   "cell_type": "markdown",
   "id": "d29dc20b",
   "metadata": {},
   "source": [
    "2. Buatlah kode program untuk menampilkan string “abcdefghi” menjadi urutan seperti berikut ini:\n",
    "ab\n",
    "bc\n",
    "cd\n",
    "de\n",
    "ef\n",
    "fg\n",
    "gh\n",
    "hi"
   ]
  },
  {
   "cell_type": "code",
   "execution_count": 1,
   "id": "4b9755d5",
   "metadata": {},
   "outputs": [
    {
     "name": "stdout",
     "output_type": "stream",
     "text": [
      "a b\n",
      "b c\n",
      "c d\n",
      "d e\n",
      "e f\n",
      "f g\n",
      "g h\n",
      "h i\n"
     ]
    }
   ],
   "source": [
    "kata = \"abcdefghi\"\n",
    "a=0\n",
    "b=0\n",
    "while a<8:\n",
    "    a=a+1\n",
    "    print(kata[b], kata[b+1])\n",
    "    b=b+1"
   ]
  },
  {
   "cell_type": "markdown",
   "id": "fe3d0b71",
   "metadata": {},
   "source": [
    "=> kata = \"abcdefghi\"\n",
    "membuat inputan kata yang ingin diurutkan\n",
    "\n",
    "=> a=0, b=0\n",
    "menyatakan bahwa indeks dibaca mulai dari 0\n",
    "\n",
    "=> while b<8:\n",
    "menyatakan perulangan pada program selama a kurang dari 8\n",
    "\n",
    "=> a=a+1\n",
    "disetiap perulangan nilai a akan bertambah 1 huruf \n",
    "\n",
    "=> print(kata[b], kata[b+1])\n",
    "membuat output berupa perulangan sebanyak 8 kali\n",
    "\n",
    "=> b=b+1\n",
    "menambah indeks dalam variabel kata di setiap perulangan"
   ]
  },
  {
   "cell_type": "markdown",
   "id": "99ec868f",
   "metadata": {},
   "source": [
    "3. Buatlah kode program untuk mengecek apakah terdapat kata “Mereka” dalam paragraf di bawah ini, kemudian hitung berapa banyak kata “Saya” dan kata “saya” yang muncul dalam paragraph tersebut.\n",
    "▪ Paragraf:\n",
    "Nama saya adalah Rita Sugiarto. Saya memiliki hobi menyanyi sejak kecil. Semua\n",
    "berawal dari mimpi ibu saya untuk memiliki putri seorang penyanyi. Saya berlatih\n",
    "vokal seminggu sekali dengan guru saya. Apabila saya menjadi juara satu dalam\n",
    "perlombaan menyanyi tingkat profinsi, ibu saya akan membelikan saya kado yang\n",
    "sangat istimewa."
   ]
  },
  {
   "cell_type": "code",
   "execution_count": 14,
   "id": "66bc6d69",
   "metadata": {},
   "outputs": [
    {
     "name": "stdout",
     "output_type": "stream",
     "text": [
      "tidak ada kata Mereka\n",
      "2\n",
      "6\n"
     ]
    }
   ],
   "source": [
    "kata = 'Nama saya adalah Rita Sugiarto. Saya memiliki hobi menyanyi sejak kecil. Semua berawal dari mimpi ibu saya untuk memiliki putri seorang penyanyi. Saya berlatih vokal seminggu sekali dengan guru saya . Apabila saya menjadi juara satu dalam perlombaan menyanyi tingkat profinsi, ibu saya akan membelikan saya kado yang sangat istimewa.'\n",
    "p = kata.split()\n",
    "for i in kata:\n",
    "    if i == \"Mereka\":\n",
    "        print(\"ada kata mereka\")\n",
    "        break\n",
    "    else:\n",
    "        print(\"tidak ada kata Mereka\")\n",
    "        break\n",
    "\n",
    "saya_b = 0\n",
    "saya_k = 0\n",
    "for i in p :\n",
    "    if i == \"Saya\":\n",
    "        saya_b = saya_b + 1\n",
    "    elif i == \"saya\":\n",
    "        saya_k = saya_k + 1\n",
    "\n",
    "print(saya_b)\n",
    "print(saya_k)"
   ]
  },
  {
   "cell_type": "markdown",
   "id": "2af16a56",
   "metadata": {},
   "source": [
    "=> kata = \n",
    "membuat variabel kata yang akan dikoreksi\n",
    "\n",
    "=> p = kata.split()\n",
    "memisahkan string menjadi list perkata dengan default pemisah adalah spasi\n",
    "\n",
    "=> for i in kata:\n",
    "    if i == \"Mereka\":\n",
    "        print(\"ada kata Mereka\")\n",
    "        break\n",
    "membuat perulangan dalam program apabila dalam pengecekan terdapat kata \"Mereka\", maka akan mengeluarkan output \"ada kata Mereka\". Break berfungsi menghentikan perulangan apabila sudah mengeluaran output\n",
    "\n",
    "=> else:\n",
    "        print(\"tidak ada kata Mereka\")\n",
    "        break\n",
    "berfungsi mengeluarkan output \"tidak ada kata Mereka\" apabila dalam pengecekan variabel kata tidak ada kata \"Mereka\". Break berfungsi menghentikan perulangan apabila sudah mengeluarkan output\n",
    "\n",
    "=> saya_b = 0, saya_k = 0\n",
    "membuat variabel saya dan Saya yang akan melakukan pengecekan dimulai dari indeks 0\n",
    "\n",
    "=> for i in p :\n",
    "membuat perulangan dengan parameter variabel p\n",
    "\n",
    "=> if i == \"Saya\":\n",
    "        saya_b = saya_b + 1\n",
    "membuat perulangan dan pengecekan dalam variabel p. Akan menghitung jumlah kata \"Saya\" dalam variabel p\n",
    "\n",
    "=> elif i == \"saya\":\n",
    "        saya_k = saya_k + 1\n",
    "membuat perulangan dan pengecekan dalam variabel p. Akan menghitung jumlah kata \"saya\" dalam variabel p\n",
    "\n",
    "=> print(saya_b), print(saya_k)\n",
    "Mengeluarkan output dari pengecekan variabel berupa jumlah perhitungan kata \"Saya\" dan \"saya\""
   ]
  }
 ],
 "metadata": {
  "kernelspec": {
   "display_name": "Python 3 (ipykernel)",
   "language": "python",
   "name": "python3"
  },
  "language_info": {
   "codemirror_mode": {
    "name": "ipython",
    "version": 3
   },
   "file_extension": ".py",
   "mimetype": "text/x-python",
   "name": "python",
   "nbconvert_exporter": "python",
   "pygments_lexer": "ipython3",
   "version": "3.11.1"
  }
 },
 "nbformat": 4,
 "nbformat_minor": 5
}

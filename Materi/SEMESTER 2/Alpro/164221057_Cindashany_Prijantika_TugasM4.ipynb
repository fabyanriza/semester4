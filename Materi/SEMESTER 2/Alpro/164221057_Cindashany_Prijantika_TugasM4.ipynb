{
  "nbformat": 4,
  "nbformat_minor": 0,
  "metadata": {
    "colab": {
      "provenance": []
    },
    "kernelspec": {
      "name": "python3",
      "display_name": "Python 3"
    },
    "language_info": {
      "name": "python"
    }
  },
  "cells": [
    {
      "cell_type": "markdown",
      "source": [
        "#Praktikum Algoritma Pemograman TM-2\n",
        "####Nama : Cindashany Prijantika\n",
        "####Nim  : 164221057"
      ],
      "metadata": {
        "id": "T7FtlB1ngg1p"
      }
    },
    {
      "cell_type": "markdown",
      "source": [
        "No.1"
      ],
      "metadata": {
        "id": "KDZMhvHrgwkP"
      }
    },
    {
      "cell_type": "code",
      "execution_count": null,
      "metadata": {
        "id": "o5lKDrMnJ1-J"
      },
      "outputs": [],
      "source": [
        "kata = str(input(\"masukkan kata : \"))\n",
        "print(kata[::-1])"
      ]
    },
    {
      "cell_type": "markdown",
      "source": [
        "```\n",
        "kata = str(input(\"masukkan kata : \"))\n",
        "```\n",
        "meminta user untuk memasukkan kata yang diinginkan\n",
        "```\n",
        "print(kata[::-1])\n",
        "```\n",
        "mengeprint kata dengan fungsi di atas agar kata dapat diprint secara terbalik. tanda ' : ' yang pertama memberi perintah untuk mengeprint kata dari awal, tanda ' : ' kedua memberi perintah untuk mengeprint kata sampai akhir, tanda ' :-1 ' yang ketiga memberi perintah untuk memulai print dari huruf yang menempati indeks terakhir. Output akan mengeprint kata yang dimasukkan user, namun secara terbalik"
      ],
      "metadata": {
        "id": "APQarkzVsdM7"
      }
    },
    {
      "cell_type": "markdown",
      "source": [
        "No.2"
      ],
      "metadata": {
        "id": "aKzjPJtSgycf"
      }
    },
    {
      "cell_type": "code",
      "source": [
        "kata = 'abcdefghi'\n",
        "print(kata)\n",
        "for i in range (0,8):\n",
        "  print(kata[i:i+2])"
      ],
      "metadata": {
        "id": "FN81vQJqS3aG"
      },
      "execution_count": null,
      "outputs": []
    },
    {
      "cell_type": "markdown",
      "source": [
        "```\n",
        "kata = 'abcdefghi'\n",
        "```\n",
        "Memasukkan abcdefghi sesuai dengan soal\n",
        "```\n",
        "print(kata)\n",
        "```\n",
        "menampilkan kata agar user tau kata apa yang akan diubah urutannya\n",
        "```\n",
        "for i in range (0,8):\n",
        "```\n",
        "untuk huruf yang berada dalam index 0-8\n",
        "```\n",
        "print(kata[i:i+2])\n",
        "```\n",
        "huruf yang ada dalam range di atas akan di print bersama huruf setelahnya"
      ],
      "metadata": {
        "id": "ZmMwyBCAsnAb"
      }
    },
    {
      "cell_type": "code",
      "source": [
        "data = input(\"Masukkan kata : \")\n",
        "for i in range(len(data) - 1):\n",
        "  print(data[i:i+2])"
      ],
      "metadata": {
        "id": "l9qmqiq3fqTs"
      },
      "execution_count": null,
      "outputs": []
    },
    {
      "cell_type": "markdown",
      "source": [
        "```\n",
        "data = input(\"Masukkan kata : \")\n",
        "```\n",
        "meminta input suatu kata dari user\n",
        "```\n",
        "for i in range(len(data) - 1):\n",
        "```\n",
        "untuk huruf awal sampai huruf kedua terkahir dari kata tersebut\n",
        "```\n",
        "print(data[i:i+2])\n",
        "```\n",
        "huruf yang ada dalam range tersebut akan di print dengan huruf setelahnya"
      ],
      "metadata": {
        "id": "es6B_F82tUV7"
      }
    },
    {
      "cell_type": "markdown",
      "source": [
        "No.3"
      ],
      "metadata": {
        "id": "2CQNtvFNg0Mx"
      }
    },
    {
      "cell_type": "code",
      "source": [
        "text = 'Nama saya adalah Rita Sugiarto. Saya memiliki hobi menyanyi sejak kecil. Semua berawal dari mimpi ibu saya untuk memiliki putri seorang penyanyi. Saya berlatih vokal seminggu sekali dengan guru saya. Apabila saya menjadi juara satu dalam perlombaan menyanyi tingkat profinsi, ibu saya akan membelikan saya kado yang sangat istimewa.'\n",
        "\n",
        "mereka = text.count('Mereka')\n",
        "saya = text.count('saya')\n",
        "Saya = text.count('Saya')\n",
        "\n",
        "print(text)\n",
        "\n",
        "print(f\"Banyak kata Mereka dalam kalimat di atas adalah {mereka}, kata saya ada {saya}, dan kata Saya ada {Saya}\")"
      ],
      "metadata": {
        "id": "4Fn1dkDzY-uy"
      },
      "execution_count": null,
      "outputs": []
    },
    {
      "cell_type": "markdown",
      "source": [
        "```\n",
        "text = 'Nama saya adalah Rita Sugiarto. Saya memiliki hobi menyanyi sejak kecil. Semua berawal dari mimpi ibu saya untuk memiliki putri seorang penyanyi. Saya berlatih vokal seminggu sekali dengan guru saya. Apabila saya menjadi juara satu dalam perlombaan menyanyi tingkat profinsi, ibu saya akan membelikan saya kado yang sangat istimewa.'\n",
        "```\n",
        "memasukkan paragraf di soal sebagai variabel text\n",
        "```\n",
        "mereka = text.count('Mereka')\n",
        "```\n",
        "menghitung banyaknya kata mereka dalam text tersebut\n",
        "```\n",
        "saya = text.count('saya')\n",
        "```\n",
        "menghitung banyaknya kata saya dalam text tersebut\n",
        "```\n",
        "Saya = text.count('Saya')\n",
        "```\n",
        "menghitung banyaknya kata Saya (dengan huruf S kapital) dalam text tersebut\n",
        "```\n",
        "print(text)\n",
        "```\n",
        "menampilkan paragraf\n",
        "```\n",
        "print(f\"Banyak kata Mereka dalam kalimat di atas adalah {mereka}, kata saya ada {saya}, dan kata Saya ada {Saya}\")\n",
        "```\n",
        "menampilkan hasil hitungan kata yang telah dilakukan"
      ],
      "metadata": {
        "id": "EAjI4HNgZRSt"
      }
    }
  ]
}
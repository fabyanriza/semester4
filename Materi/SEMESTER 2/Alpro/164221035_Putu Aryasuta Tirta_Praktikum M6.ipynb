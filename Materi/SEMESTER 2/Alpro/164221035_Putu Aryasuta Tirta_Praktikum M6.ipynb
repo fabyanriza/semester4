{
 "cells": [
  {
   "attachments": {},
   "cell_type": "markdown",
   "metadata": {},
   "source": [
    "# **TUGAS PRAKTIKUM M6**\n",
    "#### NAMA    : Fabyan Riza Kiram\n",
    "#### NIM     : 164221068\n",
    "#### KELAS   : SD A-2"
   ]
  },
  {
   "cell_type": "code",
   "execution_count": null,
   "metadata": {},
   "outputs": [],
   "source": [
    "# No 1 contoh 1 utama\n",
    "a = 75\n",
    "b = 200\n",
    "if b > a:\n",
    " print (\"b lebih besar dari a\")\n",
    "if b > a: print (\"b lebih besar dari a\")"
   ]
  },
  {
   "attachments": {},
   "cell_type": "markdown",
   "metadata": {},
   "source": [
    "### Penjelasan \n",
    "```js\n",
    "a = 75\n",
    "b = 200\n",
    "if b > a:\n",
    " print (\"b lebih besar dari a\")\n",
    "if b > a: print (\"b lebih besar dari a\")\n",
    "```\n",
    "Pada baris pertama, variabel a dinyatakan dengan nilai 75, dan pada baris kedua, variabel b dinyatakan dengan nilai 200. Pada baris ketiga, program memeriksa apakah nilai variabel b lebih besar dari nilai variabel a menggunakan pernyataan \"if\". Jika kondisi tersebut benar, maka program akan mencetak pesan \"b lebih besar dari a\""
   ]
  },
  {
   "cell_type": "code",
   "execution_count": null,
   "metadata": {},
   "outputs": [],
   "source": [
    "# No 1 contoh 2\n",
    "a = 200\n",
    "b = 100\n",
    "c = 300\n",
    "if a > b and c > a:\n",
    " print (\"Pernyataan a > b and c > a benar\")\n",
    "else:\n",
    " print (\"Pernyataan a > b and c > a salah\")"
   ]
  },
  {
   "attachments": {},
   "cell_type": "markdown",
   "metadata": {},
   "source": [
    "# **Penjelasan Contoh 2**\n",
    "```js\n",
    "a = 200\n",
    "b = 100\n",
    "c = 300\n",
    "```\n",
    "Pada baris pertama, variabel a dinyatakan dengan nilai 200, dan pada baris kedua, variabel b dinyatakan dengan nilai 100. Kemudian, pada baris ketiga, variabel c dinyatakan dengan nilai 300.\n",
    "```js\n",
    "if a > b and c > a :\n",
    " print (\"Pernyataan a > b and c > a benar\")\n",
    " ```\n",
    "Pada baris keempat, program memeriksa apakah pernyataan a > b dan c > a benar atau tidak. Pernyataan ini adalah operasi logika \"dan\" (and) yang berarti bahwa kedua kondisi harus benar agar program mencetak pesan \"Pernyataan a > b and c > a benar\" . \n",
    "```js\n",
    "else:\n",
    " print (\"Pernyataan a > b and c > a salah\")\n",
    " ```\n",
    "Namun, jika salah satu atau kedua kondisi salah, maka program akan mencetak pesan \"Pernyataan a > b and c > a salah\" pada baris ke-enam menggunakan pernyataan \"else\".\n"
   ]
  },
  {
   "cell_type": "code",
   "execution_count": null,
   "metadata": {},
   "outputs": [],
   "source": [
    "# No 1 contoh 3\n",
    "num = 3.4\n",
    "if num > 0:\n",
    " print (\"Bilangan positif\")\n",
    "elif num == 0:\n",
    " print(\"Nol\")\n",
    "else:\n",
    " print (\"Bilangan negatif\")\n"
   ]
  },
  {
   "attachments": {},
   "cell_type": "markdown",
   "metadata": {},
   "source": [
    "# **Penjelasan contoh 3**\n",
    "\n",
    "```js\n",
    "num = 3.4\n",
    "```\n",
    "Pada baris pertama, variabel num dinyatakan dengan nilai 3.4.\n",
    "```js\n",
    "if num > 0:\n",
    " print (\"Bilangan positif\")\n",
    " ```\n",
    "Pada baris kedua, program memeriksa apakah nilai variabel num lebih besar dari 0 menggunakan pernyataan \"if\". Jika kondisi tersebut benar, maka program akan mencetak pesan \"Bilangan positif\".\n",
    "```js\n",
    "elif num == 0:\n",
    " print(\"Nol\")\n",
    " ```\n",
    "Jika kondisi pada pernyataan \"if\" tidak benar, maka program akan memeriksa kondisi berikutnya pada baris keempat menggunakan pernyataan \"elif\". Pada kondisi ini, program memeriksa apakah nilai variabel num sama dengan 0. Jika kondisi tersebut benar, maka program akan mencetak pesan \"Nol\" \n",
    "```js\n",
    "else:\n",
    " print (\"Bilangan negatif\")\n",
    " ```\n",
    "Jika kedua kondisi sebelumnya tidak benar, maka program akan menjalankan pernyataan \"else\" pada baris keenam dan mencetak pesan \"Bilangan negatif\" .\n"
   ]
  },
  {
   "cell_type": "code",
   "execution_count": null,
   "metadata": {},
   "outputs": [],
   "source": [
    "# No 1 contoh 3 modifikasi\n",
    "num = -7.5\n",
    "if num > 0:\n",
    " print (\"Bilangan positif\")\n",
    "elif num == 0:\n",
    " print(\"Nol\")\n",
    "else:\n",
    " print (\"Bilangan negatif\")\n"
   ]
  },
  {
   "attachments": {},
   "cell_type": "markdown",
   "metadata": {},
   "source": [
    "# **Penjelasan contoh 3 modifikasi**\n",
    "\n",
    "```js\n",
    "num = -7.5\n",
    "if num > 0:\n",
    " print (\"Bilangan positif\")\n",
    "elif num == 0:\n",
    " print(\"Nol\")\n",
    "else:\n",
    " print (\"Bilangan negatif\")\n",
    " ```\n",
    "Program ini merupakan program yang sama dari program diats, hanya saja nilai dari variabel num dirubah menjadi -7.5 yang akan merubah output karena variabel bernilai negatif akan masuk kedalam pernyataan \"else\"."
   ]
  },
  {
   "cell_type": "code",
   "execution_count": null,
   "metadata": {},
   "outputs": [],
   "source": [
    "# No 2\n",
    "while True:\n",
    "    x = input(\"Masukkan jarak yang anda ingin hitung dalam KM\\n ->\")\n",
    "    if x.isdecimal():\n",
    "        y = float(x)\n",
    "        if y < 5 :\n",
    "            print(\"Gratis Ongkir\")\n",
    "        elif 5<= y < 11 :\n",
    "            a = y*5000\n",
    "            print(\"Ongkos kirim dengan jarak\", y, \"Adalah Rp\", a) \n",
    "        elif 11<= y <=20 :\n",
    "            b = y*6000\n",
    "            print(\"Ongkos kirim dengan jarak\", y, \"Adalah Rp\", b)\n",
    "        elif y > 20 :\n",
    "            c = y*7000\n",
    "            print(\"Ongkos kirim dengan jarak\", y, \"Adalah Rp\", c)\n",
    "        break\n",
    "    else:\n",
    "        print(\"Masukkan jarak yang anda ingin hitung dalam KM dengan benar\")\n",
    "        continue\n"
   ]
  },
  {
   "attachments": {},
   "cell_type": "markdown",
   "metadata": {},
   "source": [
    "# **Penjelasan Soal Nomor 2**\n",
    "## *Buatlah program untuk menghitung ongkos kirim dari sebuah barang dengan syarat:*\n",
    "##### a. Jika jarak yang diinputkan lebih kecil dari 5 km maka biaya kirim gratis.\n",
    "##### b. Jika jarak yang diinputkan bernilai 5-10 km, maka biaya kirim dikalikan dengan 5000.\n",
    "##### c. Jika jarak yang diinputkan bernilai 11-20 km, maka biaya kirim dikalikan dengan 6000.\n",
    "##### d. Jika jarak yang diinputkan lebih dari 20 km, maka biaya kirim dikalikan dengan 7000.\n",
    "\n",
    "```js\n",
    "while True:\n",
    "```\n",
    "Mendefinisikan loop while yang akan berjalan selama kondisi True.\n",
    "```js\n",
    "x = input(\"Masukkan jarak yang anda ingin hitung dalam KM\\n ->\")\n",
    "```\n",
    "Menggunakan input() untuk meminta pengguna memasukkan jarak dalam kilometer yang ingin dihitung.\n",
    "```js\n",
    "if x.isdecimal():\n",
    "```\n",
    "Melakukan pengecekan apakah input yang diberikan adalah bilangan desimal menggunakan metode isdecimal(). Jika benar, maka kode akan lanjut ke baris 4-11. Jika tidak, maka kode akan masuk ke baris 12-13.\n",
    "```js\n",
    "y = float(x)\n",
    "```\n",
    "Mengonversi nilai input (string) ke integer dan menyimpannya dalam variabel y.\n",
    "```js\n",
    "if y < 5 :\n",
    "    print(\"Gratis Ongkir\")\n",
    "```\n",
    "Memeriksa apakah y kurang dari 5, dan mencetak \"Gratis Ongkir\" jika benar.\n",
    "```js\n",
    "elif 5<= y < 11 :\n",
    "    a = y*5000\n",
    "    print(\"Ongkos kirim dengan jarak\", y, \"Adalah Rp\", a) \n",
    "```\n",
    "Memeriksa apakah y antara 5 dan 11, dan menghitung biaya kirim menggunakan rumus y*5000. Kemudian mencetak pesan sesuai dengan biaya yang dihasilkan.\n",
    "```js\n",
    "elif 11<= y <=20 :\n",
    "    b = y*6000\n",
    "    print(\"Ongkos kirim dengan jarak\", y, \"Adalah Rp\", b)\n",
    "```\n",
    "Memeriksa apakah y antara 11 dan 20, dan menghitung biaya kirim menggunakan rumus y*6000. Kemudian mencetak pesan sesuai dengan biaya yang dihasilkan.\n",
    "```js\n",
    "elif y > 20 :\n",
    "    c = y*7000\n",
    "    print(\"Ongkos kirim dengan jarak\", y, \"Adalah Rp\", c)\n",
    "```\n",
    "Memeriksa apakah y lebih besar dari 20, dan menghitung biaya kirim menggunakan rumus y*7000. Kemudian mencetak pesan sesuai dengan biaya yang dihasilkan.\n",
    "```js\n",
    "break\n",
    "```\n",
    "Keluar dari loop while menggunakan break setelah kondisi True di baris 1 terpenuhi, yaitu saat pengguna memberikan input yang valid.\n",
    "```js\n",
    "else:\n",
    "    print(\"Masukkan jarak yang anda ingin hitung dalam KM dengan benar\")\n",
    "    continue\n",
    "```\n",
    "Jika input yang diberikan tidak valid pada baris 3, maka pesan \"Masukkan jarak yang anda ingin hitung dalam KM dengan benar\" akan dicetak.\n",
    "Loop akan melanjutkan ke awal dan meminta input kembali.\n",
    "Jika input yang diberikan masih tidak valid setelah pesan dicetak, maka loop akan kembali ke baris 2 dan meminta input kembali.\n",
    "\n",
    "\n",
    "\n",
    "\n"
   ]
  }
 ],
 "metadata": {
  "kernelspec": {
   "display_name": "Python 3",
   "language": "python",
   "name": "python3"
  },
  "language_info": {
   "codemirror_mode": {
    "name": "ipython",
    "version": 3
   },
   "file_extension": ".py",
   "mimetype": "text/x-python",
   "name": "python",
   "nbconvert_exporter": "python",
   "pygments_lexer": "ipython3",
   "version": "3.11.0"
  },
  "orig_nbformat": 4
 },
 "nbformat": 4,
 "nbformat_minor": 2
}
